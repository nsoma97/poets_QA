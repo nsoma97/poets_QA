{
 "cells": [
  {
   "cell_type": "code",
   "execution_count": 1,
   "metadata": {},
   "outputs": [],
   "source": [
    "import pandas as pd"
   ]
  },
  {
   "cell_type": "code",
   "execution_count": 2,
   "metadata": {},
   "outputs": [
    {
     "data": {
      "text/html": [
       "<div>\n",
       "<style scoped>\n",
       "    .dataframe tbody tr th:only-of-type {\n",
       "        vertical-align: middle;\n",
       "    }\n",
       "\n",
       "    .dataframe tbody tr th {\n",
       "        vertical-align: top;\n",
       "    }\n",
       "\n",
       "    .dataframe thead th {\n",
       "        text-align: right;\n",
       "    }\n",
       "</style>\n",
       "<table border=\"1\" class=\"dataframe\">\n",
       "  <thead>\n",
       "    <tr style=\"text-align: right;\">\n",
       "      <th></th>\n",
       "      <th>source</th>\n",
       "      <th>edge</th>\n",
       "      <th>destination</th>\n",
       "    </tr>\n",
       "  </thead>\n",
       "  <tbody>\n",
       "    <tr>\n",
       "      <th>0</th>\n",
       "      <td>{'name': 'Bencze József', 'wiki_url': '/wiki/B...</td>\n",
       "      <td>{'wikidata_id': 'P31', 'name': 'osztály, amely...</td>\n",
       "      <td>{'wikidata_id': 'Q5', 'name': 'ember', 'descri...</td>\n",
       "    </tr>\n",
       "    <tr>\n",
       "      <th>1</th>\n",
       "      <td>{'name': 'Bencze József', 'wiki_url': '/wiki/B...</td>\n",
       "      <td>{'wikidata_id': 'P21', 'name': 'nem', 'descrip...</td>\n",
       "      <td>{'wikidata_id': 'Q6581097', 'name': 'férfi', '...</td>\n",
       "    </tr>\n",
       "    <tr>\n",
       "      <th>2</th>\n",
       "      <td>{'name': 'Bencze József', 'wiki_url': '/wiki/B...</td>\n",
       "      <td>{'wikidata_id': 'P735', 'name': 'utónév', 'des...</td>\n",
       "      <td>{'wikidata_id': 'Q17498051', 'name': 'József',...</td>\n",
       "    </tr>\n",
       "    <tr>\n",
       "      <th>3</th>\n",
       "      <td>{'name': 'Bencze József', 'wiki_url': '/wiki/B...</td>\n",
       "      <td>{'wikidata_id': 'P570', 'name': 'halálozási id...</td>\n",
       "      <td>{'time': '+1988-02-02T00:00:00Z', 'timezone': ...</td>\n",
       "    </tr>\n",
       "    <tr>\n",
       "      <th>4</th>\n",
       "      <td>{'name': 'Bencze József', 'wiki_url': '/wiki/B...</td>\n",
       "      <td>{'wikidata_id': 'P106', 'name': 'foglalkozás',...</td>\n",
       "      <td>{'wikidata_id': 'Q49757', 'name': 'költő', 'de...</td>\n",
       "    </tr>\n",
       "  </tbody>\n",
       "</table>\n",
       "</div>"
      ],
      "text/plain": [
       "                                              source  \\\n",
       "0  {'name': 'Bencze József', 'wiki_url': '/wiki/B...   \n",
       "1  {'name': 'Bencze József', 'wiki_url': '/wiki/B...   \n",
       "2  {'name': 'Bencze József', 'wiki_url': '/wiki/B...   \n",
       "3  {'name': 'Bencze József', 'wiki_url': '/wiki/B...   \n",
       "4  {'name': 'Bencze József', 'wiki_url': '/wiki/B...   \n",
       "\n",
       "                                                edge  \\\n",
       "0  {'wikidata_id': 'P31', 'name': 'osztály, amely...   \n",
       "1  {'wikidata_id': 'P21', 'name': 'nem', 'descrip...   \n",
       "2  {'wikidata_id': 'P735', 'name': 'utónév', 'des...   \n",
       "3  {'wikidata_id': 'P570', 'name': 'halálozási id...   \n",
       "4  {'wikidata_id': 'P106', 'name': 'foglalkozás',...   \n",
       "\n",
       "                                         destination  \n",
       "0  {'wikidata_id': 'Q5', 'name': 'ember', 'descri...  \n",
       "1  {'wikidata_id': 'Q6581097', 'name': 'férfi', '...  \n",
       "2  {'wikidata_id': 'Q17498051', 'name': 'József',...  \n",
       "3  {'time': '+1988-02-02T00:00:00Z', 'timezone': ...  \n",
       "4  {'wikidata_id': 'Q49757', 'name': 'költő', 'de...  "
      ]
     },
     "execution_count": 2,
     "metadata": {},
     "output_type": "execute_result"
    }
   ],
   "source": [
    "triplets = pd.read_json('data/poet_triplets.json')\n",
    "triplets.head()"
   ]
  },
  {
   "cell_type": "code",
   "execution_count": 5,
   "metadata": {},
   "outputs": [],
   "source": [
    "edges = triplets.edge.apply(lambda d: d['name'])"
   ]
  },
  {
   "cell_type": "code",
   "execution_count": 21,
   "metadata": {},
   "outputs": [
    {
     "data": {
      "text/plain": [
       "Index(['foglalkozás', 'osztály, amelynek példánya', 'születési idő', 'nem',\n",
       "       'utónév', 'születési hely', 'halálozási idő', 'description',\n",
       "       'állampolgárság', 'VIAF-azonosító', '', 'WorldCat-azonosító', 'ISNI',\n",
       "       'díj', 'halálozási hely', 'PIM-névtér-azonosító', 'LCAuth-azonosító',\n",
       "       'családnév', 'OSZK-egységesítettnévalak', 'OSZK-azonosító (VIAF)',\n",
       "       'Magyar életrajzi lexikon-azonosító', 'kép', 'alias', 'beszélt nyelvek',\n",
       "       'Commons-kategória', 'GND-azonosító', 'leírást tartalmazó forrás',\n",
       "       'NUKAT-azonosító', 'BnF-azonosító', 'NTA-azonosító', 'alma mater',\n",
       "       'FAST-azonosító', 'Lengyel Nemzeti Könyvtár-azonosító', 'nyughely',\n",
       "       'NKC-azonosító', 'SUDOC-azonosító', 'tagság', 'vallás',\n",
       "       'Open Library-azonosító', 'munkáltató', 'Freebase-azonosító',\n",
       "       'házastárs', 'Magyar Nemzeti Névtér-személyazonosító',\n",
       "       'Google Tudásgráf-azonosító', 'nyughely képe', 'születési név',\n",
       "       'PORT.hu-személyazonosító', 'gyermek', 'CERL-azonosító',\n",
       "       'NLP-azonosító', 'IMDb-azonosító', 'beosztás', 'BIBSYS-azonosító',\n",
       "       'apa', 'testvér', 'CONOR.SI-azonosító', 'tevékenységi terület',\n",
       "       'emléktábla képe', 'SHARE Catalogue-szerzőazonosító', 'SELIBR',\n",
       "       'anyanyelvi neve', 'munkásságának helye',\n",
       "       'Store norske leksikon-azonosító', 'ČSFD-személyazonosító',\n",
       "       'Find a Grave-sírazonosító', 'aláírás',\n",
       "       'Gran Enciclopèdia Catalana-azonosító', 'anyanyelv',\n",
       "       'hivatalos weboldal', 'NLI-azonosító (Izrael)',\n",
       "       'műveinek szerzői jogi státusza', 'halál módja', 'halál oka',\n",
       "       'NSK-azonosító', 'Encyclopædia Britannica Online-azonosító',\n",
       "       'téma fő kategóriája', 'De Agostini-azonosító', 'politikai párt',\n",
       "       'KinoPoiszk-személyazonosító', 'BNE-azonosító',\n",
       "       'műveit tartalmazó gyűjtemény', 'MusicBrainz-művészazonosító',\n",
       "       'különbözik tőle', 'Nationalencyklopedin-azonosító', 'etnikai csoport',\n",
       "       'álnév', 'szerzetesrend', 'anya', 'NLA Trove-azonosító',\n",
       "       'Discogs-művészazonosító', 'Enciclopedia Treccani-azonosító',\n",
       "       'SNAC-azonosító', 'Project Gutenberg-szerzőazonosító',\n",
       "       'írott műveinek nyelve', 'rokon', 'IMSLP-azonosító',\n",
       "       'Encyclopædia Universalis-azonosító', 'BAV-azonosító',\n",
       "       'openMLOL-szerzőazonosító', 'műfaj'],\n",
       "      dtype='object', name='edge')"
      ]
     },
     "execution_count": 21,
     "metadata": {},
     "output_type": "execute_result"
    }
   ],
   "source": [
    "edges.groupby(by=edges).count().sort_values(ascending=False)[:100].index"
   ]
  },
  {
   "cell_type": "code",
   "execution_count": 3,
   "metadata": {},
   "outputs": [],
   "source": [
    "l = ['foglalkozás', 'születési idő', 'nem', 'születési hely', 'halálozási idő', 'állampolgárság', 'díj', 'halálozási hely', 'alias', 'beszélt nyelvek', 'születési név', 'nyughely', 'vallás', 'gyermek', 'tagság', 'halál oka', 'apa', 'testvér', 'anya', 'politikai párt']"
   ]
  },
  {
   "cell_type": "code",
   "execution_count": 5,
   "metadata": {},
   "outputs": [
    {
     "data": {
      "text/plain": [
       "{'halálozási_hely': 'P20',\n",
       " 'halál_oka': 'P509',\n",
       " 'születési_idő': 'P569',\n",
       " 'testvér': 'P3373',\n",
       " 'foglalkozás': 'P106',\n",
       " 'anya': 'P25',\n",
       " 'születési_hely': 'P19',\n",
       " 'beszélt_nyelvek': 'P1412',\n",
       " 'születési_név': 'P1477',\n",
       " 'nem': 'P21',\n",
       " 'politikai_párt': 'P102',\n",
       " 'gyermek': 'P40',\n",
       " 'nyughely': 'P119',\n",
       " 'apa': 'P22',\n",
       " 'díj': 'P166',\n",
       " 'alias': None,\n",
       " 'állampolgárság': 'P27',\n",
       " 'vallás': 'P140',\n",
       " 'tagság': 'P463',\n",
       " 'halálozási_idő': 'P570'}"
      ]
     },
     "execution_count": 5,
     "metadata": {},
     "output_type": "execute_result"
    }
   ],
   "source": [
    "dict(set([('_'.join(d['name'].split()), d['wikidata_id']) for d in triplets.edge.tolist() if d['name'] in l]))"
   ]
  },
  {
   "cell_type": "code",
   "execution_count": 50,
   "metadata": {},
   "outputs": [
    {
     "name": "stdout",
     "output_type": "stream",
     "text": [
      "foglalkozás\n",
      "- intent: születési_idő\n",
      "- intent: nem\n",
      "- intent: születési_hely\n",
      "- intent: halálozási_idő\n",
      "- intent: állampolgárság\n",
      "- intent: díj\n",
      "- intent: halálozási_hely\n",
      "- intent: alias\n",
      "- intent: beszélt_nyelvek\n",
      "- intent: születési_név\n",
      "- intent: nyughely\n",
      "- intent: vallás\n",
      "- intent: gyermek\n",
      "- intent: tagság\n",
      "- intent: halál_oka\n",
      "- intent: apa\n",
      "- intent: testvér\n",
      "- intent: anya\n",
      "- intent: politikai_párt\n"
     ]
    }
   ],
   "source": [
    "print('\\n- intent: '.join(['_'.join(i.split()) for i in l]))"
   ]
  },
  {
   "cell_type": "code",
   "execution_count": 24,
   "metadata": {},
   "outputs": [
    {
     "data": {
      "text/plain": [
       "20"
      ]
     },
     "execution_count": 24,
     "metadata": {},
     "output_type": "execute_result"
    }
   ],
   "source": [
    "len(l)"
   ]
  },
  {
   "cell_type": "code",
   "execution_count": 30,
   "metadata": {},
   "outputs": [],
   "source": [
    "f = triplets[triplets.edge.apply(lambda d: d['name'] in l)]"
   ]
  },
  {
   "cell_type": "code",
   "execution_count": 33,
   "metadata": {},
   "outputs": [
    {
     "data": {
      "text/plain": [
       "2019"
      ]
     },
     "execution_count": 33,
     "metadata": {},
     "output_type": "execute_result"
    }
   ],
   "source": [
    "f.source.apply(lambda d: d['name']).nunique()"
   ]
  },
  {
   "cell_type": "code",
   "execution_count": 40,
   "metadata": {},
   "outputs": [
    {
     "data": {
      "text/plain": [
       "<AxesSubplot:xlabel='source'>"
      ]
     },
     "execution_count": 40,
     "metadata": {},
     "output_type": "execute_result"
    },
    {
     "data": {
      "image/png": "[encoded data removed]",
      "text/plain": [
       "<Figure size 432x288 with 1 Axes>"
      ]
     },
     "metadata": {
      "needs_background": "light"
     },
     "output_type": "display_data"
    }
   ],
   "source": [
    "fs = f.source.apply(lambda d: d['name'])\n",
    "\n",
    "fs.groupby(by=fs).count().sort_values(ascending=False).plot()"
   ]
  },
  {
   "cell_type": "code",
   "execution_count": 47,
   "metadata": {},
   "outputs": [
    {
     "data": {
      "text/plain": [
       "edge\n",
       "alias               561\n",
       "anya                 30\n",
       "apa                  99\n",
       "beszélt nyelvek     558\n",
       "díj                1143\n",
       "foglalkozás        4289\n",
       "gyermek             139\n",
       "halál oka            41\n",
       "halálozási hely    1057\n",
       "halálozási idő     1463\n",
       "nem                2029\n",
       "nyughely            297\n",
       "politikai párt       35\n",
       "születési hely     1574\n",
       "születési idő      2029\n",
       "születési név       141\n",
       "tagság              222\n",
       "testvér              98\n",
       "vallás              217\n",
       "állampolgárság     1365\n",
       "Name: edge, dtype: int64"
      ]
     },
     "execution_count": 47,
     "metadata": {},
     "output_type": "execute_result"
    }
   ],
   "source": [
    "fe = f.edge.apply(lambda d: d['name'])\n",
    "\n",
    "fe.groupby(by=fe).count()"
   ]
  },
  {
   "cell_type": "code",
   "execution_count": 42,
   "metadata": {},
   "outputs": [
    {
     "data": {
      "text/plain": [
       "0                osztály, amelynek példánya\n",
       "1                                       nem\n",
       "2                                    utónév\n",
       "3                            halálozási idő\n",
       "4                               foglalkozás\n",
       "                        ...                \n",
       "41276                            alma mater\n",
       "41277                       gyermekek száma\n",
       "41278                       NUKAT-azonosító\n",
       "41279            Google Tudásgráf-azonosító\n",
       "41280    Lengyel Nemzeti Könyvtár-azonosító\n",
       "Name: edge, Length: 41281, dtype: object"
      ]
     },
     "execution_count": 42,
     "metadata": {},
     "output_type": "execute_result"
    }
   ],
   "source": [
    "edges"
   ]
  },
  {
   "cell_type": "code",
   "execution_count": 51,
   "metadata": {},
   "outputs": [
    {
     "name": "stderr",
     "output_type": "stream",
     "text": [
      "<ipython-input-51-ed5bf586256d>:1: SettingWithCopyWarning: \n",
      "A value is trying to be set on a copy of a slice from a DataFrame.\n",
      "Try using .loc[row_indexer,col_indexer] = value instead\n",
      "\n",
      "See the caveats in the documentation: https://pandas.pydata.org/pandas-docs/stable/user_guide/indexing.html#returning-a-view-versus-a-copy\n",
      "  f['edge_name'] = f.edge.apply(lambda d: d['name'])\n",
      "<ipython-input-51-ed5bf586256d>:2: SettingWithCopyWarning: \n",
      "A value is trying to be set on a copy of a slice from a DataFrame.\n",
      "Try using .loc[row_indexer,col_indexer] = value instead\n",
      "\n",
      "See the caveats in the documentation: https://pandas.pydata.org/pandas-docs/stable/user_guide/indexing.html#returning-a-view-versus-a-copy\n",
      "  f['source_name'] = f.source.apply(lambda d: d['name'])\n"
     ]
    }
   ],
   "source": [
    "f['edge_name'] = f.edge.apply(lambda d: d['name'])\n",
    "f['source_name'] = f.source.apply(lambda d: d['name'])"
   ]
  },
  {
   "cell_type": "code",
   "execution_count": 55,
   "metadata": {},
   "outputs": [
    {
     "data": {
      "text/plain": [
       "edge_name\n",
       "alias              [Blázy János, Blázy János, Fenyő László, Fenyő...\n",
       "anya               [Makkai Ádám, Fábri Péter, Kovács András Feren...\n",
       "apa                [Fekete János, Horusitzky Zoltán, Makkai Ádám,...\n",
       "beszélt nyelvek    [Szokolay Zoltán, Orbán Ottó, Ján Andrej Demia...\n",
       "díj                [Szokolay Zoltán, Szokolay Zoltán, Szokolay Zo...\n",
       "foglalkozás        [Bencze József, Erg Ágoston, Erg Ágoston, Szok...\n",
       "gyermek            [Chernel Ferenc, Fábri Pál, Makkai Ádám, Maksa...\n",
       "halál oka          [Szenes Hanna, Arany János, Nagy László, Károl...\n",
       "halálozási hely    [Bencze József, Blázy János, Orbán Ottó, Zakar...\n",
       "halálozási idő     [Bencze József, Erg Ágoston, Szokolay Zoltán, ...\n",
       "nem                [Bencze József, Erg Ágoston, Szokolay Zoltán, ...\n",
       "nyughely           [Kacsó Sándor, Toldalagi Pál, Bajor Andor, Roz...\n",
       "politikai párt     [Szokolay Zoltán, Szokolay Zoltán, Csoóri Sánd...\n",
       "születési hely     [Bencze József, Erg Ágoston, Szokolay Zoltán, ...\n",
       "születési idő      [Bencze József, Erg Ágoston, Szokolay Zoltán, ...\n",
       "születési név      [Fenyő László, Újváry Sándor, Rozványi Vilmos,...\n",
       "tagság             [Jeszenszky Danó, Deáky Zsigmond, Kiss Károly,...\n",
       "testvér            [Egyed Péter, Ráday Gedeon, Lászlóffy Aladár, ...\n",
       "vallás             [Édes Gergely, Raffay Sándor, Deáky Zsigmond, ...\n",
       "állampolgárság     [Bencze József, Erg Ágoston, Szokolay Zoltán, ...\n",
       "Name: source_name, dtype: object"
      ]
     },
     "execution_count": 55,
     "metadata": {},
     "output_type": "execute_result"
    }
   ],
   "source": [
    "fc = f.groupby(by='edge_name').source_name.apply(list)\n",
    "fc"
   ]
  },
  {
   "cell_type": "code",
   "execution_count": 60,
   "metadata": {},
   "outputs": [],
   "source": [
    "from random import sample\n",
    "\n",
    "fc_samp = fc.apply(lambda l: sample(l, 30))"
   ]
  },
  {
   "cell_type": "code",
   "execution_count": 72,
   "metadata": {},
   "outputs": [],
   "source": [
    "res = []\n",
    "\n",
    "for i, (edge, ll) in fc_samp.reset_index().iterrows():\n",
    "    for l in ll:\n",
    "        res.append([edge, l, f'[{l}]'])"
   ]
  },
  {
   "cell_type": "code",
   "execution_count": 73,
   "metadata": {},
   "outputs": [
    {
     "name": "stderr",
     "output_type": "stream",
     "text": [
      "<ipython-input-73-3f8a7311cb25>:1: FutureWarning: As the xlwt package is no longer maintained, the xlwt engine will be removed in a future version of pandas. This is the only engine in pandas that supports writing in the xls format. Install openpyxl and write to an xlsx file instead. You can set the option io.excel.xls.writer to 'xlwt' to silence this warning. While this option is deprecated and will also raise a warning, it can be globally set and the warning suppressed.\n",
      "  pd.DataFrame(res, columns=['edge', 'source', 'q']).to_excel('data/annotate.xls')\n"
     ]
    }
   ],
   "source": [
    "# pd.DataFrame(res, columns=['edge', 'source', 'q']).to_excel('data/annotate.xls')"
   ]
  },
  {
   "cell_type": "code",
   "execution_count": 75,
   "metadata": {},
   "outputs": [
    {
     "data": {
      "text/html": [
       "<div>\n",
       "<style scoped>\n",
       "    .dataframe tbody tr th:only-of-type {\n",
       "        vertical-align: middle;\n",
       "    }\n",
       "\n",
       "    .dataframe tbody tr th {\n",
       "        vertical-align: top;\n",
       "    }\n",
       "\n",
       "    .dataframe thead th {\n",
       "        text-align: right;\n",
       "    }\n",
       "</style>\n",
       "<table border=\"1\" class=\"dataframe\">\n",
       "  <thead>\n",
       "    <tr style=\"text-align: right;\">\n",
       "      <th></th>\n",
       "      <th>source</th>\n",
       "      <th>edge</th>\n",
       "      <th>destination</th>\n",
       "    </tr>\n",
       "  </thead>\n",
       "  <tbody>\n",
       "    <tr>\n",
       "      <th>109</th>\n",
       "      <td>{'name': 'Blázy János', 'wiki_url': '/wiki/Bl%...</td>\n",
       "      <td>{'name': 'alias', 'wikidata_id': None}</td>\n",
       "      <td>Idősebb Blázy János</td>\n",
       "    </tr>\n",
       "    <tr>\n",
       "      <th>110</th>\n",
       "      <td>{'name': 'Blázy János', 'wiki_url': '/wiki/Bl%...</td>\n",
       "      <td>{'name': 'alias', 'wikidata_id': None}</td>\n",
       "      <td>Id. Blahoszlav János</td>\n",
       "    </tr>\n",
       "    <tr>\n",
       "      <th>201</th>\n",
       "      <td>{'name': 'Fenyő László', 'wiki_url': '/wiki/Fe...</td>\n",
       "      <td>{'name': 'alias', 'wikidata_id': None}</td>\n",
       "      <td>László Fenyő</td>\n",
       "    </tr>\n",
       "    <tr>\n",
       "      <th>202</th>\n",
       "      <td>{'name': 'Fenyő László', 'wiki_url': '/wiki/Fe...</td>\n",
       "      <td>{'name': 'alias', 'wikidata_id': None}</td>\n",
       "      <td>Friedmann László</td>\n",
       "    </tr>\n",
       "    <tr>\n",
       "      <th>289</th>\n",
       "      <td>{'name': 'Ján Andrej Demian', 'wiki_url': '/wi...</td>\n",
       "      <td>{'name': 'alias', 'wikidata_id': None}</td>\n",
       "      <td>Demián János András</td>\n",
       "    </tr>\n",
       "    <tr>\n",
       "      <th>...</th>\n",
       "      <td>...</td>\n",
       "      <td>...</td>\n",
       "      <td>...</td>\n",
       "    </tr>\n",
       "    <tr>\n",
       "      <th>41189</th>\n",
       "      <td>{'name': 'Balázs F. Attila', 'wiki_url': '/wik...</td>\n",
       "      <td>{'name': 'alias', 'wikidata_id': None}</td>\n",
       "      <td>Attila Balázs F.</td>\n",
       "    </tr>\n",
       "    <tr>\n",
       "      <th>41190</th>\n",
       "      <td>{'name': 'Balázs F. Attila', 'wiki_url': '/wik...</td>\n",
       "      <td>{'name': 'alias', 'wikidata_id': None}</td>\n",
       "      <td>Attila Balazs</td>\n",
       "    </tr>\n",
       "    <tr>\n",
       "      <th>41191</th>\n",
       "      <td>{'name': 'Balázs F. Attila', 'wiki_url': '/wik...</td>\n",
       "      <td>{'name': 'alias', 'wikidata_id': None}</td>\n",
       "      <td>Attila Balazs F.</td>\n",
       "    </tr>\n",
       "    <tr>\n",
       "      <th>41239</th>\n",
       "      <td>{'name': 'Grecsó Krisztián', 'wiki_url': '/wik...</td>\n",
       "      <td>{'name': 'alias', 'wikidata_id': None}</td>\n",
       "      <td>Krisztián Grecsó</td>\n",
       "    </tr>\n",
       "    <tr>\n",
       "      <th>41240</th>\n",
       "      <td>{'name': 'Grecsó Krisztián', 'wiki_url': '/wik...</td>\n",
       "      <td>{'name': 'alias', 'wikidata_id': None}</td>\n",
       "      <td>Krisztian Grecso</td>\n",
       "    </tr>\n",
       "  </tbody>\n",
       "</table>\n",
       "<p>561 rows × 3 columns</p>\n",
       "</div>"
      ],
      "text/plain": [
       "                                                  source  \\\n",
       "109    {'name': 'Blázy János', 'wiki_url': '/wiki/Bl%...   \n",
       "110    {'name': 'Blázy János', 'wiki_url': '/wiki/Bl%...   \n",
       "201    {'name': 'Fenyő László', 'wiki_url': '/wiki/Fe...   \n",
       "202    {'name': 'Fenyő László', 'wiki_url': '/wiki/Fe...   \n",
       "289    {'name': 'Ján Andrej Demian', 'wiki_url': '/wi...   \n",
       "...                                                  ...   \n",
       "41189  {'name': 'Balázs F. Attila', 'wiki_url': '/wik...   \n",
       "41190  {'name': 'Balázs F. Attila', 'wiki_url': '/wik...   \n",
       "41191  {'name': 'Balázs F. Attila', 'wiki_url': '/wik...   \n",
       "41239  {'name': 'Grecsó Krisztián', 'wiki_url': '/wik...   \n",
       "41240  {'name': 'Grecsó Krisztián', 'wiki_url': '/wik...   \n",
       "\n",
       "                                         edge           destination  \n",
       "109    {'name': 'alias', 'wikidata_id': None}   Idősebb Blázy János  \n",
       "110    {'name': 'alias', 'wikidata_id': None}  Id. Blahoszlav János  \n",
       "201    {'name': 'alias', 'wikidata_id': None}          László Fenyő  \n",
       "202    {'name': 'alias', 'wikidata_id': None}      Friedmann László  \n",
       "289    {'name': 'alias', 'wikidata_id': None}   Demián János András  \n",
       "...                                       ...                   ...  \n",
       "41189  {'name': 'alias', 'wikidata_id': None}      Attila Balázs F.  \n",
       "41190  {'name': 'alias', 'wikidata_id': None}         Attila Balazs  \n",
       "41191  {'name': 'alias', 'wikidata_id': None}      Attila Balazs F.  \n",
       "41239  {'name': 'alias', 'wikidata_id': None}      Krisztián Grecsó  \n",
       "41240  {'name': 'alias', 'wikidata_id': None}      Krisztian Grecso  \n",
       "\n",
       "[561 rows x 3 columns]"
      ]
     },
     "execution_count": 75,
     "metadata": {},
     "output_type": "execute_result"
    }
   ],
   "source": [
    "triplets[triplets.edge.apply(lambda d: d['name'] == 'alias')]"
   ]
  },
  {
   "cell_type": "code",
   "execution_count": 5,
   "metadata": {},
   "outputs": [],
   "source": [
    "import pandas as pd"
   ]
  },
  {
   "cell_type": "code",
   "execution_count": 7,
   "metadata": {},
   "outputs": [],
   "source": [
    "annotated = pd.read_excel('data/annotate_parially_done.xls')"
   ]
  },
  {
   "cell_type": "code",
   "execution_count": 10,
   "metadata": {},
   "outputs": [],
   "source": [
    "annotated_filt = annotated[annotated.q.apply(lambda s: s.endswith('?'))]"
   ]
  },
  {
   "cell_type": "code",
   "execution_count": 23,
   "metadata": {},
   "outputs": [
    {
     "name": "stderr",
     "output_type": "stream",
     "text": [
      "<ipython-input-23-ab53f6e32ce2>:1: SettingWithCopyWarning: \n",
      "A value is trying to be set on a copy of a slice from a DataFrame.\n",
      "Try using .loc[row_indexer,col_indexer] = value instead\n",
      "\n",
      "See the caveats in the documentation: https://pandas.pydata.org/pandas-docs/stable/user_guide/indexing.html#returning-a-view-versus-a-copy\n",
      "  annotated_filt['q_filt'] = annotated_filt.q.str.replace('\\[.*\\]', 'MASK', regex=True).str.lower()\n"
     ]
    }
   ],
   "source": [
    "annotated_filt['q_filt'] = annotated_filt.q.str.replace('\\[.*\\]', 'MASK', regex=True).str.lower()"
   ]
  },
  {
   "cell_type": "code",
   "execution_count": 28,
   "metadata": {},
   "outputs": [],
   "source": [
    "ann_dict = annotated_filt.groupby(by='edge').q_filt.apply(list).to_dict()"
   ]
  },
  {
   "cell_type": "code",
   "execution_count": 36,
   "metadata": {},
   "outputs": [],
   "source": [
    "ann_lst = list(ann_dict.items())"
   ]
  },
  {
   "cell_type": "code",
   "execution_count": 40,
   "metadata": {},
   "outputs": [
    {
     "data": {
      "text/plain": [
       "[('alias',\n",
       "  ['mi mask álneve?',\n",
       "   'milyen álnéven alkotott mask?',\n",
       "   'milyen néven ismert még mask?',\n",
       "   'milyen néven ismert még mask?',\n",
       "   'mi mask álneve?',\n",
       "   'mask milyen neveken írt?',\n",
       "   'mi mask alkotói neve?',\n",
       "   'milyen néven ismert még mask?',\n",
       "   'mik mask álnevei?',\n",
       "   'mi mask másik neve?',\n",
       "   'milyen néven ismert mask?',\n",
       "   'mask más ismert nevei?',\n",
       "   'mask egyéb nevei?',\n",
       "   'milyen néven ismert még mask?',\n",
       "   'hogy nevezik maskt más nevén?',\n",
       "   'milyen néven ismert még mask?',\n",
       "   'mask más nevei?',\n",
       "   'mask egyéb ismert nevei?',\n",
       "   'milyen nevei vannak még masknek?']),\n",
       " ('anya',\n",
       "  ['ki mask anyja?',\n",
       "   'ki mask édesanyja?',\n",
       "   'hogy hívják mask édesanyját?',\n",
       "   'hogy hívták mask édesanyját?',\n",
       "   'ki volt mask édesanyja?',\n",
       "   'ki mask anyukája?',\n",
       "   'mi mask édesanyjának neve?',\n",
       "   'ki volt mask anyja?',\n",
       "   'ki az anyja masknak?',\n",
       "   'hogy hívják mask anyját?',\n",
       "   'ki az édesanyja masknak?',\n",
       "   'ki mask édesanyja?',\n",
       "   'mi mask anyjának neve?',\n",
       "   'mi mask édesanyjának neve?',\n",
       "   'ki mask anyukája?',\n",
       "   'hogy nevezték mask édesanyját?',\n",
       "   'ki mask apja?']),\n",
       " ('apa',\n",
       "  ['ki mask édesapja?',\n",
       "   'mi mask apjának neve?',\n",
       "   'hogy hívták mask édesapját?',\n",
       "   'ki volt mask apja?',\n",
       "   'hogy hívták mask édesapját?',\n",
       "   'mi mask édesapjának neve?',\n",
       "   'mask apjának neve?',\n",
       "   'hogyan nevezték mask édesapját?',\n",
       "   'mi mask apjának neve?',\n",
       "   'hogy hívták mask édesapját?',\n",
       "   'ki mask apukája?']),\n",
       " ('beszélt nyelvek',\n",
       "  ['milyen nyelveken beszélt mask?',\n",
       "   'milyen nyelveket ismert mask?',\n",
       "   'mik mask beszélt nyelvei?',\n",
       "   'milyen idegen nyelveken beszél mask?',\n",
       "   'mik a mask által ismert nyelvek?',\n",
       "   'milyen idegen nyelveken beszélt mask?',\n",
       "   'mask milyen nyelveken tudott?',\n",
       "   'mik mask ismert nyelvei?',\n",
       "   'milyen nyelveken tudott mask?']),\n",
       " ('díj',\n",
       "  ['milyen díjakat nyert mask?',\n",
       "   'milyen elismeréseket szerzett mask?',\n",
       "   'mik mask által nyert díjak?',\n",
       "   'mask díjai?',\n",
       "   'milyen kitüntetést nyert mask?',\n",
       "   'mask kitüntetései?',\n",
       "   'milyen kitüntetést nyert mask?',\n",
       "   'milyen díjjal tüntették ki maskt?',\n",
       "   'mivel tüntették ki maskt?',\n",
       "   'mask által nyert díjak?',\n",
       "   'miket nyert mask?',\n",
       "   'mask nyert valamilyen díjat?',\n",
       "   'milyen kitüntetései vannak masknak?',\n",
       "   'mask díjai?',\n",
       "   'mask elismerései?',\n",
       "   'mask által nyert díjak?']),\n",
       " ('foglalkozás',\n",
       "  ['mivel fogalkozott mask?',\n",
       "   'mi mask foglalkozása?',\n",
       "   'miről ismert mask?',\n",
       "   'mask hivatása?',\n",
       "   'mik mask foglalkozásai?',\n",
       "   'mi mask szakmája?',\n",
       "   'mivel foglalkozott mask?',\n",
       "   'miről ismert mask?',\n",
       "   'mivel foglalkozik mask?',\n",
       "   'mi mask foglalkozása?',\n",
       "   'mi a hivatása masknak?']),\n",
       " ('gyermek',\n",
       "  ['voltak gyerekei masknak?',\n",
       "   'ki mask gyereke?',\n",
       "   'kik mask gyerekei?',\n",
       "   'kik mask gyermekei?',\n",
       "   'születtt masknak gyermeke?',\n",
       "   'született masknak gyereke?',\n",
       "   'ki volt mask gyermekei?']),\n",
       " ('halál oka',\n",
       "  ['miben halt meg mask?',\n",
       "   'hogyan halt meg mask?',\n",
       "   'mi mask halálának oka?',\n",
       "   'miben hunyt el mask?',\n",
       "   'mi mask halálának oka?',\n",
       "   'miért hunyt el mask?',\n",
       "   'mi mask halálának oka?',\n",
       "   'mask hogyan hunyt el?',\n",
       "   'miben lelte halálát mask?']),\n",
       " ('halálozási hely',\n",
       "  ['hol halt meg mask?',\n",
       "   'mi mask halálozási helye?',\n",
       "   'hol hunyt el mask?',\n",
       "   'hol hunyt el mask?']),\n",
       " ('halálozási idő',\n",
       "  ['mikor halt meg mask?',\n",
       "   'meddig élt mask?',\n",
       "   'mikor hunyt el mask?',\n",
       "   'milyen régen halt meg mask?',\n",
       "   'mikor hunyt el mask?',\n",
       "   'mi mask halálozási dátuma?',\n",
       "   'mikor halt meg mask?']),\n",
       " ('nem', ['mi mask neve?', 'mask neme férfi?', 'milyen nemű mask?']),\n",
       " ('nyughely',\n",
       "  ['hol nyugszik mask?',\n",
       "   'hol temették el mask?',\n",
       "   'hol található mask sírja?',\n",
       "   'hol nyugszik mask?',\n",
       "   'hol van mask sírja?']),\n",
       " ('politikai párt',\n",
       "  ['milyen pártnak volt a tagja mask?',\n",
       "   'mask párttagsága?',\n",
       "   'milyen párt tagja mask?',\n",
       "   'mask politikai hovatartozása?',\n",
       "   'mi mask párttagsága?',\n",
       "   'mask politikai hovatartozása?',\n",
       "   'mask milyen párt tagja?',\n",
       "   'milyen párt része  mask?']),\n",
       " ('születési hely',\n",
       "  ['hol született mask?',\n",
       "   'mi mask születési helye?',\n",
       "   'hol látott napvilágot mask?',\n",
       "   'mask születési helye?',\n",
       "   'melyik városban született mask?',\n",
       "   'hol született mask?',\n",
       "   'mi mask születési helye?']),\n",
       " ('születési név',\n",
       "  ['milyen néven született mask?',\n",
       "   'mask születési neve?',\n",
       "   'mask milyen néven született?',\n",
       "   'milyen néven született mask?',\n",
       "   'mi mask korábbi neve?',\n",
       "   'mi mask korábban használt neve?',\n",
       "   'mask születéskori neve?']),\n",
       " ('tagság',\n",
       "  ['milyen szervezet tagja volt mask?',\n",
       "   'minek tagja mask?',\n",
       "   'milyen intézmény tagja mask?',\n",
       "   'minek a tagja mask?',\n",
       "   'milyen szervezetben tavékenykedett mask?']),\n",
       " ('testvér',\n",
       "  ['ki volt mask testvére?',\n",
       "   'voltak masknak testvérei?',\n",
       "   'mask testvérei?',\n",
       "   'ki mask testvére?',\n",
       "   'ki volt  mask testvére?']),\n",
       " ('vallás',\n",
       "  ['milyen vallású mask?',\n",
       "   'milyen egyházhoz tartozott mask?',\n",
       "   'mask vallása?',\n",
       "   'milyen felekezethez tartozott mask?',\n",
       "   'mi vallási hovatartozása masknak?',\n",
       "   'miben hitt mask?']),\n",
       " ('állampolgárság',\n",
       "  ['milyen állampolgárságú mask?',\n",
       "   'melyik nemzet tagja mask?',\n",
       "   'melyik nemzet szülötte mask?',\n",
       "   'mi mask állampolgársága?',\n",
       "   'milyen állam polgára mask?',\n",
       "   'milyen állampolgárságú mask?',\n",
       "   'mely állam szülötte mask?',\n",
       "   'mask állampolgársága?'])]"
      ]
     },
     "execution_count": 40,
     "metadata": {},
     "output_type": "execute_result"
    }
   ],
   "source": [
    "ann_lst"
   ]
  },
  {
   "cell_type": "code",
   "execution_count": 41,
   "metadata": {},
   "outputs": [],
   "source": [
    "import yaml\n",
    "\n",
    "f = open('data/annotated.yaml', 'w+')\n",
    "\n",
    "yaml.dump(ann_dict, f, allow_unicode=True)"
   ]
  },
  {
   "cell_type": "code",
   "execution_count": null,
   "metadata": {},
   "outputs": [],
   "source": []
  }
 ],
 "metadata": {
  "kernelspec": {
   "display_name": "Python 3",
   "language": "python",
   "name": "python3"
  },
  "language_info": {
   "codemirror_mode": {
    "name": "ipython",
    "version": 3
   },
   "file_extension": ".py",
   "mimetype": "text/x-python",
   "name": "python",
   "nbconvert_exporter": "python",
   "pygments_lexer": "ipython3",
   "version": "3.8.2"
  }
 },
 "nbformat": 4,
 "nbformat_minor": 4
}
