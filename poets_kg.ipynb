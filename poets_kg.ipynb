{
 "cells": [
  {
   "cell_type": "code",
   "execution_count": 21,
   "metadata": {},
   "outputs": [],
   "source": [
    "import pandas as pd\n",
    "from tqdm import tqdm"
   ]
  },
  {
   "cell_type": "markdown",
   "metadata": {
    "pycharm": {
     "name": "#%% md\n"
    }
   },
   "source": [
    "# Get entities"
   ]
  },
  {
   "cell_type": "code",
   "execution_count": 1,
   "metadata": {
    "pycharm": {
     "name": "#%%\n"
    }
   },
   "outputs": [],
   "source": [
    "from kg_tools.wikitools import get_entities_of_category"
   ]
  },
  {
   "cell_type": "code",
   "execution_count": 2,
   "metadata": {
    "pycharm": {
     "name": "#%%\n"
    }
   },
   "outputs": [],
   "source": [
    "BASE_CAT_URL = 'https://hu.wikipedia.org/w/index.php?title=Kateg%C3%B3ria:Magyar_k%C3%B6lt%C5%91k&from=A'"
   ]
  },
  {
   "cell_type": "code",
   "execution_count": null,
   "metadata": {},
   "outputs": [
    {
     "name": "stdout",
     "output_type": "stream",
     "text": [
      "Vitéz Ferenc failed.\n",
      "Bék Timur failed.\n",
      "Halmi Tibor failed.\n"
     ]
    }
   ],
   "source": [
    "entity_df = get_entities_of_category(BASE_CAT_URL)\n",
    "entity_df"
   ]
  },
  {
   "cell_type": "code",
   "execution_count": null,
   "outputs": [],
   "source": [
    "entity_df['wikidata_id'] = entity_df.wikidata_url.apply(lambda s: s.split('/')[-1])"
   ],
   "metadata": {
    "collapsed": false,
    "pycharm": {
     "name": "#%%\n"
    }
   }
  },
  {
   "cell_type": "code",
   "execution_count": null,
   "outputs": [],
   "source": [
    "entity_df"
   ],
   "metadata": {
    "collapsed": false,
    "pycharm": {
     "name": "#%%\n"
    }
   }
  },
  {
   "cell_type": "code",
   "execution_count": null,
   "outputs": [],
   "source": [
    "entity_df.to_json('data/poet_entites.json', orient='records')"
   ],
   "metadata": {
    "collapsed": false,
    "pycharm": {
     "name": "#%%\n"
    }
   }
  },
  {
   "cell_type": "markdown",
   "source": [
    "# Get triplets"
   ],
   "metadata": {
    "collapsed": false
   }
  },
  {
   "cell_type": "code",
   "execution_count": null,
   "outputs": [],
   "source": [
    "from kg_tools.kg_creation import triplet_for_id"
   ],
   "metadata": {
    "collapsed": false,
    "pycharm": {
     "name": "#%%\n"
    }
   }
  },
  {
   "cell_type": "code",
   "execution_count": null,
   "outputs": [],
   "source": [
    "entity_df = pd.read_json('data/poet_entites.json', orient='records')"
   ],
   "metadata": {
    "collapsed": false,
    "pycharm": {
     "name": "#%%\n"
    }
   }
  },
  {
   "cell_type": "code",
   "execution_count": null,
   "outputs": [],
   "source": [
    "poet_ids = entity_df.wikidata_id.unique().tolist()"
   ],
   "metadata": {
    "collapsed": false,
    "pycharm": {
     "name": "#%%\n"
    }
   }
  },
  {
   "cell_type": "code",
   "execution_count": null,
   "outputs": [],
   "source": [
    "triplets = []\n",
    "\n",
    "for _id in tqdm(poet_ids):\n",
    "    triplets.append(triplet_for_id(_id))\n",
    "    \n",
    "triplets_df = pd.concat(triplets)"
   ],
   "metadata": {
    "collapsed": false,
    "pycharm": {
     "name": "#%%\n"
    }
   }
  },
  {
   "cell_type": "code",
   "execution_count": null,
   "outputs": [],
   "source": [
    "triplets_df.to_json('data/poet_triplets.json', orient='records')"
   ],
   "metadata": {
    "collapsed": false,
    "pycharm": {
     "name": "#%%\n"
    }
   }
  },
  {
   "cell_type": "markdown",
   "source": [
    "# Query edge properties"
   ],
   "metadata": {
    "collapsed": false
   }
  },
  {
   "cell_type": "code",
   "execution_count": 13,
   "metadata": {},
   "outputs": [],
   "source": []
  },
  {
   "cell_type": "code",
   "execution_count": 14,
   "metadata": {},
   "outputs": [
    {
     "data": {
      "text/html": [
       "<div>\n",
       "<style scoped>\n",
       "    .dataframe tbody tr th:only-of-type {\n",
       "        vertical-align: middle;\n",
       "    }\n",
       "\n",
       "    .dataframe tbody tr th {\n",
       "        vertical-align: top;\n",
       "    }\n",
       "\n",
       "    .dataframe thead th {\n",
       "        text-align: right;\n",
       "    }\n",
       "</style>\n",
       "<table border=\"1\" class=\"dataframe\">\n",
       "  <thead>\n",
       "    <tr style=\"text-align: right;\">\n",
       "      <th></th>\n",
       "      <th>name</th>\n",
       "      <th>wiki_url</th>\n",
       "      <th>wikidata_url</th>\n",
       "      <th>wikidata_id</th>\n",
       "    </tr>\n",
       "  </thead>\n",
       "  <tbody>\n",
       "    <tr>\n",
       "      <th>0</th>\n",
       "      <td>Bencze József (költő)</td>\n",
       "      <td>/wiki/Bencze_J%C3%B3zsef_(k%C3%B6lt%C5%91)</td>\n",
       "      <td>https://www.wikidata.org/wiki/Special:EntityPa...</td>\n",
       "      <td>Q17361654</td>\n",
       "    </tr>\n",
       "    <tr>\n",
       "      <th>1</th>\n",
       "      <td>Erg Ágoston</td>\n",
       "      <td>/wiki/Erg_%C3%81goston</td>\n",
       "      <td>https://www.wikidata.org/wiki/Special:EntityPa...</td>\n",
       "      <td>Q990595</td>\n",
       "    </tr>\n",
       "    <tr>\n",
       "      <th>2</th>\n",
       "      <td>Szokolay Zoltán</td>\n",
       "      <td>/wiki/Szokolay_Zolt%C3%A1n</td>\n",
       "      <td>https://www.wikidata.org/wiki/Special:EntityPa...</td>\n",
       "      <td>Q1299686</td>\n",
       "    </tr>\n",
       "    <tr>\n",
       "      <th>3</th>\n",
       "      <td>Payer Imre (költő)</td>\n",
       "      <td>/wiki/Payer_Imre_(k%C3%B6lt%C5%91)</td>\n",
       "      <td>https://www.wikidata.org/wiki/Special:EntityPa...</td>\n",
       "      <td>Q1231706</td>\n",
       "    </tr>\n",
       "    <tr>\n",
       "      <th>4</th>\n",
       "      <td>Nógrádi Gábor</td>\n",
       "      <td>/wiki/N%C3%B3gr%C3%A1di_G%C3%A1bor</td>\n",
       "      <td>https://www.wikidata.org/wiki/Special:EntityPa...</td>\n",
       "      <td>Q1221507</td>\n",
       "    </tr>\n",
       "    <tr>\n",
       "      <th>...</th>\n",
       "      <td>...</td>\n",
       "      <td>...</td>\n",
       "      <td>...</td>\n",
       "      <td>...</td>\n",
       "    </tr>\n",
       "    <tr>\n",
       "      <th>2049</th>\n",
       "      <td>Fekete Tivadar</td>\n",
       "      <td>/wiki/Fekete_Tivadar</td>\n",
       "      <td>https://www.wikidata.org/wiki/Special:EntityPa...</td>\n",
       "      <td>Q998206</td>\n",
       "    </tr>\n",
       "    <tr>\n",
       "      <th>2050</th>\n",
       "      <td>Erődi Dániel József</td>\n",
       "      <td>/wiki/Er%C5%91di_D%C3%A1niel_J%C3%B3zsef</td>\n",
       "      <td>https://www.wikidata.org/wiki/Special:EntityPa...</td>\n",
       "      <td>Q991159</td>\n",
       "    </tr>\n",
       "    <tr>\n",
       "      <th>2051</th>\n",
       "      <td>Balázs F. Attila</td>\n",
       "      <td>/wiki/Bal%C3%A1zs_F._Attila</td>\n",
       "      <td>https://www.wikidata.org/wiki/Special:EntityPa...</td>\n",
       "      <td>Q789844</td>\n",
       "    </tr>\n",
       "    <tr>\n",
       "      <th>2052</th>\n",
       "      <td>Babik József</td>\n",
       "      <td>/wiki/Babik_J%C3%B3zsef</td>\n",
       "      <td>https://www.wikidata.org/wiki/Special:EntityPa...</td>\n",
       "      <td>Q787889</td>\n",
       "    </tr>\n",
       "    <tr>\n",
       "      <th>2053</th>\n",
       "      <td>Grecsó Krisztián</td>\n",
       "      <td>/wiki/Grecs%C3%B3_Kriszti%C3%A1n</td>\n",
       "      <td>https://www.wikidata.org/wiki/Special:EntityPa...</td>\n",
       "      <td>Q1028079</td>\n",
       "    </tr>\n",
       "  </tbody>\n",
       "</table>\n",
       "<p>2054 rows × 4 columns</p>\n",
       "</div>"
      ],
      "text/plain": [
       "                       name                                    wiki_url  \\\n",
       "0     Bencze József (költő)  /wiki/Bencze_J%C3%B3zsef_(k%C3%B6lt%C5%91)   \n",
       "1               Erg Ágoston                      /wiki/Erg_%C3%81goston   \n",
       "2           Szokolay Zoltán                  /wiki/Szokolay_Zolt%C3%A1n   \n",
       "3        Payer Imre (költő)          /wiki/Payer_Imre_(k%C3%B6lt%C5%91)   \n",
       "4             Nógrádi Gábor          /wiki/N%C3%B3gr%C3%A1di_G%C3%A1bor   \n",
       "...                     ...                                         ...   \n",
       "2049         Fekete Tivadar                        /wiki/Fekete_Tivadar   \n",
       "2050    Erődi Dániel József    /wiki/Er%C5%91di_D%C3%A1niel_J%C3%B3zsef   \n",
       "2051       Balázs F. Attila                 /wiki/Bal%C3%A1zs_F._Attila   \n",
       "2052           Babik József                     /wiki/Babik_J%C3%B3zsef   \n",
       "2053       Grecsó Krisztián            /wiki/Grecs%C3%B3_Kriszti%C3%A1n   \n",
       "\n",
       "                                           wikidata_url wikidata_id  \n",
       "0     https://www.wikidata.org/wiki/Special:EntityPa...   Q17361654  \n",
       "1     https://www.wikidata.org/wiki/Special:EntityPa...     Q990595  \n",
       "2     https://www.wikidata.org/wiki/Special:EntityPa...    Q1299686  \n",
       "3     https://www.wikidata.org/wiki/Special:EntityPa...    Q1231706  \n",
       "4     https://www.wikidata.org/wiki/Special:EntityPa...    Q1221507  \n",
       "...                                                 ...         ...  \n",
       "2049  https://www.wikidata.org/wiki/Special:EntityPa...     Q998206  \n",
       "2050  https://www.wikidata.org/wiki/Special:EntityPa...     Q991159  \n",
       "2051  https://www.wikidata.org/wiki/Special:EntityPa...     Q789844  \n",
       "2052  https://www.wikidata.org/wiki/Special:EntityPa...     Q787889  \n",
       "2053  https://www.wikidata.org/wiki/Special:EntityPa...    Q1028079  \n",
       "\n",
       "[2054 rows x 4 columns]"
      ]
     },
     "execution_count": 14,
     "metadata": {},
     "output_type": "execute_result"
    }
   ],
   "source": [
    "entity_df"
   ]
  },
  {
   "cell_type": "code",
   "execution_count": 15,
   "metadata": {},
   "outputs": [],
   "source": [
    "entity_df.to_json('data/poet_entites.json', orient='records')"
   ]
  },
  {
   "cell_type": "markdown",
   "metadata": {},
   "source": [
    "# Get triplets"
   ]
  },
  {
   "cell_type": "code",
   "execution_count": 16,
   "metadata": {},
   "outputs": [],
   "source": [
    "from kg_tools.kg_creation import triplet_for_id"
   ]
  },
  {
   "cell_type": "code",
   "execution_count": 17,
   "metadata": {},
   "outputs": [],
   "source": [
    "entity_df = pd.read_json('data/poet_entites.json', orient='records')"
   ]
  },
  {
   "cell_type": "code",
   "execution_count": 20,
   "metadata": {},
   "outputs": [],
   "source": [
    "poet_ids = entity_df.wikidata_id.unique().tolist()"
   ]
  },
  {
   "cell_type": "code",
   "execution_count": 22,
   "metadata": {},
   "outputs": [
    {
     "name": "stderr",
     "output_type": "stream",
     "text": [
      "100%|██████████| 2053/2053 [15:31<00:00,  2.20it/s]\n"
     ]
    }
   ],
   "source": [
    "triplets = []\n",
    "\n",
    "for _id in tqdm(poet_ids):\n",
    "    triplets.append(triplet_for_id(_id))\n",
    "    \n",
    "triplets_df = pd.concat(triplets)"
   ]
  },
  {
   "cell_type": "code",
   "execution_count": 23,
   "metadata": {},
   "outputs": [],
   "source": [
    "triplets_df.to_json('data/poet_triplets.json', orient='records')"
   ]
  },
  {
   "cell_type": "markdown",
   "metadata": {},
   "source": [
    "# Query edge properties"
   ]
  },
  {
   "cell_type": "code",
   "execution_count": null,
   "metadata": {},
   "outputs": [],
   "source": []
  }
 ],
 "metadata": {
  "kernelspec": {
   "display_name": "Python 3",
   "language": "python",
   "name": "python3"
  },
  "language_info": {
   "codemirror_mode": {
    "name": "ipython",
    "version": 3
   },
   "file_extension": ".py",
   "mimetype": "text/x-python",
   "name": "python",
   "nbconvert_exporter": "python",
   "pygments_lexer": "ipython3",
   "version": "3.8.2"
  }
 },
 "nbformat": 4,
 "nbformat_minor": 4
}