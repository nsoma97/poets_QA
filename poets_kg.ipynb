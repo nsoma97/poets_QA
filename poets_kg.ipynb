{
 "cells": [
  {
   "cell_type": "code",
   "execution_count": 2,
   "metadata": {},
   "outputs": [],
   "source": [
    "import pandas as pd\n",
    "from tqdm import tqdm"
   ]
  },
  {
   "cell_type": "markdown",
   "metadata": {
    "pycharm": {
     "name": "#%% md\n"
    }
   },
   "source": [
    "# Get entities"
   ]
  },
  {
   "cell_type": "code",
   "execution_count": 1,
   "metadata": {
    "pycharm": {
     "name": "#%%\n"
    }
   },
   "outputs": [],
   "source": [
    "from kg_tools.wikitools import get_entities_of_category"
   ]
  },
  {
   "cell_type": "code",
   "execution_count": 2,
   "metadata": {
    "pycharm": {
     "name": "#%%\n"
    }
   },
   "outputs": [],
   "source": [
    "BASE_CAT_URL = 'https://hu.wikipedia.org/w/index.php?title=Kateg%C3%B3ria:Magyar_k%C3%B6lt%C5%91k&from=A'"
   ]
  },
  {
   "cell_type": "code",
   "execution_count": null,
   "metadata": {},
   "outputs": [
    {
     "name": "stdout",
     "output_type": "stream",
     "text": [
      "Vitéz Ferenc failed.\n",
      "Bék Timur failed.\n",
      "Halmi Tibor failed.\n"
     ]
    }
   ],
   "source": [
    "entity_df = get_entities_of_category(BASE_CAT_URL)\n",
    "entity_df"
   ]
  },
  {
   "cell_type": "code",
   "execution_count": null,
   "metadata": {
    "pycharm": {
     "name": "#%%\n"
    }
   },
   "outputs": [],
   "source": [
    "entity_df['wikidata_id'] = entity_df.wikidata_url.apply(lambda s: s.split('/')[-1])"
   ]
  },
  {
   "cell_type": "code",
   "execution_count": null,
   "metadata": {
    "pycharm": {
     "name": "#%%\n"
    }
   },
   "outputs": [],
   "source": [
    "entity_df"
   ]
  },
  {
   "cell_type": "code",
   "execution_count": null,
   "metadata": {
    "pycharm": {
     "name": "#%%\n"
    }
   },
   "outputs": [],
   "source": [
    "entity_df.to_json('data/poet_entites.json', orient='records')"
   ]
  },
  {
   "cell_type": "markdown",
   "metadata": {},
   "source": [
    "# Get triplets"
   ]
  },
  {
   "cell_type": "code",
   "execution_count": 16,
   "metadata": {},
   "outputs": [],
   "source": [
    "from kg_tools.kg_creation import triplet_for_id"
   ]
  },
  {
   "cell_type": "code",
   "execution_count": 17,
   "metadata": {},
   "outputs": [],
   "source": [
    "entity_df = pd.read_json('data/poet_entites.json', orient='records')"
   ]
  },
  {
   "cell_type": "code",
   "execution_count": 20,
   "metadata": {},
   "outputs": [],
   "source": [
    "poet_ids = entity_df.wikidata_id.unique().tolist()"
   ]
  },
  {
   "cell_type": "code",
   "execution_count": 22,
   "metadata": {},
   "outputs": [
    {
     "name": "stderr",
     "output_type": "stream",
     "text": [
      "100%|██████████| 2053/2053 [15:31<00:00,  2.20it/s]\n"
     ]
    }
   ],
   "source": [
    "triplets = []\n",
    "\n",
    "for _id in tqdm(poet_ids):\n",
    "    triplets.append(triplet_for_id(_id))\n",
    "    \n",
    "triplets_df = pd.concat(triplets)"
   ]
  },
  {
   "cell_type": "code",
   "execution_count": 23,
   "metadata": {},
   "outputs": [],
   "source": [
    "triplets_df.to_json('data/poet_triplets.json', orient='records')"
   ]
  },
  {
   "cell_type": "markdown",
   "metadata": {},
   "source": [
    "# Query edge properties"
   ]
  },
  {
   "cell_type": "code",
   "execution_count": 1,
   "metadata": {},
   "outputs": [],
   "source": [
    "from kg_tools.kg_creation import get_properties"
   ]
  },
  {
   "cell_type": "code",
   "execution_count": 3,
   "metadata": {},
   "outputs": [
    {
     "data": {
      "text/html": [
       "<div>\n",
       "<style scoped>\n",
       "    .dataframe tbody tr th:only-of-type {\n",
       "        vertical-align: middle;\n",
       "    }\n",
       "\n",
       "    .dataframe tbody tr th {\n",
       "        vertical-align: top;\n",
       "    }\n",
       "\n",
       "    .dataframe thead th {\n",
       "        text-align: right;\n",
       "    }\n",
       "</style>\n",
       "<table border=\"1\" class=\"dataframe\">\n",
       "  <thead>\n",
       "    <tr style=\"text-align: right;\">\n",
       "      <th></th>\n",
       "      <th>source</th>\n",
       "      <th>edge</th>\n",
       "      <th>destination</th>\n",
       "    </tr>\n",
       "  </thead>\n",
       "  <tbody>\n",
       "    <tr>\n",
       "      <th>0</th>\n",
       "      <td>Q17361654</td>\n",
       "      <td>P31</td>\n",
       "      <td>{'entity-type': 'item', 'numeric-id': 5, 'id':...</td>\n",
       "    </tr>\n",
       "    <tr>\n",
       "      <th>1</th>\n",
       "      <td>Q17361654</td>\n",
       "      <td>P21</td>\n",
       "      <td>{'entity-type': 'item', 'numeric-id': 6581097,...</td>\n",
       "    </tr>\n",
       "    <tr>\n",
       "      <th>2</th>\n",
       "      <td>Q17361654</td>\n",
       "      <td>P735</td>\n",
       "      <td>{'entity-type': 'item', 'numeric-id': 17498051...</td>\n",
       "    </tr>\n",
       "    <tr>\n",
       "      <th>3</th>\n",
       "      <td>Q17361654</td>\n",
       "      <td>P570</td>\n",
       "      <td>{'time': '+1988-02-02T00:00:00Z', 'timezone': ...</td>\n",
       "    </tr>\n",
       "    <tr>\n",
       "      <th>4</th>\n",
       "      <td>Q17361654</td>\n",
       "      <td>P106</td>\n",
       "      <td>{'entity-type': 'item', 'numeric-id': 49757, '...</td>\n",
       "    </tr>\n",
       "  </tbody>\n",
       "</table>\n",
       "</div>"
      ],
      "text/plain": [
       "      source  edge                                        destination\n",
       "0  Q17361654   P31  {'entity-type': 'item', 'numeric-id': 5, 'id':...\n",
       "1  Q17361654   P21  {'entity-type': 'item', 'numeric-id': 6581097,...\n",
       "2  Q17361654  P735  {'entity-type': 'item', 'numeric-id': 17498051...\n",
       "3  Q17361654  P570  {'time': '+1988-02-02T00:00:00Z', 'timezone': ...\n",
       "4  Q17361654  P106  {'entity-type': 'item', 'numeric-id': 49757, '..."
      ]
     },
     "execution_count": 3,
     "metadata": {},
     "output_type": "execute_result"
    }
   ],
   "source": [
    "triplets_df = pd.read_json('data/poet_triplets.json', orient='records')\n",
    "triplets_df.head()"
   ]
  },
  {
   "cell_type": "code",
   "execution_count": 4,
   "metadata": {},
   "outputs": [],
   "source": [
    "edges = triplets_df.edge.unique().tolist()"
   ]
  },
  {
   "cell_type": "code",
   "execution_count": 7,
   "metadata": {
    "pycharm": {
     "name": "#%%\n"
    }
   },
   "outputs": [
    {
     "name": "stderr",
     "output_type": "stream",
     "text": [
      "  3%|▎         | 11/381 [00:07<03:11,  1.93it/s]"
     ]
    },
    {
     "name": "stdout",
     "output_type": "stream",
     "text": [
      "T_description skipped.\n"
     ]
    },
    {
     "name": "stderr",
     "output_type": "stream",
     "text": [
      "  9%|▉         | 36/381 [00:22<03:16,  1.75it/s]"
     ]
    },
    {
     "name": "stdout",
     "output_type": "stream",
     "text": [
      "T_alias skipped.\n"
     ]
    },
    {
     "name": "stderr",
     "output_type": "stream",
     "text": [
      "100%|██████████| 381/381 [03:19<00:00,  1.91it/s]\n"
     ]
    }
   ],
   "source": [
    "edge_properties = {}\n",
    "\n",
    "for edge_id in tqdm(edges):\n",
    "    try:\n",
    "        edge_properties[edge_id] = get_properties(edge_id)\n",
    "    except:\n",
    "        print(edge_id, 'skipped.')"
   ]
  },
  {
   "cell_type": "code",
   "execution_count": 9,
   "metadata": {},
   "outputs": [],
   "source": [
    "edge_properties['T_alias'] = {'name': 'alias'}\n",
    "edge_properties['T_description'] = {'name': 'description'}"
   ]
  },
  {
   "cell_type": "code",
   "execution_count": 10,
   "metadata": {},
   "outputs": [],
   "source": [
    "triplets_df['edge'] = triplets_df['edge'].apply(lambda e: edge_properties[e])"
   ]
  },
  {
   "cell_type": "code",
   "execution_count": 12,
   "metadata": {},
   "outputs": [],
   "source": [
    "triplets_df.to_json('data/poet_triplets.json', orient='records')"
   ]
  },
  {
   "cell_type": "markdown",
   "metadata": {},
   "source": [
    "# Merge source properties"
   ]
  },
  {
   "cell_type": "code",
   "execution_count": 18,
   "metadata": {},
   "outputs": [],
   "source": [
    "triplets_df = pd.read_json('data/poet_triplets.json', orient='records')\n",
    "source_df = pd.read_json('data/poet_entites.json', orient='records')"
   ]
  },
  {
   "cell_type": "code",
   "execution_count": 19,
   "metadata": {},
   "outputs": [],
   "source": [
    "source_dict = dict([(d['wikidata_id'], d) for d in source_df.to_dict(orient='records')])"
   ]
  },
  {
   "cell_type": "code",
   "execution_count": 19,
   "metadata": {},
   "outputs": [],
   "source": [
    "triplets_df['source'] = triplets_df['source'].apply(lambda s: source_dict[s])"
   ]
  },
  {
   "cell_type": "code",
   "execution_count": 21,
   "metadata": {},
   "outputs": [
    {
     "data": {
      "text/html": [
       "<div>\n",
       "<style scoped>\n",
       "    .dataframe tbody tr th:only-of-type {\n",
       "        vertical-align: middle;\n",
       "    }\n",
       "\n",
       "    .dataframe tbody tr th {\n",
       "        vertical-align: top;\n",
       "    }\n",
       "\n",
       "    .dataframe thead th {\n",
       "        text-align: right;\n",
       "    }\n",
       "</style>\n",
       "<table border=\"1\" class=\"dataframe\">\n",
       "  <thead>\n",
       "    <tr style=\"text-align: right;\">\n",
       "      <th></th>\n",
       "      <th>source</th>\n",
       "      <th>edge</th>\n",
       "      <th>destination</th>\n",
       "    </tr>\n",
       "  </thead>\n",
       "  <tbody>\n",
       "    <tr>\n",
       "      <th>0</th>\n",
       "      <td>{'name': 'Bencze József (költő)', 'wiki_url': ...</td>\n",
       "      <td>{'wikidata_id': 'P31', 'name': 'osztály, amely...</td>\n",
       "      <td>{'entity-type': 'item', 'numeric-id': 5, 'id':...</td>\n",
       "    </tr>\n",
       "    <tr>\n",
       "      <th>1</th>\n",
       "      <td>{'name': 'Bencze József (költő)', 'wiki_url': ...</td>\n",
       "      <td>{'wikidata_id': 'P21', 'name': 'nem', 'descrip...</td>\n",
       "      <td>{'entity-type': 'item', 'numeric-id': 6581097,...</td>\n",
       "    </tr>\n",
       "    <tr>\n",
       "      <th>2</th>\n",
       "      <td>{'name': 'Bencze József (költő)', 'wiki_url': ...</td>\n",
       "      <td>{'wikidata_id': 'P735', 'name': 'utónév', 'des...</td>\n",
       "      <td>{'entity-type': 'item', 'numeric-id': 17498051...</td>\n",
       "    </tr>\n",
       "    <tr>\n",
       "      <th>3</th>\n",
       "      <td>{'name': 'Bencze József (költő)', 'wiki_url': ...</td>\n",
       "      <td>{'wikidata_id': 'P570', 'name': 'halálozási id...</td>\n",
       "      <td>{'time': '+1988-02-02T00:00:00Z', 'timezone': ...</td>\n",
       "    </tr>\n",
       "    <tr>\n",
       "      <th>4</th>\n",
       "      <td>{'name': 'Bencze József (költő)', 'wiki_url': ...</td>\n",
       "      <td>{'wikidata_id': 'P106', 'name': 'foglalkozás',...</td>\n",
       "      <td>{'entity-type': 'item', 'numeric-id': 49757, '...</td>\n",
       "    </tr>\n",
       "  </tbody>\n",
       "</table>\n",
       "</div>"
      ],
      "text/plain": [
       "                                              source  \\\n",
       "0  {'name': 'Bencze József (költő)', 'wiki_url': ...   \n",
       "1  {'name': 'Bencze József (költő)', 'wiki_url': ...   \n",
       "2  {'name': 'Bencze József (költő)', 'wiki_url': ...   \n",
       "3  {'name': 'Bencze József (költő)', 'wiki_url': ...   \n",
       "4  {'name': 'Bencze József (költő)', 'wiki_url': ...   \n",
       "\n",
       "                                                edge  \\\n",
       "0  {'wikidata_id': 'P31', 'name': 'osztály, amely...   \n",
       "1  {'wikidata_id': 'P21', 'name': 'nem', 'descrip...   \n",
       "2  {'wikidata_id': 'P735', 'name': 'utónév', 'des...   \n",
       "3  {'wikidata_id': 'P570', 'name': 'halálozási id...   \n",
       "4  {'wikidata_id': 'P106', 'name': 'foglalkozás',...   \n",
       "\n",
       "                                         destination  \n",
       "0  {'entity-type': 'item', 'numeric-id': 5, 'id':...  \n",
       "1  {'entity-type': 'item', 'numeric-id': 6581097,...  \n",
       "2  {'entity-type': 'item', 'numeric-id': 17498051...  \n",
       "3  {'time': '+1988-02-02T00:00:00Z', 'timezone': ...  \n",
       "4  {'entity-type': 'item', 'numeric-id': 49757, '...  "
      ]
     },
     "execution_count": 21,
     "metadata": {},
     "output_type": "execute_result"
    }
   ],
   "source": [
    "triplets_df.head()"
   ]
  },
  {
   "cell_type": "code",
   "execution_count": 22,
   "metadata": {},
   "outputs": [],
   "source": [
    "triplets_df.to_json('data/poet_triplets.json', orient='records')"
   ]
  },
  {
   "cell_type": "markdown",
   "metadata": {},
   "source": [
    "# Expand and normalize destination"
   ]
  },
  {
   "cell_type": "code",
   "execution_count": 3,
   "metadata": {},
   "outputs": [],
   "source": [
    "from kg_tools.kg_creation import get_properties"
   ]
  },
  {
   "cell_type": "code",
   "execution_count": 4,
   "metadata": {},
   "outputs": [],
   "source": [
    "triplets_df = pd.read_json('data/poet_triplets.json', orient='records')"
   ]
  },
  {
   "cell_type": "code",
   "execution_count": 5,
   "metadata": {},
   "outputs": [],
   "source": [
    "destinations = triplets_df.destination.tolist()"
   ]
  },
  {
   "cell_type": "code",
   "execution_count": 6,
   "metadata": {},
   "outputs": [],
   "source": [
    "dest_nodes = []\n",
    "\n",
    "for dest in destinations:\n",
    "    if 'entity-type' in dest:\n",
    "        if dest['entity-type'] == 'item':\n",
    "            dest_nodes.append(dest['id'])\n",
    "            \n",
    "dest_nodes = list(set(dest_nodes))"
   ]
  },
  {
   "cell_type": "code",
   "execution_count": 7,
   "metadata": {},
   "outputs": [
    {
     "data": {
      "text/plain": [
       "3145"
      ]
     },
     "execution_count": 7,
     "metadata": {},
     "output_type": "execute_result"
    }
   ],
   "source": [
    "len(dest_nodes)"
   ]
  },
  {
   "cell_type": "code",
   "execution_count": 8,
   "metadata": {},
   "outputs": [
    {
     "name": "stderr",
     "output_type": "stream",
     "text": [
      "100%|██████████| 3145/3145 [28:17<00:00,  1.85it/s]\n"
     ]
    }
   ],
   "source": [
    "dest_nodes_dct = {}\n",
    "\n",
    "for d in tqdm(dest_nodes):\n",
    "    dest_nodes_dct[d] = get_properties(d)"
   ]
  },
  {
   "cell_type": "code",
   "execution_count": 11,
   "metadata": {},
   "outputs": [],
   "source": [
    "def expand_wikidata_node(d):\n",
    "    if 'entity-type' in d:\n",
    "        if d['entity-type'] == 'item':\n",
    "            return dest_nodes_dct[d['id']]\n",
    "    \n",
    "    return d"
   ]
  },
  {
   "cell_type": "code",
   "execution_count": 13,
   "metadata": {},
   "outputs": [],
   "source": [
    "triplets_df['destination'] = triplets_df.destination.apply(lambda d: expand_wikidata_node(d))"
   ]
  },
  {
   "cell_type": "code",
   "execution_count": 16,
   "metadata": {},
   "outputs": [
    {
     "data": {
      "text/html": [
       "<div>\n",
       "<style scoped>\n",
       "    .dataframe tbody tr th:only-of-type {\n",
       "        vertical-align: middle;\n",
       "    }\n",
       "\n",
       "    .dataframe tbody tr th {\n",
       "        vertical-align: top;\n",
       "    }\n",
       "\n",
       "    .dataframe thead th {\n",
       "        text-align: right;\n",
       "    }\n",
       "</style>\n",
       "<table border=\"1\" class=\"dataframe\">\n",
       "  <thead>\n",
       "    <tr style=\"text-align: right;\">\n",
       "      <th></th>\n",
       "      <th>source</th>\n",
       "      <th>edge</th>\n",
       "      <th>destination</th>\n",
       "    </tr>\n",
       "  </thead>\n",
       "  <tbody>\n",
       "    <tr>\n",
       "      <th>0</th>\n",
       "      <td>{'name': 'Bencze József (költő)', 'wiki_url': ...</td>\n",
       "      <td>{'wikidata_id': 'P31', 'name': 'osztály, amely...</td>\n",
       "      <td>{'wikidata_id': 'Q5', 'name': 'ember', 'descri...</td>\n",
       "    </tr>\n",
       "    <tr>\n",
       "      <th>1</th>\n",
       "      <td>{'name': 'Bencze József (költő)', 'wiki_url': ...</td>\n",
       "      <td>{'wikidata_id': 'P21', 'name': 'nem', 'descrip...</td>\n",
       "      <td>{'wikidata_id': 'Q6581097', 'name': 'férfi', '...</td>\n",
       "    </tr>\n",
       "    <tr>\n",
       "      <th>2</th>\n",
       "      <td>{'name': 'Bencze József (költő)', 'wiki_url': ...</td>\n",
       "      <td>{'wikidata_id': 'P735', 'name': 'utónév', 'des...</td>\n",
       "      <td>{'wikidata_id': 'Q17498051', 'name': 'József',...</td>\n",
       "    </tr>\n",
       "    <tr>\n",
       "      <th>3</th>\n",
       "      <td>{'name': 'Bencze József (költő)', 'wiki_url': ...</td>\n",
       "      <td>{'wikidata_id': 'P570', 'name': 'halálozási id...</td>\n",
       "      <td>{'time': '+1988-02-02T00:00:00Z', 'timezone': ...</td>\n",
       "    </tr>\n",
       "    <tr>\n",
       "      <th>4</th>\n",
       "      <td>{'name': 'Bencze József (költő)', 'wiki_url': ...</td>\n",
       "      <td>{'wikidata_id': 'P106', 'name': 'foglalkozás',...</td>\n",
       "      <td>{'wikidata_id': 'Q49757', 'name': 'költő', 'de...</td>\n",
       "    </tr>\n",
       "  </tbody>\n",
       "</table>\n",
       "</div>"
      ],
      "text/plain": [
       "                                              source  \\\n",
       "0  {'name': 'Bencze József (költő)', 'wiki_url': ...   \n",
       "1  {'name': 'Bencze József (költő)', 'wiki_url': ...   \n",
       "2  {'name': 'Bencze József (költő)', 'wiki_url': ...   \n",
       "3  {'name': 'Bencze József (költő)', 'wiki_url': ...   \n",
       "4  {'name': 'Bencze József (költő)', 'wiki_url': ...   \n",
       "\n",
       "                                                edge  \\\n",
       "0  {'wikidata_id': 'P31', 'name': 'osztály, amely...   \n",
       "1  {'wikidata_id': 'P21', 'name': 'nem', 'descrip...   \n",
       "2  {'wikidata_id': 'P735', 'name': 'utónév', 'des...   \n",
       "3  {'wikidata_id': 'P570', 'name': 'halálozási id...   \n",
       "4  {'wikidata_id': 'P106', 'name': 'foglalkozás',...   \n",
       "\n",
       "                                         destination  \n",
       "0  {'wikidata_id': 'Q5', 'name': 'ember', 'descri...  \n",
       "1  {'wikidata_id': 'Q6581097', 'name': 'férfi', '...  \n",
       "2  {'wikidata_id': 'Q17498051', 'name': 'József',...  \n",
       "3  {'time': '+1988-02-02T00:00:00Z', 'timezone': ...  \n",
       "4  {'wikidata_id': 'Q49757', 'name': 'költő', 'de...  "
      ]
     },
     "execution_count": 16,
     "metadata": {},
     "output_type": "execute_result"
    }
   ],
   "source": [
    "triplets_df.head()"
   ]
  },
  {
   "cell_type": "code",
   "execution_count": 15,
   "metadata": {},
   "outputs": [],
   "source": [
    "triplets_df.to_json('data/poet_triplets.json', orient='records')"
   ]
  }
 ],
 "metadata": {
  "kernelspec": {
   "display_name": "Python 3",
   "language": "python",
   "name": "python3"
  },
  "language_info": {
   "codemirror_mode": {
    "name": "ipython",
    "version": 3
   },
   "file_extension": ".py",
   "mimetype": "text/x-python",
   "name": "python",
   "nbconvert_exporter": "python",
   "pygments_lexer": "ipython3",
   "version": "3.8.2"
  }
 },
 "nbformat": 4,
 "nbformat_minor": 4
}
