{
 "cells": [
  {
   "cell_type": "code",
   "execution_count": 1,
   "metadata": {},
   "outputs": [],
   "source": [
    "import pandas as pd\n",
    "\n",
    "import spacy\n",
    "from spaczz.matcher import FuzzyMatcher"
   ]
  },
  {
   "cell_type": "code",
   "execution_count": 2,
   "metadata": {},
   "outputs": [
    {
     "data": {
      "text/html": [
       "<div>\n",
       "<style scoped>\n",
       "    .dataframe tbody tr th:only-of-type {\n",
       "        vertical-align: middle;\n",
       "    }\n",
       "\n",
       "    .dataframe tbody tr th {\n",
       "        vertical-align: top;\n",
       "    }\n",
       "\n",
       "    .dataframe thead th {\n",
       "        text-align: right;\n",
       "    }\n",
       "</style>\n",
       "<table border=\"1\" class=\"dataframe\">\n",
       "  <thead>\n",
       "    <tr style=\"text-align: right;\">\n",
       "      <th></th>\n",
       "      <th>source</th>\n",
       "      <th>edge</th>\n",
       "      <th>destination</th>\n",
       "    </tr>\n",
       "  </thead>\n",
       "  <tbody>\n",
       "    <tr>\n",
       "      <th>0</th>\n",
       "      <td>{'name': 'Bencze József', 'wiki_url': '/wiki/B...</td>\n",
       "      <td>{'wikidata_id': 'P31', 'name': 'osztály, amely...</td>\n",
       "      <td>{'wikidata_id': 'Q5', 'name': 'ember', 'descri...</td>\n",
       "    </tr>\n",
       "    <tr>\n",
       "      <th>1</th>\n",
       "      <td>{'name': 'Bencze József', 'wiki_url': '/wiki/B...</td>\n",
       "      <td>{'wikidata_id': 'P21', 'name': 'nem', 'descrip...</td>\n",
       "      <td>{'wikidata_id': 'Q6581097', 'name': 'férfi', '...</td>\n",
       "    </tr>\n",
       "    <tr>\n",
       "      <th>2</th>\n",
       "      <td>{'name': 'Bencze József', 'wiki_url': '/wiki/B...</td>\n",
       "      <td>{'wikidata_id': 'P735', 'name': 'utónév', 'des...</td>\n",
       "      <td>{'wikidata_id': 'Q17498051', 'name': 'József',...</td>\n",
       "    </tr>\n",
       "    <tr>\n",
       "      <th>3</th>\n",
       "      <td>{'name': 'Bencze József', 'wiki_url': '/wiki/B...</td>\n",
       "      <td>{'wikidata_id': 'P570', 'name': 'halálozási id...</td>\n",
       "      <td>{'time': '+1988-02-02T00:00:00Z', 'timezone': ...</td>\n",
       "    </tr>\n",
       "    <tr>\n",
       "      <th>4</th>\n",
       "      <td>{'name': 'Bencze József', 'wiki_url': '/wiki/B...</td>\n",
       "      <td>{'wikidata_id': 'P106', 'name': 'foglalkozás',...</td>\n",
       "      <td>{'wikidata_id': 'Q49757', 'name': 'költő', 'de...</td>\n",
       "    </tr>\n",
       "  </tbody>\n",
       "</table>\n",
       "</div>"
      ],
      "text/plain": [
       "                                              source  \\\n",
       "0  {'name': 'Bencze József', 'wiki_url': '/wiki/B...   \n",
       "1  {'name': 'Bencze József', 'wiki_url': '/wiki/B...   \n",
       "2  {'name': 'Bencze József', 'wiki_url': '/wiki/B...   \n",
       "3  {'name': 'Bencze József', 'wiki_url': '/wiki/B...   \n",
       "4  {'name': 'Bencze József', 'wiki_url': '/wiki/B...   \n",
       "\n",
       "                                                edge  \\\n",
       "0  {'wikidata_id': 'P31', 'name': 'osztály, amely...   \n",
       "1  {'wikidata_id': 'P21', 'name': 'nem', 'descrip...   \n",
       "2  {'wikidata_id': 'P735', 'name': 'utónév', 'des...   \n",
       "3  {'wikidata_id': 'P570', 'name': 'halálozási id...   \n",
       "4  {'wikidata_id': 'P106', 'name': 'foglalkozás',...   \n",
       "\n",
       "                                         destination  \n",
       "0  {'wikidata_id': 'Q5', 'name': 'ember', 'descri...  \n",
       "1  {'wikidata_id': 'Q6581097', 'name': 'férfi', '...  \n",
       "2  {'wikidata_id': 'Q17498051', 'name': 'József',...  \n",
       "3  {'time': '+1988-02-02T00:00:00Z', 'timezone': ...  \n",
       "4  {'wikidata_id': 'Q49757', 'name': 'költő', 'de...  "
      ]
     },
     "execution_count": 2,
     "metadata": {},
     "output_type": "execute_result"
    }
   ],
   "source": [
    "triplets = pd.read_json('data/poet_triplets.json')\n",
    "triplets.head()"
   ]
  },
  {
   "cell_type": "code",
   "execution_count": 3,
   "metadata": {},
   "outputs": [
    {
     "data": {
      "text/plain": [
       "{'wikidata_id': 'P569',\n",
       " 'name': 'születési idő',\n",
       " 'description': 'mikor született az alany',\n",
       " 'aliases': ['született', 'születési dátum']}"
      ]
     },
     "execution_count": 3,
     "metadata": {},
     "output_type": "execute_result"
    }
   ],
   "source": [
    "triplets.edge.iloc[5]"
   ]
  },
  {
   "cell_type": "code",
   "execution_count": 4,
   "metadata": {},
   "outputs": [],
   "source": [
    "def filter_kg(node, edge):\n",
    "    entity_triplets = triplets[triplets.source.apply(lambda d: d['wikidata_id'] == node)]\n",
    "    edge_triplets = entity_triplets[entity_triplets.edge.apply(lambda d: d['wikidata_id'] == edge)]\n",
    "    \n",
    "    res = []\n",
    "    if len(edge_triplets):\n",
    "        for d in edge_triplets.destination.tolist():\n",
    "            if 'name' in d:\n",
    "                res.append(d['name'])\n",
    "            else:\n",
    "                res.append(d)\n",
    "    \n",
    "    return res"
   ]
  },
  {
   "cell_type": "code",
   "execution_count": 5,
   "metadata": {},
   "outputs": [
    {
     "data": {
      "text/plain": [
       "2052"
      ]
     },
     "execution_count": 5,
     "metadata": {},
     "output_type": "execute_result"
    }
   ],
   "source": [
    "sources = []\n",
    "\n",
    "for d in triplets.source.tolist():\n",
    "    tup = (d['wikidata_id'], d['name'])\n",
    "    if tup not in sources:\n",
    "        sources.append(tup)\n",
    "        \n",
    "len(sources)"
   ]
  },
  {
   "cell_type": "code",
   "execution_count": 6,
   "metadata": {},
   "outputs": [
    {
     "data": {
      "text/plain": [
       "381"
      ]
     },
     "execution_count": 6,
     "metadata": {},
     "output_type": "execute_result"
    }
   ],
   "source": [
    "edges = []\n",
    "\n",
    "for d in triplets.edge.tolist():\n",
    "    tup = (d['wikidata_id'], d['name'])\n",
    "    if tup not in edges:\n",
    "        edges.append(tup)\n",
    "        \n",
    "len(edges)"
   ]
  },
  {
   "cell_type": "code",
   "execution_count": null,
   "metadata": {},
   "outputs": [],
   "source": []
  },
  {
   "cell_type": "code",
   "execution_count": 7,
   "metadata": {},
   "outputs": [],
   "source": [
    "nlp = spacy.blank(\"hu\")\n",
    "source_matcher = FuzzyMatcher(nlp.vocab)"
   ]
  },
  {
   "cell_type": "code",
   "execution_count": null,
   "metadata": {},
   "outputs": [],
   "source": [
    "for _id, name in sources:\n",
    "    source_matcher.add(_id, [nlp(name)])\n",
    "    \n",
    "for _id, name in edges:\n",
    "    source_matcher.add(_id, [nlp(name)])"
   ]
  },
  {
   "cell_type": "code",
   "execution_count": null,
   "metadata": {},
   "outputs": [],
   "source": [
    "def ask_single_hop(text):\n",
    "    doc = nlp(text)\n",
    "    matches = source_matcher(doc)\n",
    "\n",
    "    source_matches = []\n",
    "    edge_matches = []\n",
    "\n",
    "    for match_id, start, end, ratio in matches:\n",
    "        if match_id.startswith('Q'):\n",
    "            source_matches.append((ratio, match_id))\n",
    "        else:\n",
    "            edge_matches.append((ratio, match_id))\n",
    "\n",
    "    source_matches = sorted(source_matches, reverse=True)\n",
    "    edge_matches = sorted(edge_matches, reverse=True)\n",
    "    \n",
    "    if source_matches and edge_matches:\n",
    "        source_m = source_matches[0][1]\n",
    "        edge_m = edge_matches[0][1]\n",
    "\n",
    "        return filter_kg(source_m, edge_m)\n",
    "    else:\n",
    "        return []"
   ]
  },
  {
   "cell_type": "code",
   "execution_count": 9,
   "metadata": {},
   "outputs": [
    {
     "data": {
      "text/plain": [
       "['költő', 'műfordító', 'színész', 'író']"
      ]
     },
     "execution_count": 9,
     "metadata": {},
     "output_type": "execute_result"
    }
   ],
   "source": [
    "ask_single_hop('Mi Petőfi Sándor foglalkozása?')"
   ]
  },
  {
   "cell_type": "code",
   "execution_count": 11,
   "metadata": {},
   "outputs": [
    {
     "data": {
      "text/plain": [
       "['költő', 'műfordító', 'színész', 'író']"
      ]
     },
     "execution_count": 11,
     "metadata": {},
     "output_type": "execute_result"
    }
   ],
   "source": [
    "ask_single_hop('Mivel foglalkozott Petőfi Sándor?')"
   ]
  },
  {
   "cell_type": "code",
   "execution_count": null,
   "metadata": {},
   "outputs": [],
   "source": []
  }
 ],
 "metadata": {
  "kernelspec": {
   "display_name": "Python 3",
   "language": "python",
   "name": "python3"
  },
  "language_info": {
   "codemirror_mode": {
    "name": "ipython",
    "version": 3
   },
   "file_extension": ".py",
   "mimetype": "text/x-python",
   "name": "python",
   "nbconvert_exporter": "python",
   "pygments_lexer": "ipython3",
   "version": "3.8.2"
  }
 },
 "nbformat": 4,
 "nbformat_minor": 4
}
