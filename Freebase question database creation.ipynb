{
 "cells": [
  {
   "cell_type": "code",
   "execution_count": 4,
   "metadata": {},
   "outputs": [],
   "source": [
    "import requests\n",
    "from bs4 import BeautifulSoup\n",
    "\n",
    "import pandas as pd"
   ]
  },
  {
   "cell_type": "code",
   "execution_count": 5,
   "metadata": {},
   "outputs": [],
   "source": [
    "url = 'https://www.wikidata.org/wiki/Wikidata:WikiProject_Freebase/Mapping'"
   ]
  },
  {
   "cell_type": "code",
   "execution_count": 6,
   "metadata": {},
   "outputs": [],
   "source": [
    "html_txt = requests.get(url)"
   ]
  },
  {
   "cell_type": "code",
   "execution_count": 7,
   "metadata": {},
   "outputs": [],
   "source": [
    "soup = BeautifulSoup(html_txt.text)"
   ]
  },
  {
   "cell_type": "code",
   "execution_count": 8,
   "metadata": {},
   "outputs": [],
   "source": [
    "tables = soup.find_all('table')"
   ]
  },
  {
   "cell_type": "code",
   "execution_count": 9,
   "metadata": {},
   "outputs": [],
   "source": [
    "urls = []\n",
    "\n",
    "for table in tables:\n",
    "    for e in table.find_all('tr'):\n",
    "        res = []\n",
    "        for a in e.find_all('a'):\n",
    "            res.append(a['href'])\n",
    "\n",
    "        if len(res) == 2:\n",
    "            urls.append(res)"
   ]
  },
  {
   "cell_type": "code",
   "execution_count": 10,
   "metadata": {},
   "outputs": [],
   "source": [
    "urls_dict = {}\n",
    "\n",
    "for freebase, wikidata in urls:\n",
    "    if 'freebase' in freebase and 'Property' in wikidata:\n",
    "        prop = wikidata.split(':')[-1]\n",
    "        freebase = freebase.replace('https://', '')\n",
    "        \n",
    "        urls_dict[prop] = freebase"
   ]
  },
  {
   "cell_type": "code",
   "execution_count": 11,
   "metadata": {},
   "outputs": [
    {
     "data": {
      "text/plain": [
       "{'P131': 'www.freebase.com/location/hud_county_place/county',\n",
       " 'P150': 'www.freebase.com/location/country/first_level_divisions',\n",
       " 'P413': 'www.freebase.com/sports/sports_team_roster/position',\n",
       " 'P800': 'www.freebase.com/book/author/works_written',\n",
       " 'P84': 'www.freebase.com/architecture/structure/architect',\n",
       " 'P149': 'www.freebase.com/architecture/structure/architectural_style',\n",
       " 'P1619': 'www.freebase.com/architecture/structure/opened',\n",
       " 'P196': 'www.freebase.com/astronomy/asteroid/member_of_asteroid_group',\n",
       " 'P61': 'www.freebase.com/chemistry/element_discoverer/discovered',\n",
       " 'P575': 'www.freebase.com/astronomy/astronomical_discovery/discovery_date',\n",
       " 'P65': 'www.freebase.com/astronomy/astronomical_discovery/discovery_site',\n",
       " 'P31': 'www.freebase.com/transportation/bridge/bridge_type',\n",
       " 'P279': 'www.freebase.com/digicams/digital_camera/format',\n",
       " 'P376': 'www.freebase.com/astronomy/extraterrestrial_location/on_celestial_object',\n",
       " 'P398': 'www.freebase.com/astronomy/orbital_relationship/orbited_by',\n",
       " 'P397': 'www.freebase.com/astronomy/orbital_relationship/orbits',\n",
       " 'P59': 'www.freebase.com/astronomy/star/constellation',\n",
       " 'P238': 'http://www.freebase.com/authority/iata',\n",
       " 'P239': 'http://www.freebase.com/authority/icao',\n",
       " 'P113': 'www.freebase.com/aviation/airline/hubs',\n",
       " 'P1346': 'www.freebase.com/award/award_honor/award_winner',\n",
       " 'P166': 'www.freebase.com/award/award_winning_work/awards_won',\n",
       " 'P1686': 'www.freebase.com/award/award_nomination/nominated_for',\n",
       " 'P585': 'www.freebase.com/measurement_unit/dated_percentage/date',\n",
       " 'P1411': 'www.freebase.com/award/award_nominee/award_nominations',\n",
       " 'P17': 'www.freebase.com/location/postal_code/country',\n",
       " 'P710': 'www.freebase.com/olympics/olympic_sport/athletes',\n",
       " 'P882': 'www.freebase.com/base/dspl/us_census/population/county',\n",
       " 'P460': 'www.freebase.com/base/givennames/given_name/variations',\n",
       " 'P649': 'http://www.freebase.com/base/usnris/item',\n",
       " 'P353': 'www.freebase.com/biology/gene/symbol',\n",
       " 'P680': 'www.freebase.com/biology/genomic_locus/annotation',\n",
       " 'P1057': 'www.freebase.com/biology/genomic_locus/chromosome',\n",
       " 'P645': 'www.freebase.com/biology/genomic_locus/end_base',\n",
       " 'P644': 'www.freebase.com/biology/genomic_locus/start_base',\n",
       " 'P171': 'www.freebase.com/biology/organism_classification/higher_classification',\n",
       " 'P815': 'http://www.freebase.com/biology/itis',\n",
       " 'P685': 'http://www.freebase.com/biology/ncbi',\n",
       " 'P176': 'www.freebase.com/digicams/digital_camera/manufacturer',\n",
       " 'P289': 'www.freebase.com/boats/ship/ship_class',\n",
       " 'P629': 'www.freebase.com/book/book_edition/book',\n",
       " 'P1036': 'www.freebase.com/book/book_edition/dewey_decimal_number',\n",
       " 'P1234': 'http://www.freebase.com/authority/isfdb/pub_id',\n",
       " 'P1104': 'www.freebase.com/book/book_edition/number_of_pages',\n",
       " 'P291': 'www.freebase.com/film/film_regional_release_date/film_release_region',\n",
       " 'P577': 'www.freebase.com/music/release/release_date',\n",
       " 'P123': 'www.freebase.com/cvg/computer_videogame/publisher',\n",
       " 'P747': 'www.freebase.com/book/book/editions',\n",
       " 'P136': 'http://www.freebase.com/authority/netflix/genre',\n",
       " 'P50': 'www.freebase.com/media_common/quotation/author',\n",
       " 'P571': 'www.freebase.com/digicams/digital_camera/released',\n",
       " 'P1274': 'http://www.freebase.com/authority/isfdb/title_id',\n",
       " 'P364': 'www.freebase.com/tv/tv_program/languages',\n",
       " 'P179': 'www.freebase.com/tv/tv_series_season/series',\n",
       " 'P921': 'www.freebase.com/book/written_work/subjects',\n",
       " 'P156': 'www.freebase.com/tv/tv_series_episode/next_episode',\n",
       " 'P155': 'www.freebase.com/tv/tv_series_episode/previous_episode',\n",
       " 'P1408': 'www.freebase.com/broadcast/broadcast/area_served',\n",
       " 'P749': 'www.freebase.com/organization/organization_relationship/parent',\n",
       " 'P414': 'www.freebase.com/business/stock_ticker_symbol/stock_exchange',\n",
       " 'P249': 'www.freebase.com/business/stock_ticker_symbol/ticker_symbol',\n",
       " 'P856': 'www.freebase.com/music/artist/home_page',\n",
       " 'P178': 'www.freebase.com/cvg/computer_videogame/developer',\n",
       " 'P287': 'www.freebase.com/cvg/computer_videogame/designers',\n",
       " 'P404': 'www.freebase.com/cvg/computer_videogame/gameplay_modes',\n",
       " 'P348': 'www.freebase.com/cvg/computer_videogame/versions',\n",
       " 'P400': 'www.freebase.com/film/film_regional_release_date/film_release_distribution_medium',\n",
       " 'P512': 'www.freebase.com/education/education/degree',\n",
       " 'P580': 'www.freebase.com/tv/tv_program/air_date_of_first_episode',\n",
       " 'P582': 'www.freebase.com/tv/tv_program/air_date_of_final_episode',\n",
       " 'P69': 'www.freebase.com/people/person/education',\n",
       " 'P812': 'www.freebase.com/education/education/major_field_of_study',\n",
       " 'P170': 'www.freebase.com/visual_art/artwork/artist',\n",
       " 'P344': 'www.freebase.com/film/film/cinematography',\n",
       " 'P2515': 'www.freebase.com/film/film/costume_design_by',\n",
       " 'P495': 'www.freebase.com/tv/tv_program/country_of_origin',\n",
       " 'P3092': 'www.freebase.com/film/film_crew_gig/crewmember',\n",
       " 'Property_proposal/Pending/2#Duration_2': 'www.freebase.com/film/film_cut/runtime',\n",
       " 'P57': 'www.freebase.com/tv/tv_series_episode/director',\n",
       " 'P750': 'www.freebase.com/film/film/distributors',\n",
       " 'P1040': 'www.freebase.com/film/film/edited_by',\n",
       " 'P1431': 'www.freebase.com/film/film/executive_produced_by',\n",
       " 'P915': 'www.freebase.com/film/film_location',\n",
       " 'P86': 'www.freebase.com/music/composition/composer',\n",
       " 'P1874': 'http://www.freebase.com/authority/netflix/movie',\n",
       " 'P162': 'www.freebase.com/tv/tv_program/tv_producer',\n",
       " 'P272': 'www.freebase.com/film/film/production_companies',\n",
       " 'P161': 'www.freebase.com/tv/tv_series_episode/guest_stars',\n",
       " 'P58': 'www.freebase.com/tv/tv_series_episode/writer',\n",
       " 'P453': 'www.freebase.com/music/track_contribution/role',\n",
       " 'P403': 'www.freebase.com/geography/river/mouth',\n",
       " 'P1308': 'www.freebase.com/government/government_position_held/office_holder',\n",
       " 'P39': 'www.freebase.com/government/politician/government_positions_held',\n",
       " 'P102': 'www.freebase.com/government/politician/party',\n",
       " 'P1142': 'www.freebase.com/government/political_party/ideology',\n",
       " 'P1157': 'http://www.freebase.com/base/uspolitician/thomas_id',\n",
       " 'P345': 'http://www.freebase.com/authority/imdb/title',\n",
       " 'P737': 'www.freebase.com/influence/influence_node/influenced_by',\n",
       " 'P220': 'http://www.freebase.com/base/rosetta/iso639-3',\n",
       " 'P300': 'http://www.freebase.com/authority/iso/3166-2',\n",
       " 'P901': 'http://www.freebase.com/authority/nist/fips/10_4/adm_div',\n",
       " 'P281': 'www.freebase.com/location/postal_code/postal_code',\n",
       " 'P625': 'www.freebase.com/location/location/geolocation',\n",
       " 'P276': 'http://www.freebase.com/transportation/bridge/locale',\n",
       " 'P421': 'www.freebase.com/location/location/time_zones',\n",
       " 'P969&action=edit&redlink=1': 'www.freebase.com/location/mailing_address/street_address',\n",
       " 'P1082': 'www.freebase.com/location/statistical_region/population',\n",
       " 'P1198': 'www.freebase.com/location/statistical_region/unemployment_rate',\n",
       " 'P38': 'www.freebase.com/measurement_unit/money_value/currency',\n",
       " 'P144': 'www.freebase.com/media_common/adaptation/adapted_from',\n",
       " 'P212': 'www.freebase.com/media_common/cataloged_instance/isbn13',\n",
       " 'P1243': 'www.freebase.com/media_common/cataloged_instance/isrc',\n",
       " 'P1827': 'www.freebase.com/media_common/cataloged_instance/iswc',\n",
       " 'P1144': 'www.freebase.com/media_common/cataloged_instance/lccn',\n",
       " 'P243': 'www.freebase.com/media_common/cataloged_instance/oclc_number',\n",
       " 'P81': 'www.freebase.com/metropolitan_transit/transit_stop/transit_lines',\n",
       " 'P607': 'www.freebase.com/military/military_person/participated_in_conflicts',\n",
       " 'P241': 'www.freebase.com/military/military_service/military_force',\n",
       " 'P175': 'www.freebase.com/music/recording/artist',\n",
       " 'P264': 'www.freebase.com/music/release/label',\n",
       " 'P826': 'www.freebase.com/music/composition/musical_key',\n",
       " 'P407': 'www.freebase.com/music/composition/language',\n",
       " 'P676': 'www.freebase.com/music/composition/lyricist',\n",
       " 'P1303': 'www.freebase.com/music/group_member/instruments_played',\n",
       " 'P463': 'www.freebase.com/music/group_membership/group',\n",
       " 'P527': 'www.freebase.com/chemistry/chemical_element/atomic_mass',\n",
       " 'P2047': 'www.freebase.com/music/release/length',\n",
       " 'P641': 'www.freebase.com/sports/sports_team/sport',\n",
       " 'P361': 'www.freebase.com/tv/tv_series_episode/season',\n",
       " 'P1355': 'www.freebase.com/olympics/olympic_games/medals_awarded',\n",
       " 'P3320': 'www.freebase.com/organization/organization/board_members',\n",
       " 'P355': 'www.freebase.com/organization/organization_relationship/child',\n",
       " 'P112': 'www.freebase.com/organization/organization/founders',\n",
       " 'P159': 'www.freebase.com/organization/organization/headquarters',\n",
       " 'P1454': 'www.freebase.com/organization/organization/legal_structure',\n",
       " 'P509': 'www.freebase.com/people/deceased_person/cause_of_death',\n",
       " 'P570': 'www.freebase.com/people/deceased_person/date_of_death',\n",
       " 'P119': 'www.freebase.com/people/deceased_person/place_of_burial',\n",
       " 'P20': 'www.freebase.com/people/deceased_person/place_of_death',\n",
       " 'P53': 'www.freebase.com/royalty/monarch/royal_line',\n",
       " 'P26': 'www.freebase.com/people/marriage/spouse',\n",
       " 'P40': 'www.freebase.com/people/person/children',\n",
       " 'P569': 'www.freebase.com/people/person/date_of_birth',\n",
       " 'P108': 'www.freebase.com/people/person/employment_history',\n",
       " 'P172': 'www.freebase.com/people/person/ethnicity',\n",
       " 'P21': 'www.freebase.com/people/person/gender',\n",
       " 'P2048': 'www.freebase.com/digicams/camera_dimensions/height',\n",
       " 'P27': 'www.freebase.com/people/person/nationality',\n",
       " 'P19': 'www.freebase.com/people/person/place_of_birth',\n",
       " 'P551': 'www.freebase.com/people/place_lived/location',\n",
       " 'P106': 'www.freebase.com/people/person/profession',\n",
       " 'P140': 'www.freebase.com/people/person/religion',\n",
       " 'P3373': 'www.freebase.com/people/person/sibling_s',\n",
       " 'P2067': 'www.freebase.com/digicams/digital_camera/weight',\n",
       " 'P1435': 'www.freebase.com/protected_sites/natural_or_cultural_site_listing/designation',\n",
       " 'P97': 'www.freebase.com/royalty/noble_person/titles',\n",
       " 'P1029': 'www.freebase.com/spaceflight/space_mission/astronauts',\n",
       " 'P54': 'www.freebase.com/sports/sports_team_roster/team',\n",
       " 'P115': 'www.freebase.com/sports/sports_team/arena_stadium',\n",
       " 'P118': 'www.freebase.com/sports/sports_team/league',\n",
       " 'P1618': 'www.freebase.com/sports/sports_team_roster/number',\n",
       " 'P138': 'www.freebase.com/symbols/namesake/named_after',\n",
       " 'P1314': 'http://www.freebase.com/transportation/bridge/number_of_spans',\n",
       " 'P177': 'http://www.freebase.com/transportation/bridge/body_of_water_spanned',\n",
       " 'Property_proposal/Pending/2#Length_2': 'http://www.freebase.com/transportation/bridge/total_length',\n",
       " 'Property_proposal/Pending/2#Spatial_width': 'http://www.freebase.com/transportation/bridge/width',\n",
       " 'P1113': 'www.freebase.com/tv/tv_program/number_of_episodes',\n",
       " 'P2437': 'www.freebase.com/tv/tv_program/number_of_seasons',\n",
       " 'P449': 'www.freebase.com/tv/tv_program/original_network',\n",
       " 'P1191': 'www.freebase.com/tv/tv_series_episode/air_date',\n",
       " 'P1545': 'www.freebase.com/tv/tv_series_episode/episode_number',\n",
       " 'Property_proposal/Natural_science#Uncertainty': 'www.freebase.com/chemistry/atomic_mass/uncertainty',\n",
       " 'P231': 'http://www.freebase.com/authority/acs/cas',\n",
       " 'P274': 'www.freebase.com/chemistry/chemical_compound/formula',\n",
       " 'Property_proposal/Natural_science#Phase_at_stp': 'www.freebase.com/chemistry/chemical_compound/phase_at_stp',\n",
       " 'P233': 'www.freebase.com/chemistry/chemical_compound/structure_smiles',\n",
       " 'P1086': 'www.freebase.com/chemistry/chemical_element/atomic_number',\n",
       " 'Property_proposal/Natural_science#Periodic_table_block': 'www.freebase.com/chemistry/chemical_element/periodic_table_block',\n",
       " 'P189': 'www.freebase.com/chemistry/chemical_element/discovering_country',\n",
       " 'Property_proposal/Natural_science#electron_configuration': 'www.freebase.com/chemistry/chemical_element/electron_configuration',\n",
       " 'P1108': 'www.freebase.com/chemistry/chemical_element/electronegativity',\n",
       " 'P246': 'www.freebase.com/chemistry/chemical_element/symbol',\n",
       " 'P817': 'www.freebase.com/chemistry/isotope/decay_modes',\n",
       " 'P816': 'www.freebase.com/chemistry/isotope_decay/isotope',\n",
       " 'P1122': 'www.freebase.com/chemistry/isotope/spin',\n",
       " 'P683': 'www.freebase.com/chemistry/molecular_entity/chebi_id',\n",
       " 'Property_proposal/Natural_science#solvent': 'www.freebase.com/chemistry/solubility_relationship/solvent',\n",
       " 'P771': 'http://www.freebase.com/authority/ch/gov/fso/gdenr',\n",
       " 'P2087': 'http://www.freebase.com/authority/crunchbase/person',\n",
       " 'P1305': 'http://www.freebase.com/authority/ctbuh/tsc',\n",
       " 'P1953': 'http://www.freebase.com/authority/discogs/artist',\n",
       " 'P1955': 'http://www.freebase.com/authority/discogs/label',\n",
       " 'P1954': 'http://www.freebase.com/authority/discogs/master',\n",
       " 'P2206': 'http://www.freebase.com/authority/discogs/release',\n",
       " 'P772': 'http://www.freebase.com/authority/es/gov/ine/entity_code',\n",
       " 'P605': 'http://www.freebase.com/authority/eurostat/nuts',\n",
       " 'P2013': 'http://www.freebase.com/authority/facebook',\n",
       " 'P5247': 'http://www.freebase.com/authority/giantbomb/game',\n",
       " 'P590': 'http://www.freebase.com/authority/gnis',\n",
       " 'P2326': 'http://www.freebase.com/authority/gns',\n",
       " 'P675': 'http://www.freebase.com/authority/google/books/volume_id',\n",
       " 'P2847': 'http://www.freebase.com/authority/google/google_plus',\n",
       " 'P1960': 'http://www.freebase.com/authority/google/scholar/user',\n",
       " 'P3962': 'http://www.freebase.com/authority/gs1/gtin',\n",
       " 'P230': 'http://www.freebase.com/authority/icao/airline',\n",
       " 'P1233': 'http://www.freebase.com/authority/isfdb/author_id',\n",
       " 'P1239': 'http://www.freebase.com/authority/isfdb/publisher_id',\n",
       " 'P1235': 'http://www.freebase.com/authority/isfdb/series_id',\n",
       " 'P635': 'http://www.freebase.com/authority/it/gov/istat/code',\n",
       " 'P4773': 'http://www.freebase.com/authority/mobygames/company',\n",
       " 'P1933': 'http://www.freebase.com/authority/mobygames/game',\n",
       " 'P434': 'http://www.freebase.com/authority/musicbrainz/artist',\n",
       " 'P966': 'http://www.freebase.com/authority/musicbrainz/label',\n",
       " 'P4404': 'http://www.freebase.com/authority/musicbrainz/recording',\n",
       " 'P5813': 'http://www.freebase.com/authority/musicbrainz/release',\n",
       " 'P436': 'http://www.freebase.com/authority/musicbrainz/release_group',\n",
       " 'P435': 'http://www.freebase.com/authority/musicbrainz/work',\n",
       " 'P3265': 'http://www.freebase.com/authority/myspace',\n",
       " 'P662': 'http://www.freebase.com/authority/ncbi/pubchem/compound',\n",
       " 'P1771': 'http://www.freebase.com/authority/nces/ipeds',\n",
       " 'P2484': 'http://www.freebase.com/authority/nces/nces_id',\n",
       " 'P774': 'http://www.freebase.com/authority/nist/fips/55',\n",
       " 'P1263': 'http://www.freebase.com/authority/nndb',\n",
       " 'P648': 'http://www.freebase.com/authority/openlibrary/edition',\n",
       " 'P1729': 'http://www.freebase.com/authority/rovi/music/album',\n",
       " 'P1728': 'http://www.freebase.com/authority/rovi/music/artist',\n",
       " 'P661': 'http://www.freebase.com/authority/rsc/chemspider',\n",
       " 'P4835': 'http://www.freebase.com/authority/thetvdb/series',\n",
       " 'P2002': 'http://www.freebase.com/authority/twitter',\n",
       " 'P267': 'http://www.freebase.com/authority/un/who/atc',\n",
       " 'P1692': 'http://www.freebase.com/authority/us/gov/hhs/cdc/nchs/icd9cm',\n",
       " 'P652': 'http://www.freebase.com/authority/us/gov/hhs/fda/srs-unii',\n",
       " 'P486': 'http://www.freebase.com/authority/us/gov/hhs/nih/nlm/mesh',\n",
       " 'P2892': 'http://www.freebase.com/authority/us/gov/hhs/nih/nlm/umls',\n",
       " 'P1297': 'http://www.freebase.com/authority/us/gov/irs/ein',\n",
       " 'P244': 'http://www.freebase.com/authority/us/gov/loc/sh',\n",
       " 'P716': 'http://www.freebase.com/authority/us/gov/nasa/jpl/sbdb',\n",
       " 'P1651': 'http://www.freebase.com/authority/youtube/title',\n",
       " 'P2397': 'http://www.freebase.com/authority/youtube/user',\n",
       " 'P830': 'http://www.freebase.com/biology/eol',\n",
       " 'P3224': 'http://www.freebase.com/business/naics2007',\n",
       " 'P1265': 'http://www.freebase.com/source/screenrush/films',\n",
       " 'P1266': 'http://www.freebase.com/source/sensacine/actores',\n",
       " 'P214': 'http://www.freebase.com/user/hangy/viaf',\n",
       " 'P1566': 'http://www.freebase.com/user/metaweb/datasource/geonames',\n",
       " 'Property_proposal/Amazon_Standard_Identification_Number': 'http://www.freebase.com/authority/amazon/asin',\n",
       " 'P2088': 'http://www.freebase.com/authority/crunchbase/company',\n",
       " 'P297': 'http://www.freebase.com/authority/iso/3166-1/alpha-2',\n",
       " 'P298': 'http://www.freebase.com/authority/iso/3166-1/alpha-3',\n",
       " 'P299': 'http://www.freebase.com/authority/iso/3166-1/numeric',\n",
       " 'P498': 'http://www.freebase.com/authority/iso/4217/alpha',\n",
       " 'P218': 'http://www.freebase.com/authority/iso/639_1',\n",
       " 'P1330': 'http://www.freebase.com/authority/musicbrainz/role',\n",
       " 'P1112&action=edit&redlink=1': 'http://www.freebase.com/authority/nintendo/pokemon/pokedex',\n",
       " 'Property_proposal/Term#Camera_ISO': 'www.freebase.com/digicams/digital_camera/iso_setting',\n",
       " 'Property_proposal/Term#Camera_vertical_resolution': 'www.freebase.com/digicams/camera_resolution/vertical_resolution',\n",
       " 'Property_proposal/Term#Camera_horizontal_resolution': 'www.freebase.com/digicams/camera_resolution/horizontal_resolution',\n",
       " 'Property_proposal/Term#Camera_resolution': 'www.freebase.com/digicams/digital_camera/supported_resolutions',\n",
       " 'Property_proposal/Term#storage_medium': 'www.freebase.com/digicams/digital_camera/supported_storage_types',\n",
       " 'P2049': 'www.freebase.com/digicams/camera_dimensions/width',\n",
       " 'Property_proposal/Unsorted#object_spatial_depth': 'www.freebase.com/digicams/camera_dimensions/depth',\n",
       " 'Property_proposal/Term#camera_sensor': 'www.freebase.com/digicams/digital_camera/sensor_type',\n",
       " 'P2151': 'www.freebase.com/digicams/digital_camera/tele_focal_length',\n",
       " 'P2061': 'www.freebase.com/digicams/digital_camera/image_ratio'}"
      ]
     },
     "execution_count": 11,
     "metadata": {},
     "output_type": "execute_result"
    }
   ],
   "source": [
    "urls_dict"
   ]
  },
  {
   "cell_type": "code",
   "execution_count": 13,
   "metadata": {},
   "outputs": [
    {
     "data": {
      "text/html": [
       "<div>\n",
       "<style scoped>\n",
       "    .dataframe tbody tr th:only-of-type {\n",
       "        vertical-align: middle;\n",
       "    }\n",
       "\n",
       "    .dataframe tbody tr th {\n",
       "        vertical-align: top;\n",
       "    }\n",
       "\n",
       "    .dataframe thead th {\n",
       "        text-align: right;\n",
       "    }\n",
       "</style>\n",
       "<table border=\"1\" class=\"dataframe\">\n",
       "  <thead>\n",
       "    <tr style=\"text-align: right;\">\n",
       "      <th></th>\n",
       "      <th>source</th>\n",
       "      <th>edge</th>\n",
       "      <th>destination</th>\n",
       "    </tr>\n",
       "  </thead>\n",
       "  <tbody>\n",
       "    <tr>\n",
       "      <th>0</th>\n",
       "      <td>{'name': 'Bencze József', 'wiki_url': '/wiki/B...</td>\n",
       "      <td>{'wikidata_id': 'P31', 'name': 'osztály, amely...</td>\n",
       "      <td>{'wikidata_id': 'Q5', 'name': 'ember', 'descri...</td>\n",
       "    </tr>\n",
       "    <tr>\n",
       "      <th>1</th>\n",
       "      <td>{'name': 'Bencze József', 'wiki_url': '/wiki/B...</td>\n",
       "      <td>{'wikidata_id': 'P21', 'name': 'nem', 'descrip...</td>\n",
       "      <td>{'wikidata_id': 'Q6581097', 'name': 'férfi', '...</td>\n",
       "    </tr>\n",
       "    <tr>\n",
       "      <th>2</th>\n",
       "      <td>{'name': 'Bencze József', 'wiki_url': '/wiki/B...</td>\n",
       "      <td>{'wikidata_id': 'P735', 'name': 'utónév', 'des...</td>\n",
       "      <td>{'wikidata_id': 'Q17498051', 'name': 'József',...</td>\n",
       "    </tr>\n",
       "    <tr>\n",
       "      <th>3</th>\n",
       "      <td>{'name': 'Bencze József', 'wiki_url': '/wiki/B...</td>\n",
       "      <td>{'wikidata_id': 'P570', 'name': 'halálozási id...</td>\n",
       "      <td>{'time': '+1988-02-02T00:00:00Z', 'timezone': ...</td>\n",
       "    </tr>\n",
       "    <tr>\n",
       "      <th>4</th>\n",
       "      <td>{'name': 'Bencze József', 'wiki_url': '/wiki/B...</td>\n",
       "      <td>{'wikidata_id': 'P106', 'name': 'foglalkozás',...</td>\n",
       "      <td>{'wikidata_id': 'Q49757', 'name': 'költő', 'de...</td>\n",
       "    </tr>\n",
       "  </tbody>\n",
       "</table>\n",
       "</div>"
      ],
      "text/plain": [
       "                                              source  \\\n",
       "0  {'name': 'Bencze József', 'wiki_url': '/wiki/B...   \n",
       "1  {'name': 'Bencze József', 'wiki_url': '/wiki/B...   \n",
       "2  {'name': 'Bencze József', 'wiki_url': '/wiki/B...   \n",
       "3  {'name': 'Bencze József', 'wiki_url': '/wiki/B...   \n",
       "4  {'name': 'Bencze József', 'wiki_url': '/wiki/B...   \n",
       "\n",
       "                                                edge  \\\n",
       "0  {'wikidata_id': 'P31', 'name': 'osztály, amely...   \n",
       "1  {'wikidata_id': 'P21', 'name': 'nem', 'descrip...   \n",
       "2  {'wikidata_id': 'P735', 'name': 'utónév', 'des...   \n",
       "3  {'wikidata_id': 'P570', 'name': 'halálozási id...   \n",
       "4  {'wikidata_id': 'P106', 'name': 'foglalkozás',...   \n",
       "\n",
       "                                         destination  \n",
       "0  {'wikidata_id': 'Q5', 'name': 'ember', 'descri...  \n",
       "1  {'wikidata_id': 'Q6581097', 'name': 'férfi', '...  \n",
       "2  {'wikidata_id': 'Q17498051', 'name': 'József',...  \n",
       "3  {'time': '+1988-02-02T00:00:00Z', 'timezone': ...  \n",
       "4  {'wikidata_id': 'Q49757', 'name': 'költő', 'de...  "
      ]
     },
     "execution_count": 13,
     "metadata": {},
     "output_type": "execute_result"
    }
   ],
   "source": [
    "triplets = pd.read_json('data/poet_triplets.json')\n",
    "triplets.head()"
   ]
  },
  {
   "cell_type": "code",
   "execution_count": 14,
   "metadata": {},
   "outputs": [],
   "source": [
    "properties = triplets.edge.apply(lambda d: d['wikidata_id']).tolist()"
   ]
  },
  {
   "cell_type": "code",
   "execution_count": 15,
   "metadata": {},
   "outputs": [],
   "source": [
    "urls_dict_filt = {k: v for k, v in urls_dict.items() if k in properties}"
   ]
  },
  {
   "cell_type": "code",
   "execution_count": 16,
   "metadata": {},
   "outputs": [
    {
     "data": {
      "text/plain": [
       "{'P800': 'www.freebase.com/book/author/works_written',\n",
       " 'P31': 'www.freebase.com/transportation/bridge/bridge_type',\n",
       " 'P166': 'www.freebase.com/award/award_winning_work/awards_won',\n",
       " 'P1411': 'www.freebase.com/award/award_nominee/award_nominations',\n",
       " 'P460': 'www.freebase.com/base/givennames/given_name/variations',\n",
       " 'P123': 'www.freebase.com/cvg/computer_videogame/publisher',\n",
       " 'P136': 'http://www.freebase.com/authority/netflix/genre',\n",
       " 'P856': 'www.freebase.com/music/artist/home_page',\n",
       " 'P512': 'www.freebase.com/education/education/degree',\n",
       " 'P69': 'www.freebase.com/people/person/education',\n",
       " 'P39': 'www.freebase.com/government/politician/government_positions_held',\n",
       " 'P102': 'www.freebase.com/government/politician/party',\n",
       " 'P345': 'http://www.freebase.com/authority/imdb/title',\n",
       " 'P276': 'http://www.freebase.com/transportation/bridge/locale',\n",
       " 'P607': 'www.freebase.com/military/military_person/participated_in_conflicts',\n",
       " 'P241': 'www.freebase.com/military/military_service/military_force',\n",
       " 'P264': 'www.freebase.com/music/release/label',\n",
       " 'P1303': 'www.freebase.com/music/group_member/instruments_played',\n",
       " 'P463': 'www.freebase.com/music/group_membership/group',\n",
       " 'P641': 'www.freebase.com/sports/sports_team/sport',\n",
       " 'P361': 'www.freebase.com/tv/tv_series_episode/season',\n",
       " 'P509': 'www.freebase.com/people/deceased_person/cause_of_death',\n",
       " 'P570': 'www.freebase.com/people/deceased_person/date_of_death',\n",
       " 'P119': 'www.freebase.com/people/deceased_person/place_of_burial',\n",
       " 'P20': 'www.freebase.com/people/deceased_person/place_of_death',\n",
       " 'P53': 'www.freebase.com/royalty/monarch/royal_line',\n",
       " 'P26': 'www.freebase.com/people/marriage/spouse',\n",
       " 'P40': 'www.freebase.com/people/person/children',\n",
       " 'P569': 'www.freebase.com/people/person/date_of_birth',\n",
       " 'P108': 'www.freebase.com/people/person/employment_history',\n",
       " 'P172': 'www.freebase.com/people/person/ethnicity',\n",
       " 'P21': 'www.freebase.com/people/person/gender',\n",
       " 'P27': 'www.freebase.com/people/person/nationality',\n",
       " 'P19': 'www.freebase.com/people/person/place_of_birth',\n",
       " 'P551': 'www.freebase.com/people/place_lived/location',\n",
       " 'P106': 'www.freebase.com/people/person/profession',\n",
       " 'P140': 'www.freebase.com/people/person/religion',\n",
       " 'P3373': 'www.freebase.com/people/person/sibling_s',\n",
       " 'P97': 'www.freebase.com/royalty/noble_person/titles',\n",
       " 'P1953': 'http://www.freebase.com/authority/discogs/artist',\n",
       " 'P2013': 'http://www.freebase.com/authority/facebook',\n",
       " 'P1233': 'http://www.freebase.com/authority/isfdb/author_id',\n",
       " 'P434': 'http://www.freebase.com/authority/musicbrainz/artist',\n",
       " 'P3265': 'http://www.freebase.com/authority/myspace',\n",
       " 'P1263': 'http://www.freebase.com/authority/nndb',\n",
       " 'P648': 'http://www.freebase.com/authority/openlibrary/edition',\n",
       " 'P1728': 'http://www.freebase.com/authority/rovi/music/artist',\n",
       " 'P2002': 'http://www.freebase.com/authority/twitter',\n",
       " 'P244': 'http://www.freebase.com/authority/us/gov/loc/sh',\n",
       " 'P2397': 'http://www.freebase.com/authority/youtube/user',\n",
       " 'P1266': 'http://www.freebase.com/source/sensacine/actores',\n",
       " 'P214': 'http://www.freebase.com/user/hangy/viaf'}"
      ]
     },
     "execution_count": 16,
     "metadata": {},
     "output_type": "execute_result"
    }
   ],
   "source": [
    "urls_dict_filt"
   ]
  },
  {
   "cell_type": "code",
   "execution_count": 17,
   "metadata": {},
   "outputs": [
    {
     "data": {
      "text/plain": [
       "21706"
      ]
     },
     "execution_count": 17,
     "metadata": {},
     "output_type": "execute_result"
    }
   ],
   "source": [
    "triplets.edge.apply(lambda d: 1 if d['wikidata_id'] in urls_dict_filt else 0).sum()"
   ]
  },
  {
   "cell_type": "code",
   "execution_count": 18,
   "metadata": {},
   "outputs": [
    {
     "data": {
      "text/plain": [
       "41281"
      ]
     },
     "execution_count": 18,
     "metadata": {},
     "output_type": "execute_result"
    }
   ],
   "source": [
    "len(triplets)"
   ]
  },
  {
   "cell_type": "code",
   "execution_count": 19,
   "metadata": {},
   "outputs": [],
   "source": [
    "question_df = pd.read_csv('https://raw.githubusercontent.com/davidgolub/SimpleQA/master/datasets/SimpleQuestions/annotated_fb_data_train.txt', sep='\\t', header=None)"
   ]
  },
  {
   "cell_type": "code",
   "execution_count": 20,
   "metadata": {},
   "outputs": [],
   "source": [
    "question_df.columns = ['e1', 'property', 'e2', 'question']"
   ]
  },
  {
   "cell_type": "code",
   "execution_count": 21,
   "metadata": {},
   "outputs": [
    {
     "data": {
      "text/plain": [
       "12140"
      ]
     },
     "execution_count": 21,
     "metadata": {},
     "output_type": "execute_result"
    }
   ],
   "source": [
    "filt_question = question_df[question_df.property.isin(list(urls_dict_filt.values()))]\n",
    "len(filt_question)"
   ]
  },
  {
   "cell_type": "code",
   "execution_count": 31,
   "metadata": {},
   "outputs": [
    {
     "data": {
      "text/plain": [
       "12136"
      ]
     },
     "execution_count": 31,
     "metadata": {},
     "output_type": "execute_result"
    }
   ],
   "source": [
    "filt_question = filt_question.drop_duplicates(subset=['question'])\n",
    "len(filt_question)"
   ]
  },
  {
   "cell_type": "code",
   "execution_count": 32,
   "metadata": {},
   "outputs": [
    {
     "data": {
      "text/plain": [
       "property\n",
       "www.freebase.com/royalty/monarch/royal_line                               7\n",
       "www.freebase.com/transportation/bridge/bridge_type                       14\n",
       "www.freebase.com/sports/sports_team/sport                                37\n",
       "www.freebase.com/tv/tv_series_episode/season                             57\n",
       "www.freebase.com/people/deceased_person/place_of_burial                  69\n",
       "www.freebase.com/music/release/label                                     74\n",
       "www.freebase.com/military/military_person/participated_in_conflicts     197\n",
       "www.freebase.com/cvg/computer_videogame/publisher                       200\n",
       "www.freebase.com/music/group_member/instruments_played                  299\n",
       "www.freebase.com/people/person/children                                 320\n",
       "www.freebase.com/book/author/works_written                              321\n",
       "www.freebase.com/people/person/ethnicity                                355\n",
       "www.freebase.com/people/person/religion                                 442\n",
       "www.freebase.com/people/deceased_person/cause_of_death                  445\n",
       "www.freebase.com/people/person/profession                               847\n",
       "www.freebase.com/people/deceased_person/place_of_death                 1380\n",
       "www.freebase.com/people/person/gender                                  1927\n",
       "www.freebase.com/people/person/nationality                             2425\n",
       "www.freebase.com/people/person/place_of_birth                          2720\n",
       "Name: question, dtype: int64"
      ]
     },
     "execution_count": 32,
     "metadata": {},
     "output_type": "execute_result"
    }
   ],
   "source": [
    "filt_question.groupby(by='property').question.count().sort_values()"
   ]
  },
  {
   "cell_type": "code",
   "execution_count": 40,
   "metadata": {},
   "outputs": [],
   "source": [
    "samp_questions = filt_question.groupby(by='property').sample(n=300, replace=True).drop_duplicates(subset=['question'])"
   ]
  },
  {
   "cell_type": "code",
   "execution_count": 41,
   "metadata": {},
   "outputs": [
    {
     "data": {
      "text/plain": [
       "property\n",
       "www.freebase.com/royalty/monarch/royal_line                              7\n",
       "www.freebase.com/transportation/bridge/bridge_type                      14\n",
       "www.freebase.com/sports/sports_team/sport                               37\n",
       "www.freebase.com/tv/tv_series_episode/season                            57\n",
       "www.freebase.com/people/deceased_person/place_of_burial                 65\n",
       "www.freebase.com/music/release/label                                    73\n",
       "www.freebase.com/cvg/computer_videogame/publisher                      153\n",
       "www.freebase.com/military/military_person/participated_in_conflicts    154\n",
       "www.freebase.com/music/group_member/instruments_played                 189\n",
       "www.freebase.com/people/person/children                                192\n",
       "www.freebase.com/book/author/works_written                             201\n",
       "www.freebase.com/people/person/ethnicity                               201\n",
       "www.freebase.com/people/person/religion                                222\n",
       "www.freebase.com/people/deceased_person/cause_of_death                 224\n",
       "www.freebase.com/people/person/profession                              254\n",
       "www.freebase.com/people/deceased_person/place_of_death                 270\n",
       "www.freebase.com/people/person/gender                                  273\n",
       "www.freebase.com/people/person/nationality                             277\n",
       "www.freebase.com/people/person/place_of_birth                          283\n",
       "Name: question, dtype: int64"
      ]
     },
     "execution_count": 41,
     "metadata": {},
     "output_type": "execute_result"
    }
   ],
   "source": [
    "samp_questions.groupby(by='property').question.count().sort_values()"
   ]
  },
  {
   "cell_type": "code",
   "execution_count": 42,
   "metadata": {},
   "outputs": [
    {
     "data": {
      "text/plain": [
       "122085"
      ]
     },
     "execution_count": 42,
     "metadata": {},
     "output_type": "execute_result"
    }
   ],
   "source": [
    "samp_questions.question.apply(len).sum()"
   ]
  },
  {
   "cell_type": "markdown",
   "metadata": {},
   "source": [
    "# Translation"
   ]
  },
  {
   "cell_type": "code",
   "execution_count": 1,
   "metadata": {},
   "outputs": [],
   "source": [
    "from google.cloud import translate"
   ]
  },
  {
   "cell_type": "code",
   "execution_count": 35,
   "metadata": {},
   "outputs": [],
   "source": [
    "def translate_text(text=\"YOUR_TEXT_TO_TRANSLATE\", project_id=\"YOUR_PROJECT_ID\"):\n",
    "    \"\"\"Translating Text.\"\"\"\n",
    "\n",
    "    client = translate.TranslationServiceClient()\n",
    "\n",
    "    location = \"global\"\n",
    "\n",
    "    parent = f\"projects/{project_id}/locations/{location}\"\n",
    "\n",
    "    # Detail on supported types can be found here:\n",
    "    # https://cloud.google.com/translate/docs/supported-formats\n",
    "    response = client.translate_text(\n",
    "        request={\n",
    "            \"parent\": parent,\n",
    "            \"contents\": [text],\n",
    "            \"mime_type\": \"text/plain\",  # mime types: text/plain, text/html\n",
    "            \"source_language_code\": \"en-US\",\n",
    "            \"target_language_code\": \"hu\",\n",
    "        }\n",
    "    )\n",
    "\n",
    "    # Display the translation for each input text provided\n",
    "    for translation in response.translations:\n",
    "        return translation.translated_text\n"
   ]
  },
  {
   "cell_type": "code",
   "execution_count": 36,
   "metadata": {},
   "outputs": [
    {
     "data": {
      "text/plain": [
       "'Szia'"
      ]
     },
     "execution_count": 36,
     "metadata": {},
     "output_type": "execute_result"
    }
   ],
   "source": [
    "translate_text('hi', 'infinite-badge-193208')"
   ]
  },
  {
   "cell_type": "code",
   "execution_count": 44,
   "metadata": {},
   "outputs": [],
   "source": [
    "samp_questions['hun_question'] = samp_questions.question.apply(lambda s: translate_text(s, 'infinite-badge-193208'))"
   ]
  },
  {
   "cell_type": "code",
   "execution_count": 45,
   "metadata": {},
   "outputs": [
    {
     "data": {
      "text/html": [
       "<div>\n",
       "<style scoped>\n",
       "    .dataframe tbody tr th:only-of-type {\n",
       "        vertical-align: middle;\n",
       "    }\n",
       "\n",
       "    .dataframe tbody tr th {\n",
       "        vertical-align: top;\n",
       "    }\n",
       "\n",
       "    .dataframe thead th {\n",
       "        text-align: right;\n",
       "    }\n",
       "</style>\n",
       "<table border=\"1\" class=\"dataframe\">\n",
       "  <thead>\n",
       "    <tr style=\"text-align: right;\">\n",
       "      <th></th>\n",
       "      <th>e1</th>\n",
       "      <th>property</th>\n",
       "      <th>e2</th>\n",
       "      <th>question</th>\n",
       "      <th>hun_question</th>\n",
       "    </tr>\n",
       "  </thead>\n",
       "  <tbody>\n",
       "    <tr>\n",
       "      <th>50252</th>\n",
       "      <td>www.freebase.com/m/01xdf5</td>\n",
       "      <td>www.freebase.com/book/author/works_written</td>\n",
       "      <td>www.freebase.com/m/02qxck5</td>\n",
       "      <td>What book did stephen colbert write?</td>\n",
       "      <td>Milyen könyvet írt Stephen Colbert?</td>\n",
       "    </tr>\n",
       "    <tr>\n",
       "      <th>9759</th>\n",
       "      <td>www.freebase.com/m/03m9c9l</td>\n",
       "      <td>www.freebase.com/book/author/works_written</td>\n",
       "      <td>www.freebase.com/m/04wbprh</td>\n",
       "      <td>whats the name of michael mcgarrity's books</td>\n",
       "      <td>mi a neve Michael McCgarrity könyveinek</td>\n",
       "    </tr>\n",
       "    <tr>\n",
       "      <th>16708</th>\n",
       "      <td>www.freebase.com/m/041h0</td>\n",
       "      <td>www.freebase.com/book/author/works_written</td>\n",
       "      <td>www.freebase.com/m/04t05ry</td>\n",
       "      <td>what was written by j. r. r. tolkien</td>\n",
       "      <td>amit j írt. r. r. tolkien</td>\n",
       "    </tr>\n",
       "    <tr>\n",
       "      <th>59961</th>\n",
       "      <td>www.freebase.com/m/031qmr</td>\n",
       "      <td>www.freebase.com/book/author/works_written</td>\n",
       "      <td>www.freebase.com/m/04w95tk</td>\n",
       "      <td>what was one of pete hamill's works</td>\n",
       "      <td>mi volt Pete Hamill egyik műve</td>\n",
       "    </tr>\n",
       "    <tr>\n",
       "      <th>46516</th>\n",
       "      <td>www.freebase.com/m/01st1f</td>\n",
       "      <td>www.freebase.com/book/author/works_written</td>\n",
       "      <td>www.freebase.com/m/05qcvw1</td>\n",
       "      <td>What book did andre norton write?</td>\n",
       "      <td>Milyen könyvet írt andre norton?</td>\n",
       "    </tr>\n",
       "    <tr>\n",
       "      <th>...</th>\n",
       "      <td>...</td>\n",
       "      <td>...</td>\n",
       "      <td>...</td>\n",
       "      <td>...</td>\n",
       "      <td>...</td>\n",
       "    </tr>\n",
       "    <tr>\n",
       "      <th>26424</th>\n",
       "      <td>www.freebase.com/m/0jsnq3x</td>\n",
       "      <td>www.freebase.com/tv/tv_series_episode/season</td>\n",
       "      <td>www.freebase.com/m/0k2czv4</td>\n",
       "      <td>what season is amsterdam from</td>\n",
       "      <td>milyen évszakból van Amszterdam</td>\n",
       "    </tr>\n",
       "    <tr>\n",
       "      <th>4840</th>\n",
       "      <td>www.freebase.com/m/05nfl17</td>\n",
       "      <td>www.freebase.com/tv/tv_series_episode/season</td>\n",
       "      <td>www.freebase.com/m/05ngc1y</td>\n",
       "      <td>what show and season did ben stiller appear in</td>\n",
       "      <td>milyen műsorban és évadban jelent meg ben stiller</td>\n",
       "    </tr>\n",
       "    <tr>\n",
       "      <th>1207</th>\n",
       "      <td>www.freebase.com/m/0jwgww8</td>\n",
       "      <td>www.freebase.com/tv/tv_series_episode/season</td>\n",
       "      <td>www.freebase.com/m/0k2d4dj</td>\n",
       "      <td>which tv show features an episode called tom c...</td>\n",
       "      <td>melyik tévéműsorban szerepel egy Tom Cruise ne...</td>\n",
       "    </tr>\n",
       "    <tr>\n",
       "      <th>45459</th>\n",
       "      <td>www.freebase.com/m/0jgxnlv</td>\n",
       "      <td>www.freebase.com/tv/tv_series_episode/season</td>\n",
       "      <td>www.freebase.com/m/0k2cp7m</td>\n",
       "      <td>Which season of chelsea lately was paul rudd on</td>\n",
       "      <td>A chelsea melyik szezonja volt az utóbbi időbe...</td>\n",
       "    </tr>\n",
       "    <tr>\n",
       "      <th>46810</th>\n",
       "      <td>www.freebase.com/m/07975nl</td>\n",
       "      <td>www.freebase.com/tv/tv_series_episode/season</td>\n",
       "      <td>www.freebase.com/m/07975nc</td>\n",
       "      <td>which tv show focuses on the year 2000?</td>\n",
       "      <td>melyik tévéműsor középpontjában a 2000-es év áll?</td>\n",
       "    </tr>\n",
       "  </tbody>\n",
       "</table>\n",
       "<p>3146 rows × 5 columns</p>\n",
       "</div>"
      ],
      "text/plain": [
       "                               e1  \\\n",
       "50252   www.freebase.com/m/01xdf5   \n",
       "9759   www.freebase.com/m/03m9c9l   \n",
       "16708    www.freebase.com/m/041h0   \n",
       "59961   www.freebase.com/m/031qmr   \n",
       "46516   www.freebase.com/m/01st1f   \n",
       "...                           ...   \n",
       "26424  www.freebase.com/m/0jsnq3x   \n",
       "4840   www.freebase.com/m/05nfl17   \n",
       "1207   www.freebase.com/m/0jwgww8   \n",
       "45459  www.freebase.com/m/0jgxnlv   \n",
       "46810  www.freebase.com/m/07975nl   \n",
       "\n",
       "                                           property  \\\n",
       "50252    www.freebase.com/book/author/works_written   \n",
       "9759     www.freebase.com/book/author/works_written   \n",
       "16708    www.freebase.com/book/author/works_written   \n",
       "59961    www.freebase.com/book/author/works_written   \n",
       "46516    www.freebase.com/book/author/works_written   \n",
       "...                                             ...   \n",
       "26424  www.freebase.com/tv/tv_series_episode/season   \n",
       "4840   www.freebase.com/tv/tv_series_episode/season   \n",
       "1207   www.freebase.com/tv/tv_series_episode/season   \n",
       "45459  www.freebase.com/tv/tv_series_episode/season   \n",
       "46810  www.freebase.com/tv/tv_series_episode/season   \n",
       "\n",
       "                               e2  \\\n",
       "50252  www.freebase.com/m/02qxck5   \n",
       "9759   www.freebase.com/m/04wbprh   \n",
       "16708  www.freebase.com/m/04t05ry   \n",
       "59961  www.freebase.com/m/04w95tk   \n",
       "46516  www.freebase.com/m/05qcvw1   \n",
       "...                           ...   \n",
       "26424  www.freebase.com/m/0k2czv4   \n",
       "4840   www.freebase.com/m/05ngc1y   \n",
       "1207   www.freebase.com/m/0k2d4dj   \n",
       "45459  www.freebase.com/m/0k2cp7m   \n",
       "46810  www.freebase.com/m/07975nc   \n",
       "\n",
       "                                                question  \\\n",
       "50252               What book did stephen colbert write?   \n",
       "9759         whats the name of michael mcgarrity's books   \n",
       "16708               what was written by j. r. r. tolkien   \n",
       "59961               what was one of pete hamill's works    \n",
       "46516                  What book did andre norton write?   \n",
       "...                                                  ...   \n",
       "26424                      what season is amsterdam from   \n",
       "4840      what show and season did ben stiller appear in   \n",
       "1207   which tv show features an episode called tom c...   \n",
       "45459    Which season of chelsea lately was paul rudd on   \n",
       "46810            which tv show focuses on the year 2000?   \n",
       "\n",
       "                                            hun_question  \n",
       "50252                Milyen könyvet írt Stephen Colbert?  \n",
       "9759             mi a neve Michael McCgarrity könyveinek  \n",
       "16708                          amit j írt. r. r. tolkien  \n",
       "59961                     mi volt Pete Hamill egyik műve  \n",
       "46516                   Milyen könyvet írt andre norton?  \n",
       "...                                                  ...  \n",
       "26424                    milyen évszakból van Amszterdam  \n",
       "4840   milyen műsorban és évadban jelent meg ben stiller  \n",
       "1207   melyik tévéműsorban szerepel egy Tom Cruise ne...  \n",
       "45459  A chelsea melyik szezonja volt az utóbbi időbe...  \n",
       "46810  melyik tévéműsor középpontjában a 2000-es év áll?  \n",
       "\n",
       "[3146 rows x 5 columns]"
      ]
     },
     "execution_count": 45,
     "metadata": {},
     "output_type": "execute_result"
    }
   ],
   "source": [
    "samp_questions"
   ]
  },
  {
   "cell_type": "code",
   "execution_count": 46,
   "metadata": {},
   "outputs": [],
   "source": [
    "samp_questions.to_json('data/freebase_samp_questions.json', orient='records')"
   ]
  },
  {
   "cell_type": "code",
   "execution_count": null,
   "metadata": {},
   "outputs": [],
   "source": []
  }
 ],
 "metadata": {
  "kernelspec": {
   "display_name": "Python 3",
   "language": "python",
   "name": "python3"
  },
  "language_info": {
   "codemirror_mode": {
    "name": "ipython",
    "version": 3
   },
   "file_extension": ".py",
   "mimetype": "text/x-python",
   "name": "python",
   "nbconvert_exporter": "python",
   "pygments_lexer": "ipython3",
   "version": "3.8.2"
  }
 },
 "nbformat": 4,
 "nbformat_minor": 4
}
