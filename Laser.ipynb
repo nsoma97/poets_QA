{
 "cells": [
  {
   "cell_type": "code",
   "execution_count": 2,
   "metadata": {},
   "outputs": [
    {
     "name": "stdout",
     "output_type": "stream",
     "text": [
      "Defaulting to user installation because normal site-packages is not writeable\n",
      "Collecting laserembeddings\n",
      "  Downloading laserembeddings-1.1.1-py3-none-any.whl (13 kB)\n",
      "Collecting transliterate==1.10.2\n",
      "  Downloading transliterate-1.10.2-py2.py3-none-any.whl (45 kB)\n",
      "\u001b[K     |████████████████████████████████| 45 kB 1.2 MB/s eta 0:00:01\n",
      "\u001b[?25hCollecting sacremoses==0.0.35\n",
      "  Downloading sacremoses-0.0.35.tar.gz (859 kB)\n",
      "\u001b[K     |████████████████████████████████| 859 kB 993 kB/s eta 0:00:01\n",
      "\u001b[?25hCollecting subword-nmt<0.4.0,>=0.3.6\n",
      "  Downloading subword_nmt-0.3.7-py2.py3-none-any.whl (26 kB)\n",
      "Requirement already satisfied: numpy<2.0.0,>=1.15.4 in /usr/local/lib/python3.8/dist-packages (from laserembeddings) (1.19.0)\n",
      "Collecting torch<2.0.0,>=1.0.1.post2\n",
      "  Downloading torch-1.8.1-cp38-cp38-manylinux1_x86_64.whl (804.1 MB)\n",
      "\u001b[K     |████████████████████████████████| 804.1 MB 3.3 kB/s  eta 0:00:01\n",
      "\u001b[?25hRequirement already satisfied: six in /usr/lib/python3/dist-packages (from sacremoses==0.0.35->laserembeddings) (1.14.0)\n",
      "Requirement already satisfied: click in /usr/lib/python3/dist-packages (from sacremoses==0.0.35->laserembeddings) (7.0)\n",
      "Requirement already satisfied: joblib in /home/soma/.local/lib/python3.8/site-packages (from sacremoses==0.0.35->laserembeddings) (0.15.1)\n",
      "Requirement already satisfied: tqdm in /home/soma/.local/lib/python3.8/site-packages (from sacremoses==0.0.35->laserembeddings) (4.50.2)\n",
      "Requirement already satisfied: typing-extensions in /home/soma/.local/lib/python3.8/site-packages (from torch<2.0.0,>=1.0.1.post2->laserembeddings) (3.7.4.3)\n",
      "Building wheels for collected packages: sacremoses\n",
      "  Building wheel for sacremoses (setup.py) ... \u001b[?25ldone\n",
      "\u001b[?25h  Created wheel for sacremoses: filename=sacremoses-0.0.35-py3-none-any.whl size=883999 sha256=6efb8a430ca5818b3cf1ef9251f2ec27437390b47dcf1c2bc983b765f6d6bfcd\n",
      "  Stored in directory: /home/soma/.cache/pip/wheels/c4/df/30/3d6c623db99d503dcdbae1f686953b7c1a0754d8a658dc0845\n",
      "Successfully built sacremoses\n",
      "Installing collected packages: transliterate, torch, subword-nmt, sacremoses, laserembeddings\n",
      "Successfully installed laserembeddings-1.1.1 sacremoses-0.0.35 subword-nmt-0.3.7 torch-1.8.1 transliterate-1.10.2\n"
     ]
    }
   ],
   "source": [
    "!pip install laserembeddings"
   ]
  },
  {
   "cell_type": "code",
   "execution_count": 8,
   "metadata": {},
   "outputs": [
    {
     "name": "stdout",
     "output_type": "stream",
     "text": [
      "Downloading models into /home/soma/.local/lib/python3.8/site-packages/laserembeddings/data\n",
      "\n",
      "⏳   Downloading https://dl.fbaipublicfiles.com/laser/models/93langs.fcodes...\r",
      "✅   Downloaded https://dl.fbaipublicfiles.com/laser/models/93langs.fcodes    \n",
      "⏳   Downloading https://dl.fbaipublicfiles.com/laser/models/93langs.fvocab...\r",
      "✅   Downloaded https://dl.fbaipublicfiles.com/laser/models/93langs.fvocab    \n",
      "⏳   Downloading https://dl.fbaipublicfiles.com/laser/models/bilstm.93langs.2018-12-26.pt...\r",
      "✅   Downloaded https://dl.fbaipublicfiles.com/laser/models/bilstm.93langs.2018-12-26.pt    \n",
      "\n",
      "✨ You're all set!\n"
     ]
    }
   ],
   "source": [
    "%%sh \n",
    "python3 -m laserembeddings download-models"
   ]
  },
  {
   "cell_type": "code",
   "execution_count": 13,
   "metadata": {},
   "outputs": [],
   "source": [
    "from laserembeddings import Laser\n",
    "import json\n",
    "\n",
    "laser = Laser()"
   ]
  },
  {
   "cell_type": "code",
   "execution_count": 14,
   "metadata": {},
   "outputs": [],
   "source": [
    "with open('../rel_pred/semantic-graphs-filtered-validation.02_06.json') as f:\n",
    "    ds = json.load(f)"
   ]
  },
  {
   "cell_type": "code",
   "execution_count": 22,
   "metadata": {},
   "outputs": [],
   "source": [
    "sents = []\n",
    "labels = []\n",
    "\n",
    "for ds_inst in ds:\n",
    "    rel_labels = []\n",
    "    for rel in ds_inst['edgeSet']:\n",
    "        rel_labels.append(rel['kbID'])\n",
    "\n",
    "    sent = ' '.join(ds_inst['tokens'])\n",
    "    \n",
    "    sents.append(sent)\n",
    "    labels.append(rel_labels)"
   ]
  },
  {
   "cell_type": "code",
   "execution_count": 27,
   "metadata": {},
   "outputs": [
    {
     "data": {
      "text/plain": [
       "('The municipalities in the district are Rennebu , Meldal , and Orkdal .',\n",
       " ['P47', 'P47', 'P0'])"
      ]
     },
     "execution_count": 27,
     "metadata": {},
     "output_type": "execute_result"
    }
   ],
   "source": [
    "sents[2], labels[2]"
   ]
  },
  {
   "cell_type": "code",
   "execution_count": null,
   "metadata": {},
   "outputs": [],
   "source": [
    "embeddings = laser.embed_sentences(\n",
    "    sents,\n",
    "    lang='en')"
   ]
  },
  {
   "cell_type": "code",
   "execution_count": 21,
   "metadata": {},
   "outputs": [
    {
     "data": {
      "text/plain": [
       "array([[ 2.3281012e-02, -1.8188761e-05,  1.1731966e-03, ...,\n",
       "         4.7356128e-03, -2.9369839e-03,  3.7386097e-02]], dtype=float32)"
      ]
     },
     "execution_count": 21,
     "metadata": {},
     "output_type": "execute_result"
    }
   ],
   "source": [
    "embeddings"
   ]
  },
  {
   "cell_type": "code",
   "execution_count": null,
   "metadata": {},
   "outputs": [],
   "source": []
  }
 ],
 "metadata": {
  "kernelspec": {
   "display_name": "Python 3",
   "language": "python",
   "name": "python3"
  },
  "language_info": {
   "codemirror_mode": {
    "name": "ipython",
    "version": 3
   },
   "file_extension": ".py",
   "mimetype": "text/x-python",
   "name": "python",
   "nbconvert_exporter": "python",
   "pygments_lexer": "ipython3",
   "version": "3.8.2"
  }
 },
 "nbformat": 4,
 "nbformat_minor": 4
}
