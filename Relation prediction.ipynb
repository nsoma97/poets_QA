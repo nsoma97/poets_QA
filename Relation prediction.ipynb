{
 "cells": [
  {
   "cell_type": "code",
   "execution_count": 3,
   "metadata": {},
   "outputs": [],
   "source": [
    "from sklearn.feature_extraction.text import TfidfVectorizer\n",
    "from sklearn.preprocessing import LabelEncoder\n",
    "from sklearn.linear_model import LogisticRegression\n",
    "\n",
    "import pandas as pd\n",
    "import numpy as np"
   ]
  },
  {
   "cell_type": "code",
   "execution_count": 2,
   "metadata": {},
   "outputs": [],
   "source": [
    "vect = TfidfVectorizer()\n",
    "le = LabelEncoder()"
   ]
  },
  {
   "cell_type": "code",
   "execution_count": 3,
   "metadata": {},
   "outputs": [
    {
     "data": {
      "text/html": [
       "<div>\n",
       "<style scoped>\n",
       "    .dataframe tbody tr th:only-of-type {\n",
       "        vertical-align: middle;\n",
       "    }\n",
       "\n",
       "    .dataframe tbody tr th {\n",
       "        vertical-align: top;\n",
       "    }\n",
       "\n",
       "    .dataframe thead th {\n",
       "        text-align: right;\n",
       "    }\n",
       "</style>\n",
       "<table border=\"1\" class=\"dataframe\">\n",
       "  <thead>\n",
       "    <tr style=\"text-align: right;\">\n",
       "      <th></th>\n",
       "      <th>e1</th>\n",
       "      <th>property</th>\n",
       "      <th>e2</th>\n",
       "      <th>question</th>\n",
       "      <th>hun_question</th>\n",
       "    </tr>\n",
       "  </thead>\n",
       "  <tbody>\n",
       "    <tr>\n",
       "      <th>0</th>\n",
       "      <td>www.freebase.com/m/01xdf5</td>\n",
       "      <td>www.freebase.com/book/author/works_written</td>\n",
       "      <td>www.freebase.com/m/02qxck5</td>\n",
       "      <td>What book did stephen colbert write?</td>\n",
       "      <td>Milyen könyvet írt Stephen Colbert?</td>\n",
       "    </tr>\n",
       "    <tr>\n",
       "      <th>1</th>\n",
       "      <td>www.freebase.com/m/03m9c9l</td>\n",
       "      <td>www.freebase.com/book/author/works_written</td>\n",
       "      <td>www.freebase.com/m/04wbprh</td>\n",
       "      <td>whats the name of michael mcgarrity's books</td>\n",
       "      <td>mi a neve Michael McCgarrity könyveinek</td>\n",
       "    </tr>\n",
       "    <tr>\n",
       "      <th>2</th>\n",
       "      <td>www.freebase.com/m/041h0</td>\n",
       "      <td>www.freebase.com/book/author/works_written</td>\n",
       "      <td>www.freebase.com/m/04t05ry</td>\n",
       "      <td>what was written by j. r. r. tolkien</td>\n",
       "      <td>amit j írt. r. r. tolkien</td>\n",
       "    </tr>\n",
       "    <tr>\n",
       "      <th>3</th>\n",
       "      <td>www.freebase.com/m/031qmr</td>\n",
       "      <td>www.freebase.com/book/author/works_written</td>\n",
       "      <td>www.freebase.com/m/04w95tk</td>\n",
       "      <td>what was one of pete hamill's works</td>\n",
       "      <td>mi volt Pete Hamill egyik műve</td>\n",
       "    </tr>\n",
       "    <tr>\n",
       "      <th>4</th>\n",
       "      <td>www.freebase.com/m/01st1f</td>\n",
       "      <td>www.freebase.com/book/author/works_written</td>\n",
       "      <td>www.freebase.com/m/05qcvw1</td>\n",
       "      <td>What book did andre norton write?</td>\n",
       "      <td>Milyen könyvet írt andre norton?</td>\n",
       "    </tr>\n",
       "  </tbody>\n",
       "</table>\n",
       "</div>"
      ],
      "text/plain": [
       "                           e1                                    property  \\\n",
       "0   www.freebase.com/m/01xdf5  www.freebase.com/book/author/works_written   \n",
       "1  www.freebase.com/m/03m9c9l  www.freebase.com/book/author/works_written   \n",
       "2    www.freebase.com/m/041h0  www.freebase.com/book/author/works_written   \n",
       "3   www.freebase.com/m/031qmr  www.freebase.com/book/author/works_written   \n",
       "4   www.freebase.com/m/01st1f  www.freebase.com/book/author/works_written   \n",
       "\n",
       "                           e2                                     question  \\\n",
       "0  www.freebase.com/m/02qxck5         What book did stephen colbert write?   \n",
       "1  www.freebase.com/m/04wbprh  whats the name of michael mcgarrity's books   \n",
       "2  www.freebase.com/m/04t05ry         what was written by j. r. r. tolkien   \n",
       "3  www.freebase.com/m/04w95tk         what was one of pete hamill's works    \n",
       "4  www.freebase.com/m/05qcvw1            What book did andre norton write?   \n",
       "\n",
       "                              hun_question  \n",
       "0      Milyen könyvet írt Stephen Colbert?  \n",
       "1  mi a neve Michael McCgarrity könyveinek  \n",
       "2                amit j írt. r. r. tolkien  \n",
       "3           mi volt Pete Hamill egyik műve  \n",
       "4         Milyen könyvet írt andre norton?  "
      ]
     },
     "execution_count": 3,
     "metadata": {},
     "output_type": "execute_result"
    }
   ],
   "source": [
    "questions = pd.read_json('data/freebase_samp_questions.json')\n",
    "questions.head()"
   ]
  },
  {
   "cell_type": "code",
   "execution_count": 4,
   "metadata": {},
   "outputs": [],
   "source": [
    "X = questions.hun_question.tolist()\n",
    "y = np.array(questions.property)"
   ]
  },
  {
   "cell_type": "code",
   "execution_count": 5,
   "metadata": {},
   "outputs": [
    {
     "data": {
      "text/plain": [
       "array(['www.freebase.com/book/author/works_written',\n",
       "       'www.freebase.com/cvg/computer_videogame/publisher',\n",
       "       'www.freebase.com/military/military_person/participated_in_conflicts',\n",
       "       'www.freebase.com/music/group_member/instruments_played',\n",
       "       'www.freebase.com/music/release/label',\n",
       "       'www.freebase.com/people/deceased_person/cause_of_death',\n",
       "       'www.freebase.com/people/deceased_person/place_of_burial',\n",
       "       'www.freebase.com/people/deceased_person/place_of_death',\n",
       "       'www.freebase.com/people/person/children',\n",
       "       'www.freebase.com/people/person/ethnicity',\n",
       "       'www.freebase.com/people/person/gender',\n",
       "       'www.freebase.com/people/person/nationality',\n",
       "       'www.freebase.com/people/person/place_of_birth',\n",
       "       'www.freebase.com/people/person/profession',\n",
       "       'www.freebase.com/people/person/religion',\n",
       "       'www.freebase.com/royalty/monarch/royal_line',\n",
       "       'www.freebase.com/sports/sports_team/sport',\n",
       "       'www.freebase.com/transportation/bridge/bridge_type',\n",
       "       'www.freebase.com/tv/tv_series_episode/season'], dtype=object)"
      ]
     },
     "execution_count": 5,
     "metadata": {},
     "output_type": "execute_result"
    }
   ],
   "source": [
    "questions.property.unique()"
   ]
  },
  {
   "cell_type": "code",
   "execution_count": 6,
   "metadata": {},
   "outputs": [],
   "source": [
    "X_trf = vect.fit_transform(X).toarray()\n",
    "y_trf = le.fit_transform(y)"
   ]
  },
  {
   "cell_type": "code",
   "execution_count": 7,
   "metadata": {},
   "outputs": [],
   "source": [
    "logreg = LogisticRegression()"
   ]
  },
  {
   "cell_type": "code",
   "execution_count": 8,
   "metadata": {},
   "outputs": [
    {
     "data": {
      "text/plain": [
       "LogisticRegression()"
      ]
     },
     "execution_count": 8,
     "metadata": {},
     "output_type": "execute_result"
    }
   ],
   "source": [
    "logreg.fit(X_trf, y_trf)"
   ]
  },
  {
   "cell_type": "code",
   "execution_count": 9,
   "metadata": {},
   "outputs": [
    {
     "data": {
      "text/plain": [
       "array(['www.freebase.com/people/deceased_person/cause_of_death'],\n",
       "      dtype=object)"
      ]
     },
     "execution_count": 9,
     "metadata": {},
     "output_type": "execute_result"
    }
   ],
   "source": [
    "vec = vect.transform(['Miben halt meg József Attila?'])\n",
    "\n",
    "le.inverse_transform(logreg.predict(vec))"
   ]
  },
  {
   "cell_type": "markdown",
   "metadata": {},
   "source": [
    "# Single-hop QA"
   ]
  },
  {
   "cell_type": "code",
   "execution_count": 1,
   "metadata": {},
   "outputs": [],
   "source": [
    "import spacy\n",
    "from spaczz.matcher import FuzzyMatcher\n",
    "\n",
    "import pickle"
   ]
  },
  {
   "cell_type": "code",
   "execution_count": 4,
   "metadata": {},
   "outputs": [
    {
     "data": {
      "text/html": [
       "<div>\n",
       "<style scoped>\n",
       "    .dataframe tbody tr th:only-of-type {\n",
       "        vertical-align: middle;\n",
       "    }\n",
       "\n",
       "    .dataframe tbody tr th {\n",
       "        vertical-align: top;\n",
       "    }\n",
       "\n",
       "    .dataframe thead th {\n",
       "        text-align: right;\n",
       "    }\n",
       "</style>\n",
       "<table border=\"1\" class=\"dataframe\">\n",
       "  <thead>\n",
       "    <tr style=\"text-align: right;\">\n",
       "      <th></th>\n",
       "      <th>source</th>\n",
       "      <th>edge</th>\n",
       "      <th>destination</th>\n",
       "    </tr>\n",
       "  </thead>\n",
       "  <tbody>\n",
       "    <tr>\n",
       "      <th>0</th>\n",
       "      <td>{'name': 'Bencze József', 'wiki_url': '/wiki/B...</td>\n",
       "      <td>{'wikidata_id': 'P31', 'name': 'osztály, amely...</td>\n",
       "      <td>{'wikidata_id': 'Q5', 'name': 'ember', 'descri...</td>\n",
       "    </tr>\n",
       "    <tr>\n",
       "      <th>1</th>\n",
       "      <td>{'name': 'Bencze József', 'wiki_url': '/wiki/B...</td>\n",
       "      <td>{'wikidata_id': 'P21', 'name': 'nem', 'descrip...</td>\n",
       "      <td>{'wikidata_id': 'Q6581097', 'name': 'férfi', '...</td>\n",
       "    </tr>\n",
       "    <tr>\n",
       "      <th>2</th>\n",
       "      <td>{'name': 'Bencze József', 'wiki_url': '/wiki/B...</td>\n",
       "      <td>{'wikidata_id': 'P735', 'name': 'utónév', 'des...</td>\n",
       "      <td>{'wikidata_id': 'Q17498051', 'name': 'József',...</td>\n",
       "    </tr>\n",
       "    <tr>\n",
       "      <th>3</th>\n",
       "      <td>{'name': 'Bencze József', 'wiki_url': '/wiki/B...</td>\n",
       "      <td>{'wikidata_id': 'P570', 'name': 'halálozási id...</td>\n",
       "      <td>{'time': '+1988-02-02T00:00:00Z', 'timezone': ...</td>\n",
       "    </tr>\n",
       "    <tr>\n",
       "      <th>4</th>\n",
       "      <td>{'name': 'Bencze József', 'wiki_url': '/wiki/B...</td>\n",
       "      <td>{'wikidata_id': 'P106', 'name': 'foglalkozás',...</td>\n",
       "      <td>{'wikidata_id': 'Q49757', 'name': 'költő', 'de...</td>\n",
       "    </tr>\n",
       "  </tbody>\n",
       "</table>\n",
       "</div>"
      ],
      "text/plain": [
       "                                              source  \\\n",
       "0  {'name': 'Bencze József', 'wiki_url': '/wiki/B...   \n",
       "1  {'name': 'Bencze József', 'wiki_url': '/wiki/B...   \n",
       "2  {'name': 'Bencze József', 'wiki_url': '/wiki/B...   \n",
       "3  {'name': 'Bencze József', 'wiki_url': '/wiki/B...   \n",
       "4  {'name': 'Bencze József', 'wiki_url': '/wiki/B...   \n",
       "\n",
       "                                                edge  \\\n",
       "0  {'wikidata_id': 'P31', 'name': 'osztály, amely...   \n",
       "1  {'wikidata_id': 'P21', 'name': 'nem', 'descrip...   \n",
       "2  {'wikidata_id': 'P735', 'name': 'utónév', 'des...   \n",
       "3  {'wikidata_id': 'P570', 'name': 'halálozási id...   \n",
       "4  {'wikidata_id': 'P106', 'name': 'foglalkozás',...   \n",
       "\n",
       "                                         destination  \n",
       "0  {'wikidata_id': 'Q5', 'name': 'ember', 'descri...  \n",
       "1  {'wikidata_id': 'Q6581097', 'name': 'férfi', '...  \n",
       "2  {'wikidata_id': 'Q17498051', 'name': 'József',...  \n",
       "3  {'time': '+1988-02-02T00:00:00Z', 'timezone': ...  \n",
       "4  {'wikidata_id': 'Q49757', 'name': 'költő', 'de...  "
      ]
     },
     "execution_count": 4,
     "metadata": {},
     "output_type": "execute_result"
    }
   ],
   "source": [
    "triplets = pd.read_json('data/poet_triplets.json')\n",
    "triplets.head()"
   ]
  },
  {
   "cell_type": "code",
   "execution_count": 10,
   "metadata": {},
   "outputs": [
    {
     "data": {
      "text/plain": [
       "{('', 'P1150'),\n",
       " ('', 'P1580'),\n",
       " ('', 'P2966'),\n",
       " ('', 'P3029'),\n",
       " ('', 'P3269'),\n",
       " ('', 'P3360'),\n",
       " ('', 'P3429'),\n",
       " ('', 'P3782'),\n",
       " ('', 'P3901'),\n",
       " ('', 'P3997'),\n",
       " ('', 'P4114'),\n",
       " ('', 'P4145'),\n",
       " ('', 'P4200'),\n",
       " ('', 'P4223'),\n",
       " ('', 'P4359'),\n",
       " ('', 'P4361'),\n",
       " ('', 'P4431'),\n",
       " ('', 'P4457'),\n",
       " ('', 'P4613'),\n",
       " ('', 'P4619'),\n",
       " ('', 'P4638'),\n",
       " ('', 'P4759'),\n",
       " ('', 'P4887'),\n",
       " ('', 'P5019'),\n",
       " ('', 'P5034'),\n",
       " ('', 'P5068'),\n",
       " ('', 'P5341'),\n",
       " ('', 'P5343'),\n",
       " ('', 'P5357'),\n",
       " ('', 'P5368'),\n",
       " ('', 'P5370'),\n",
       " ('', 'P5392'),\n",
       " ('', 'P5393'),\n",
       " ('', 'P5430'),\n",
       " ('', 'P5489'),\n",
       " ('', 'P5491'),\n",
       " ('', 'P5492'),\n",
       " ('', 'P5504'),\n",
       " ('', 'P5508'),\n",
       " ('', 'P5570'),\n",
       " ('', 'P5587'),\n",
       " ('', 'P5632'),\n",
       " ('', 'P5643'),\n",
       " ('', 'P5739'),\n",
       " ('', 'P5821'),\n",
       " ('', 'P5859'),\n",
       " ('', 'P6002'),\n",
       " ('', 'P6173'),\n",
       " ('', 'P6194'),\n",
       " ('', 'P6255'),\n",
       " ('', 'P6275'),\n",
       " ('', 'P6295'),\n",
       " ('', 'P6300'),\n",
       " ('', 'P6394'),\n",
       " ('', 'P6404'),\n",
       " ('', 'P6556'),\n",
       " ('', 'P6578'),\n",
       " ('', 'P6656'),\n",
       " ('', 'P6677'),\n",
       " ('', 'P6683'),\n",
       " ('', 'P6722'),\n",
       " ('', 'P6815'),\n",
       " ('', 'P6821'),\n",
       " ('', 'P6844'),\n",
       " ('', 'P6873'),\n",
       " ('', 'P6903'),\n",
       " ('', 'P6925'),\n",
       " ('', 'P7029'),\n",
       " ('', 'P7208'),\n",
       " ('', 'P7444'),\n",
       " ('', 'P7445'),\n",
       " ('', 'P7491'),\n",
       " ('', 'P7507'),\n",
       " ('', 'P7578'),\n",
       " ('', 'P7699'),\n",
       " ('', 'P7700'),\n",
       " ('', 'P7704'),\n",
       " ('', 'P7753'),\n",
       " ('', 'P7842'),\n",
       " ('', 'P7865'),\n",
       " ('', 'P7902'),\n",
       " ('', 'P7928'),\n",
       " ('', 'P7935'),\n",
       " ('', 'P7982'),\n",
       " ('', 'P7986'),\n",
       " ('', 'P8034'),\n",
       " ('', 'P8094'),\n",
       " ('', 'P8116'),\n",
       " ('', 'P8122'),\n",
       " ('', 'P8172'),\n",
       " ('', 'P8234'),\n",
       " ('', 'P8290'),\n",
       " ('', 'P8334'),\n",
       " ('', 'P8349'),\n",
       " ('', 'P8385'),\n",
       " ('', 'P8406'),\n",
       " ('', 'P8432'),\n",
       " ('', 'P8496'),\n",
       " ('', 'P8511'),\n",
       " ('', 'P8544'),\n",
       " ('', 'P8551'),\n",
       " ('', 'P8557'),\n",
       " ('', 'P8581'),\n",
       " ('', 'P8589'),\n",
       " ('', 'P8590'),\n",
       " ('', 'P8636'),\n",
       " ('', 'P8669'),\n",
       " ('', 'P8728'),\n",
       " ('', 'P8750'),\n",
       " ('', 'P8795'),\n",
       " ('', 'P8796'),\n",
       " ('', 'P8805'),\n",
       " ('', 'P8849'),\n",
       " ('', 'P8851'),\n",
       " ('', 'P8870'),\n",
       " ('', 'P8914'),\n",
       " ('', 'P8971'),\n",
       " ('', 'P8974'),\n",
       " ('', 'P8980'),\n",
       " ('', 'P8999'),\n",
       " ('', 'P9037'),\n",
       " ('', 'P9049'),\n",
       " ('', 'P9081'),\n",
       " ('', 'P9097'),\n",
       " ('', 'P9113'),\n",
       " ('AE-tagazonosító', 'P5463'),\n",
       " ('AKL_Online-művészazonosító', 'P4432'),\n",
       " ('AllMovie-művészazonosító', 'P2019'),\n",
       " ('AllMusic-művészazonosító', 'P1728'),\n",
       " ('AlloCiné-személyazonosító', 'P1266'),\n",
       " ('Angelicum-szerzőazonosító', 'P5731'),\n",
       " ('Apple_Music-művészazonosító', 'P2850'),\n",
       " ('Artsy-művészazonosító', 'P2042'),\n",
       " ('BAV-azonosító', 'P1017'),\n",
       " ('BIBSYS-azonosító', 'P1015'),\n",
       " ('BNB-személyazonosító', 'P5361'),\n",
       " ('BNE-azonosító', 'P950'),\n",
       " ('BNR-azonosító', 'P1003'),\n",
       " ('BPN', 'P651'),\n",
       " ('BVMC-szerzőazonosító', 'P2799'),\n",
       " ('Babelio-szerzőazonosító', 'P3630'),\n",
       " ('BanQ-szerzőazonosító', 'P3280'),\n",
       " ('Benezit-azonosító', 'P2843'),\n",
       " ('BnF-azonosító', 'P268'),\n",
       " ('British_Museum_person-institution', 'P1711'),\n",
       " ('CANTIC', 'P1273'),\n",
       " ('CERL-azonosító', 'P1871'),\n",
       " ('CLARA-azonosító', 'P1615'),\n",
       " ('CONOR.SI-azonosító', 'P1280'),\n",
       " ('COURAGE-azonosító', 'P7037'),\n",
       " ('Canadiana_NCF-azonosító', 'P8179'),\n",
       " ('Carnegie_Hall-azonosító', 'P4104'),\n",
       " ('Catholic_Encyclopedia-azonosító', 'P3241'),\n",
       " ('Catholic_Hierarchy-személyazonosító', 'P1047'),\n",
       " ('CiNii-cikkazonosító', 'P2409'),\n",
       " ('CiNii-szerzőazonosító', 'P271'),\n",
       " ('Cinemagia-színészazonosító', 'P4666'),\n",
       " ('Commons-alkotólap', 'P1472'),\n",
       " ('Commons-galéria', 'P935'),\n",
       " ('Commons-kategória', 'P373'),\n",
       " ('Cultureel_Woordenboek-azonosító', 'P3569'),\n",
       " ('DACS_szerzői_licencazonosító', 'P4663'),\n",
       " ('DBC-szerzőazonosító', 'P3846'),\n",
       " ('DBNL-azonosító', 'P723'),\n",
       " ('DNF-személyazonosító', 'P2626'),\n",
       " ('De_Agostini-azonosító', 'P6706'),\n",
       " ('Deezer-művészazonosító', 'P2722'),\n",
       " ('Delarge_ID', 'P1988'),\n",
       " ('Discogs-művészazonosító', 'P1953'),\n",
       " ('EGAXA_azonosító', 'P1309'),\n",
       " ('EMLO-ID', 'P1802'),\n",
       " ('EP-képviselői_azonosító', 'P1186'),\n",
       " ('Elonet-színészazonosító', 'P2387'),\n",
       " ('Enciclopedia_Treccani-azonosító', 'P3365'),\n",
       " ('Encyclopædia_Britannica_Online-azonosító', 'P1417'),\n",
       " ('Encyclopædia_Universalis-azonosító', 'P3219'),\n",
       " ('FAST-azonosító', 'P2163'),\n",
       " ('Facebook-azonosító', 'P2013'),\n",
       " ('Filmportal-azonosító', 'P2639'),\n",
       " ('Filmweb.pl-személyazonosító', 'P5033'),\n",
       " ('Find_a_Grave-sírazonosító', 'P535'),\n",
       " ('Freebase-azonosító', 'P646'),\n",
       " ('GND-azonosító', 'P227'),\n",
       " ('GTAA-azonosító', 'P1741'),\n",
       " ('Geni.com-profilazonosító', 'P2600'),\n",
       " ('Google_Tudásgráf-azonosító', 'P2671'),\n",
       " ('Gran_Enciclopèdia_Catalana-azonosító', 'P1296'),\n",
       " ('Görög_Nemzeti_Könyvtár-azonosító', 'P3348'),\n",
       " ('Homokozó-Külső_azonosító', 'P2536'),\n",
       " ('IMDb-azonosító', 'P345'),\n",
       " ('IMSLP-azonosító', 'P839'),\n",
       " ('IPI-névazonosító', 'P1828'),\n",
       " ('ISFDB-szerzőazonosító', 'P1233'),\n",
       " ('ISNI', 'P213'),\n",
       " ('ISzDb-személyazonosító', 'P3114'),\n",
       " ('Instagram-felhasználónév', 'P2003'),\n",
       " ('Invaluable.com_személyazonosító', 'P4927'),\n",
       " ('Iranica-azonosító', 'P3021'),\n",
       " ('Izraeli_Nemzeti_Könyvtár_J9U-azonosító', 'P8189'),\n",
       " ('Kaiserhof-azonosító', 'P1818'),\n",
       " ('Kindred_Britain-azonosító', 'P3051'),\n",
       " ('KinoPoiszk-személyazonosító', 'P2604'),\n",
       " ('Kunstindex_Danmark-művészazonosító', 'P1138'),\n",
       " ('LAC_azonosító', 'P1670'),\n",
       " ('LCAuth-azonosító', 'P244'),\n",
       " ('LNB-azonosító', 'P1368'),\n",
       " ('Lengyel_Nemzeti_Könyvtár-azonosító', 'P7293'),\n",
       " ('LibriVox_author_ID', 'P1899'),\n",
       " ('MTA-tagazonosító', 'P3226'),\n",
       " ('MTMT-szerzőazonosító', 'P2492'),\n",
       " ('Magyar_Nemzeti_Névtér-személyazonosító', 'P6988'),\n",
       " ('Magyar_főnemességi_adattár-azonosító', 'P9129'),\n",
       " ('Magyar_életrajzi_lexikon-azonosító', 'P8998'),\n",
       " ('MoMA-művészazonosító', 'P2174'),\n",
       " ('MovieMeter-rendezőazonosító', 'P1969'),\n",
       " ('Munzinger-azonosító', 'P1284'),\n",
       " ('MusicBrainz-művészazonosító', 'P434'),\n",
       " ('Muziekweb-előadóazonosító', 'P5882'),\n",
       " ('MySpace-azonosító', 'P3265'),\n",
       " ('NDL-azonosító', 'P349'),\n",
       " ('NILF-személyazonosság', 'P2191'),\n",
       " ('NKC-azonosító', 'P691'),\n",
       " ('NLA', 'P409'),\n",
       " ('NLA_Trove-azonosító', 'P1315'),\n",
       " ('NLI-azonosító_(Izrael)', 'P949'),\n",
       " ('NLP-azonosító', 'P1695'),\n",
       " ('NNDB-azonosító', 'P1263'),\n",
       " ('NSK-azonosító', 'P1375'),\n",
       " ('NTA-azonosító', 'P1006'),\n",
       " ('NUKAT-azonosító', 'P1207'),\n",
       " ('Nagy_orosz_enciklopédia-azonosító', 'P2924'),\n",
       " ('Nationalencyklopedin-azonosító', 'P3222'),\n",
       " ('OSZK-azonosító_(VIAF)', 'P951'),\n",
       " ('OSZK-egységesítettnévalak', 'P3133'),\n",
       " ('OSZMI-azonosító', 'P6796'),\n",
       " ('OpenPlaques_azonosító', 'P1430'),\n",
       " ('Open_Library-azonosító', 'P648'),\n",
       " ('Open_Media_Database-személyazonosító', 'P5534'),\n",
       " ('PIM-névtér-azonosító', 'P3973'),\n",
       " ('PM20-mappaazonosító', 'P4293'),\n",
       " ('PORT.hu-személyazonosító', 'P2435'),\n",
       " ('PTBNP-azonosító', 'P1005'),\n",
       " ('Perlentaucher-azonosító', 'P866'),\n",
       " ('Persée-szerzőazonosító', 'P2732'),\n",
       " (\"Photographers'_Identities_Catalog-azonosító\", 'P2750'),\n",
       " ('Project_Gutenberg-szerzőazonosító', 'P1938'),\n",
       " ('Quora-témaazonosító', 'P3417'),\n",
       " ('RERO-azonosító', 'P3065'),\n",
       " ('RKDartists', 'P650'),\n",
       " ('RSL-azonosító', 'P947'),\n",
       " ('Roglo-személyazonosító', 'P7929'),\n",
       " ('Rotten_Tomatoes-azonosító', 'P1258'),\n",
       " ('Runeberg-szerzőazonosító', 'P3154'),\n",
       " ('SBN', 'P396'),\n",
       " ('SELIBR', 'P906'),\n",
       " ('SFDb-személyazonosító', 'P2168'),\n",
       " ('SHARE_Catalogue-szerzőazonosító', 'P3987'),\n",
       " ('SIKART-azonosító', 'P781'),\n",
       " ('SNAC-azonosító', 'P3430'),\n",
       " ('SUDOC-azonosító', 'P269'),\n",
       " ('Scope.dk-személyazonosító', 'P2519'),\n",
       " ('Scopus_Author_ID', 'P1153'),\n",
       " ('Slovenska_biografija_azonosító', 'P1254'),\n",
       " ('Spotify-művészazonosító', 'P1902'),\n",
       " ('Store_norske_leksikon-azonosító', 'P4342'),\n",
       " ('Tate-művészazonosító', 'P2741'),\n",
       " ('Teuchos_ID', 'P2018'),\n",
       " ('The_Numbers-személyazonosító', 'P4657'),\n",
       " ('Tumblr-azonosító', 'P3943'),\n",
       " ('Twitter-felhasználónév', 'P2002'),\n",
       " ('ULAN', 'P245'),\n",
       " ('Unz-szerzőazonosító', 'P2734'),\n",
       " ('VIAF-azonosító', 'P214'),\n",
       " ('Világ_Igaza-azonosító', 'P1979'),\n",
       " ('WikiTree-azonosító', 'P2949'),\n",
       " ('Wikimédia-felhasználóinév', 'P4174'),\n",
       " ('WomenWriters-azonosító', 'P2533'),\n",
       " ('WorldCat-azonosító', 'P7859'),\n",
       " ('YouTube-csatorna-azonosító', 'P2397'),\n",
       " ('Zsidó_enciklopédia_azonosító', 'P1438'),\n",
       " ('aktív_időszak_kezdete', 'P2031'),\n",
       " ('alias', None),\n",
       " ('alma_mater', 'P69'),\n",
       " ('aláírás', 'P109'),\n",
       " ('anya', 'P25'),\n",
       " ('anyanyelv', 'P103'),\n",
       " ('anyanyelvi_neve', 'P1559'),\n",
       " ('apa', 'P22'),\n",
       " ('archiválva_itt', 'P485'),\n",
       " ('becenév', 'P1449'),\n",
       " ('beosztás', 'P39'),\n",
       " ('beszélt_nyelvek', 'P1412'),\n",
       " ('büntetés_letöltésének_helye', 'P2632'),\n",
       " ('család', 'P53'),\n",
       " ('családnév', 'P734'),\n",
       " ('csata/háború', 'P607'),\n",
       " ('címer', 'P94'),\n",
       " ('description', None),\n",
       " ('díj', 'P166'),\n",
       " ('egészségi_állapot', 'P1050'),\n",
       " ('elFilm-személyazonosító', 'P3144'),\n",
       " ('elítélve_ezért', 'P1399'),\n",
       " ('emléktábla_képe', 'P1801'),\n",
       " ('etnikai_csoport', 'P172'),\n",
       " ('foglalkozás', 'P106'),\n",
       " ('genealogics.org-személyazonosító', 'P1819'),\n",
       " ('gyermek', 'P40'),\n",
       " ('gyermekek_száma', 'P1971'),\n",
       " ('halál_módja', 'P1196'),\n",
       " ('halál_oka', 'P509'),\n",
       " ('halálozási_hely', 'P20'),\n",
       " ('halálozási_idő', 'P570'),\n",
       " ('hangfekvés', 'P412'),\n",
       " ('hangszer', 'P1303'),\n",
       " ('hely', 'P276'),\n",
       " ('hivatalos_blog', 'P1581'),\n",
       " ('hivatalos_weboldal', 'P856'),\n",
       " ('házassági_név', 'P2562'),\n",
       " ('házastárs', 'P26'),\n",
       " ('jelölt', 'P3602'),\n",
       " ('jelölés', 'P1411'),\n",
       " ('kana_név', 'P1814'),\n",
       " ('kapcsolódó_kategória', 'P7084'),\n",
       " ('katonai_részleg', 'P241'),\n",
       " ('kiadó', 'P123'),\n",
       " ('kiejtés_(hangfájl)', 'P443'),\n",
       " ('kulcsesemény', 'P793'),\n",
       " ('kép', 'P18'),\n",
       " ('különbözik_tőle', 'P1889'),\n",
       " ('lakhely', 'P551'),\n",
       " ('lemezkiadó', 'P264'),\n",
       " ('lesarchivesduspectacle-azonosító', 'P1977'),\n",
       " ('leírás_URL-címe', 'P973'),\n",
       " ('leírást_tartalmazó_forrás', 'P1343'),\n",
       " ('londoni_National_Portrait_Gallery-azonosító', 'P1816'),\n",
       " ('mozgalom', 'P135'),\n",
       " ('munkáltató', 'P108'),\n",
       " ('munkásságának_helye', 'P937'),\n",
       " ('műfaj', 'P136'),\n",
       " ('műve', 'P800'),\n",
       " ('műveinek_szerzői_jogi_státusza', 'P7763'),\n",
       " ('műveit_tartalmazó_gyűjtemény', 'P6379'),\n",
       " ('nem', 'P21'),\n",
       " ('nemesi_cím', 'P97'),\n",
       " ('nevelőszülő', 'P3448'),\n",
       " ('nyughely', 'P119'),\n",
       " ('nyughely_képe', 'P1442'),\n",
       " ('név', 'P2561'),\n",
       " ('openMLOL-szerzőazonosító', 'P3762'),\n",
       " ('országgyűlési_azonosító', 'P4966'),\n",
       " ('osztály,_amelynek_példánya', 'P31'),\n",
       " ('politikai_párt', 'P102'),\n",
       " ('rendfokozat', 'P410'),\n",
       " ('rokon', 'P1038'),\n",
       " ('része_ennek', 'P361'),\n",
       " ('részt_vett', 'P1344'),\n",
       " ('sportág', 'P641'),\n",
       " ('szentelő', 'P1598'),\n",
       " ('szerzetesrend', 'P611'),\n",
       " ('szerző_karakterláncként', 'P2093'),\n",
       " ('szexuális_irányultság', 'P91'),\n",
       " ('születési_hely', 'P19'),\n",
       " ('születési_idő', 'P569'),\n",
       " ('születési_név', 'P1477'),\n",
       " ('tagság', 'P463'),\n",
       " ('tanár', 'P1066'),\n",
       " ('temetés_vagy_hamvasztás_ideje', 'P4602'),\n",
       " ('testvér', 'P3373'),\n",
       " ('tevékenységi_terület', 'P101'),\n",
       " ('tudományos_fokozat', 'P512'),\n",
       " ('tulajdonosa_ennek', 'P1830'),\n",
       " ('téma_fő_kategóriája', 'P910'),\n",
       " ('utónév', 'P735'),\n",
       " ('vallás', 'P140'),\n",
       " ('vélhetőleg_ugyanaz,_mint', 'P460'),\n",
       " ('állampolgárság', 'P27'),\n",
       " ('álnév', 'P742'),\n",
       " ('életben_volt', 'P1317'),\n",
       " ('élettárs', 'P451'),\n",
       " ('írott_műveinek_nyelve', 'P6886'),\n",
       " ('ČSFD-személyazonosító', 'P2605')}"
      ]
     },
     "execution_count": 10,
     "metadata": {},
     "output_type": "execute_result"
    }
   ],
   "source": []
  },
  {
   "cell_type": "code",
   "execution_count": 13,
   "metadata": {},
   "outputs": [],
   "source": [
    "with open('data/freebase_mapping.p', 'rb') as f:\n",
    "    freebase_mapping = pickle.load(f)\n",
    "    \n",
    "freebase_mapping_rev = {v: k for k, v in freebase_mapping.items()}"
   ]
  },
  {
   "cell_type": "code",
   "execution_count": 14,
   "metadata": {},
   "outputs": [],
   "source": [
    "def filter_kg(nodes, edge):\n",
    "    entity_triplets = triplets[triplets.source.apply(lambda d: d['wikidata_id'] in nodes)]\n",
    "    edge_triplets = entity_triplets[entity_triplets.edge.apply(lambda d: d['wikidata_id'] == edge)]\n",
    "    \n",
    "    res = []\n",
    "    if len(edge_triplets):\n",
    "        for d in edge_triplets.destination.tolist():\n",
    "            if 'name' in d:\n",
    "                res.append(d['name'])\n",
    "            else:\n",
    "                res.append(d)\n",
    "    \n",
    "    return res"
   ]
  },
  {
   "cell_type": "code",
   "execution_count": 15,
   "metadata": {},
   "outputs": [],
   "source": [
    "nlp = spacy.blank(\"hu\")\n",
    "source_matcher = FuzzyMatcher(nlp.vocab)\n",
    "\n",
    "sources = []\n",
    "\n",
    "for d in triplets.source.tolist():\n",
    "    tup = (d['wikidata_id'], d['name'])\n",
    "    if tup not in sources:\n",
    "        sources.append(tup)\n",
    "\n",
    "\n",
    "for _id, name in sources:\n",
    "    source_matcher.add(_id, [nlp(name)])\n",
    "\n",
    "\n",
    "def ask_single_hop(text):\n",
    "    doc = nlp(text)\n",
    "    matches = source_matcher(doc)\n",
    "    \n",
    "    vec = vect.transform([text])\n",
    "    freebase_pred = le.inverse_transform(logreg.predict(vec))[0]\n",
    "\n",
    "    source_matches = []\n",
    "    edge_m = freebase_mapping_rev[freebase_pred]\n",
    "\n",
    "    for match_id, start, end, ratio in matches:\n",
    "        source_matches.append((ratio, match_id))\n",
    "\n",
    "    source_matches = sorted(source_matches, reverse=True)\n",
    "        \n",
    "    if source_matches:\n",
    "        source_m = [x[1] for x in source_matches if x[0] >= 80]\n",
    "\n",
    "        return filter_kg(source_m, edge_m)\n",
    "    else:\n",
    "        return []"
   ]
  },
  {
   "cell_type": "code",
   "execution_count": 16,
   "metadata": {},
   "outputs": [
    {
     "data": {
      "text/plain": [
       "['']"
      ]
     },
     "execution_count": 16,
     "metadata": {},
     "output_type": "execute_result"
    }
   ],
   "source": [
    "ask_single_hop('Miben halt meg József Attila?')"
   ]
  },
  {
   "cell_type": "code",
   "execution_count": 17,
   "metadata": {},
   "outputs": [
    {
     "data": {
      "text/plain": [
       "['Balatonszárszó']"
      ]
     },
     "execution_count": 17,
     "metadata": {},
     "output_type": "execute_result"
    }
   ],
   "source": [
    "ask_single_hop('Hol halt meg József Attila?')"
   ]
  },
  {
   "cell_type": "code",
   "execution_count": 18,
   "metadata": {},
   "outputs": [
    {
     "data": {
      "text/plain": [
       "['Magyarország', 'Románia']"
      ]
     },
     "execution_count": 18,
     "metadata": {},
     "output_type": "execute_result"
    }
   ],
   "source": [
    "ask_single_hop('Mi volt József Attila nemzetisége?')"
   ]
  },
  {
   "cell_type": "code",
   "execution_count": 19,
   "metadata": {},
   "outputs": [
    {
     "data": {
      "text/plain": [
       "['Magyarország']"
      ]
     },
     "execution_count": 19,
     "metadata": {},
     "output_type": "execute_result"
    }
   ],
   "source": [
    "ask_single_hop('Milyen nemzetiségű József Attila?')"
   ]
  },
  {
   "cell_type": "code",
   "execution_count": 20,
   "metadata": {},
   "outputs": [
    {
     "data": {
      "text/plain": [
       "['Magyarország']"
      ]
     },
     "execution_count": 20,
     "metadata": {},
     "output_type": "execute_result"
    }
   ],
   "source": [
    "ask_single_hop('Honnan szárzamik József Attila?')"
   ]
  },
  {
   "cell_type": "code",
   "execution_count": 21,
   "metadata": {},
   "outputs": [
    {
     "data": {
      "text/plain": [
       "['költő', 'műfordító', 'színész', 'író']"
      ]
     },
     "execution_count": 21,
     "metadata": {},
     "output_type": "execute_result"
    }
   ],
   "source": [
    "ask_single_hop('Mi Petőfi Sándor foglalkozása?')"
   ]
  },
  {
   "cell_type": "code",
   "execution_count": 22,
   "metadata": {},
   "outputs": [
    {
     "data": {
      "text/plain": [
       "['csatában elesett']"
      ]
     },
     "execution_count": 22,
     "metadata": {},
     "output_type": "execute_result"
    }
   ],
   "source": [
    "ask_single_hop('Miben halt meg Petőfi Sándor?')"
   ]
  },
  {
   "cell_type": "code",
   "execution_count": 23,
   "metadata": {},
   "outputs": [
    {
     "data": {
      "text/plain": [
       "['Fehéregyháza']"
      ]
     },
     "execution_count": 23,
     "metadata": {},
     "output_type": "execute_result"
    }
   ],
   "source": [
    "ask_single_hop('Hol halt meg Petőfi Sándor?')"
   ]
  },
  {
   "cell_type": "code",
   "execution_count": 24,
   "metadata": {},
   "outputs": [
    {
     "data": {
      "text/plain": [
       "[]"
      ]
     },
     "execution_count": 24,
     "metadata": {},
     "output_type": "execute_result"
    }
   ],
   "source": [
    "ask_single_hop('Milyen felekezethez tartozott Petőfi?')"
   ]
  },
  {
   "cell_type": "code",
   "execution_count": 25,
   "metadata": {},
   "outputs": [
    {
     "data": {
      "text/plain": [
       "['evangélikus kereszténység']"
      ]
     },
     "execution_count": 25,
     "metadata": {},
     "output_type": "execute_result"
    }
   ],
   "source": [
    "ask_single_hop('Milyen felekezethez tartozott Petőfi Sándor?')"
   ]
  },
  {
   "cell_type": "code",
   "execution_count": 26,
   "metadata": {},
   "outputs": [
    {
     "data": {
      "text/plain": [
       "['evangélikus kereszténység']"
      ]
     },
     "execution_count": 26,
     "metadata": {},
     "output_type": "execute_result"
    }
   ],
   "source": [
    "ask_single_hop('Mi volt Petőfi Sándor vallása?')"
   ]
  },
  {
   "cell_type": "code",
   "execution_count": 27,
   "metadata": {},
   "outputs": [
    {
     "data": {
      "text/plain": [
       "['férfi', 'férfi', 'férfi']"
      ]
     },
     "execution_count": 27,
     "metadata": {},
     "output_type": "execute_result"
    }
   ],
   "source": [
    "ask_single_hop('Mi Kosztolányi Dezső neme?')"
   ]
  },
  {
   "cell_type": "code",
   "execution_count": 28,
   "metadata": {},
   "outputs": [
    {
     "data": {
      "text/plain": [
       "['férfi', 'férfi', 'férfi']"
      ]
     },
     "execution_count": 28,
     "metadata": {},
     "output_type": "execute_result"
    }
   ],
   "source": [
    "ask_single_hop('Kosztolányi Dezső férfi volt?')"
   ]
  },
  {
   "cell_type": "code",
   "execution_count": 30,
   "metadata": {},
   "outputs": [
    {
     "data": {
      "text/plain": [
       "['A helység kalapácsa',\n",
       " 'Az alföld',\n",
       " 'János vitéz',\n",
       " 'Az apostol',\n",
       " 'Nemzeti dal']"
      ]
     },
     "execution_count": 30,
     "metadata": {},
     "output_type": "execute_result"
    }
   ],
   "source": [
    "ask_single_hop('Mit írt Petőfi Sándor?')"
   ]
  },
  {
   "cell_type": "code",
   "execution_count": 31,
   "metadata": {},
   "outputs": [
    {
     "data": {
      "text/plain": [
       "['költő', 'műfordító', 'színész', 'író']"
      ]
     },
     "execution_count": 31,
     "metadata": {},
     "output_type": "execute_result"
    }
   ],
   "source": [
    "ask_single_hop('Miről ismert Petőfi Sándor?')"
   ]
  },
  {
   "cell_type": "code",
   "execution_count": 34,
   "metadata": {},
   "outputs": [
    {
     "data": {
      "text/plain": [
       "['költő',\n",
       " 'költő',\n",
       " 'irodalomkritikus',\n",
       " 'műfordító',\n",
       " 'újságíró',\n",
       " 'esszéíró',\n",
       " 'író',\n",
       " 'újságíró',\n",
       " 'költő',\n",
       " 'filozófus']"
      ]
     },
     "execution_count": 34,
     "metadata": {},
     "output_type": "execute_result"
    }
   ],
   "source": [
    "ask_single_hop('Mi Kosztolányi Dezső?')"
   ]
  },
  {
   "cell_type": "code",
   "execution_count": null,
   "metadata": {},
   "outputs": [],
   "source": []
  },
  {
   "cell_type": "code",
   "execution_count": 11,
   "metadata": {},
   "outputs": [],
   "source": [
    "triplets = pd.read_json('/home/soma/Desktop/poets_kg/poets_QA/data/poet_triplets.json')"
   ]
  },
  {
   "cell_type": "code",
   "execution_count": 12,
   "metadata": {},
   "outputs": [
    {
     "data": {
      "text/html": [
       "<div>\n",
       "<style scoped>\n",
       "    .dataframe tbody tr th:only-of-type {\n",
       "        vertical-align: middle;\n",
       "    }\n",
       "\n",
       "    .dataframe tbody tr th {\n",
       "        vertical-align: top;\n",
       "    }\n",
       "\n",
       "    .dataframe thead th {\n",
       "        text-align: right;\n",
       "    }\n",
       "</style>\n",
       "<table border=\"1\" class=\"dataframe\">\n",
       "  <thead>\n",
       "    <tr style=\"text-align: right;\">\n",
       "      <th></th>\n",
       "      <th>source</th>\n",
       "      <th>edge</th>\n",
       "      <th>destination</th>\n",
       "    </tr>\n",
       "  </thead>\n",
       "  <tbody>\n",
       "    <tr>\n",
       "      <th>0</th>\n",
       "      <td>{'name': 'Bencze József', 'wiki_url': '/wiki/B...</td>\n",
       "      <td>{'wikidata_id': 'P31', 'name': 'osztály, amely...</td>\n",
       "      <td>{'wikidata_id': 'Q5', 'name': 'ember', 'descri...</td>\n",
       "    </tr>\n",
       "    <tr>\n",
       "      <th>1</th>\n",
       "      <td>{'name': 'Bencze József', 'wiki_url': '/wiki/B...</td>\n",
       "      <td>{'wikidata_id': 'P21', 'name': 'nem', 'descrip...</td>\n",
       "      <td>{'wikidata_id': 'Q6581097', 'name': 'férfi', '...</td>\n",
       "    </tr>\n",
       "    <tr>\n",
       "      <th>2</th>\n",
       "      <td>{'name': 'Bencze József', 'wiki_url': '/wiki/B...</td>\n",
       "      <td>{'wikidata_id': 'P735', 'name': 'utónév', 'des...</td>\n",
       "      <td>{'wikidata_id': 'Q17498051', 'name': 'József',...</td>\n",
       "    </tr>\n",
       "    <tr>\n",
       "      <th>3</th>\n",
       "      <td>{'name': 'Bencze József', 'wiki_url': '/wiki/B...</td>\n",
       "      <td>{'wikidata_id': 'P570', 'name': 'halálozási id...</td>\n",
       "      <td>{'time': '+1988-02-02T00:00:00Z', 'timezone': ...</td>\n",
       "    </tr>\n",
       "    <tr>\n",
       "      <th>4</th>\n",
       "      <td>{'name': 'Bencze József', 'wiki_url': '/wiki/B...</td>\n",
       "      <td>{'wikidata_id': 'P106', 'name': 'foglalkozás',...</td>\n",
       "      <td>{'wikidata_id': 'Q49757', 'name': 'költő', 'de...</td>\n",
       "    </tr>\n",
       "    <tr>\n",
       "      <th>...</th>\n",
       "      <td>...</td>\n",
       "      <td>...</td>\n",
       "      <td>...</td>\n",
       "    </tr>\n",
       "    <tr>\n",
       "      <th>41276</th>\n",
       "      <td>{'name': 'Grecsó Krisztián', 'wiki_url': '/wik...</td>\n",
       "      <td>{'wikidata_id': 'P69', 'name': 'alma mater', '...</td>\n",
       "      <td>{'wikidata_id': 'Q791360', 'name': 'Batsányi J...</td>\n",
       "    </tr>\n",
       "    <tr>\n",
       "      <th>41277</th>\n",
       "      <td>{'name': 'Grecsó Krisztián', 'wiki_url': '/wik...</td>\n",
       "      <td>{'wikidata_id': 'P1971', 'name': 'gyermekek sz...</td>\n",
       "      <td>{'amount': '+1', 'unit': '1'}</td>\n",
       "    </tr>\n",
       "    <tr>\n",
       "      <th>41278</th>\n",
       "      <td>{'name': 'Grecsó Krisztián', 'wiki_url': '/wik...</td>\n",
       "      <td>{'wikidata_id': 'P1207', 'name': 'NUKAT-azonos...</td>\n",
       "      <td>n2012072267</td>\n",
       "    </tr>\n",
       "    <tr>\n",
       "      <th>41279</th>\n",
       "      <td>{'name': 'Grecsó Krisztián', 'wiki_url': '/wik...</td>\n",
       "      <td>{'wikidata_id': 'P2671', 'name': 'Google Tudás...</td>\n",
       "      <td>/g/1224mzhj</td>\n",
       "    </tr>\n",
       "    <tr>\n",
       "      <th>41280</th>\n",
       "      <td>{'name': 'Grecsó Krisztián', 'wiki_url': '/wik...</td>\n",
       "      <td>{'wikidata_id': 'P7293', 'name': 'Lengyel Nemz...</td>\n",
       "      <td>9810594900005606</td>\n",
       "    </tr>\n",
       "  </tbody>\n",
       "</table>\n",
       "<p>41281 rows × 3 columns</p>\n",
       "</div>"
      ],
      "text/plain": [
       "                                                  source  \\\n",
       "0      {'name': 'Bencze József', 'wiki_url': '/wiki/B...   \n",
       "1      {'name': 'Bencze József', 'wiki_url': '/wiki/B...   \n",
       "2      {'name': 'Bencze József', 'wiki_url': '/wiki/B...   \n",
       "3      {'name': 'Bencze József', 'wiki_url': '/wiki/B...   \n",
       "4      {'name': 'Bencze József', 'wiki_url': '/wiki/B...   \n",
       "...                                                  ...   \n",
       "41276  {'name': 'Grecsó Krisztián', 'wiki_url': '/wik...   \n",
       "41277  {'name': 'Grecsó Krisztián', 'wiki_url': '/wik...   \n",
       "41278  {'name': 'Grecsó Krisztián', 'wiki_url': '/wik...   \n",
       "41279  {'name': 'Grecsó Krisztián', 'wiki_url': '/wik...   \n",
       "41280  {'name': 'Grecsó Krisztián', 'wiki_url': '/wik...   \n",
       "\n",
       "                                                    edge  \\\n",
       "0      {'wikidata_id': 'P31', 'name': 'osztály, amely...   \n",
       "1      {'wikidata_id': 'P21', 'name': 'nem', 'descrip...   \n",
       "2      {'wikidata_id': 'P735', 'name': 'utónév', 'des...   \n",
       "3      {'wikidata_id': 'P570', 'name': 'halálozási id...   \n",
       "4      {'wikidata_id': 'P106', 'name': 'foglalkozás',...   \n",
       "...                                                  ...   \n",
       "41276  {'wikidata_id': 'P69', 'name': 'alma mater', '...   \n",
       "41277  {'wikidata_id': 'P1971', 'name': 'gyermekek sz...   \n",
       "41278  {'wikidata_id': 'P1207', 'name': 'NUKAT-azonos...   \n",
       "41279  {'wikidata_id': 'P2671', 'name': 'Google Tudás...   \n",
       "41280  {'wikidata_id': 'P7293', 'name': 'Lengyel Nemz...   \n",
       "\n",
       "                                             destination  \n",
       "0      {'wikidata_id': 'Q5', 'name': 'ember', 'descri...  \n",
       "1      {'wikidata_id': 'Q6581097', 'name': 'férfi', '...  \n",
       "2      {'wikidata_id': 'Q17498051', 'name': 'József',...  \n",
       "3      {'time': '+1988-02-02T00:00:00Z', 'timezone': ...  \n",
       "4      {'wikidata_id': 'Q49757', 'name': 'költő', 'de...  \n",
       "...                                                  ...  \n",
       "41276  {'wikidata_id': 'Q791360', 'name': 'Batsányi J...  \n",
       "41277                      {'amount': '+1', 'unit': '1'}  \n",
       "41278                                        n2012072267  \n",
       "41279                                        /g/1224mzhj  \n",
       "41280                                   9810594900005606  \n",
       "\n",
       "[41281 rows x 3 columns]"
      ]
     },
     "execution_count": 12,
     "metadata": {},
     "output_type": "execute_result"
    }
   ],
   "source": [
    "triplets"
   ]
  },
  {
   "cell_type": "code",
   "execution_count": null,
   "metadata": {},
   "outputs": [],
   "source": []
  }
 ],
 "metadata": {
  "kernelspec": {
   "display_name": "Python 3",
   "language": "python",
   "name": "python3"
  },
  "language_info": {
   "codemirror_mode": {
    "name": "ipython",
    "version": 3
   },
   "file_extension": ".py",
   "mimetype": "text/x-python",
   "name": "python",
   "nbconvert_exporter": "python",
   "pygments_lexer": "ipython3",
   "version": "3.8.2"
  }
 },
 "nbformat": 4,
 "nbformat_minor": 4
}
