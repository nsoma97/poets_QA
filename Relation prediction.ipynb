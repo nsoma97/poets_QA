{
 "cells": [
  {
   "cell_type": "code",
   "execution_count": 38,
   "metadata": {},
   "outputs": [],
   "source": [
    "from sklearn.feature_extraction.text import TfidfVectorizer\n",
    "from sklearn.preprocessing import LabelEncoder\n",
    "from sklearn.linear_model import LogisticRegression\n",
    "\n",
    "import pandas as pd\n",
    "import numpy as np"
   ]
  },
  {
   "cell_type": "code",
   "execution_count": 39,
   "metadata": {},
   "outputs": [],
   "source": [
    "vect = TfidfVectorizer()\n",
    "le = LabelEncoder()"
   ]
  },
  {
   "cell_type": "code",
   "execution_count": 40,
   "metadata": {},
   "outputs": [
    {
     "data": {
      "text/html": [
       "<div>\n",
       "<style scoped>\n",
       "    .dataframe tbody tr th:only-of-type {\n",
       "        vertical-align: middle;\n",
       "    }\n",
       "\n",
       "    .dataframe tbody tr th {\n",
       "        vertical-align: top;\n",
       "    }\n",
       "\n",
       "    .dataframe thead th {\n",
       "        text-align: right;\n",
       "    }\n",
       "</style>\n",
       "<table border=\"1\" class=\"dataframe\">\n",
       "  <thead>\n",
       "    <tr style=\"text-align: right;\">\n",
       "      <th></th>\n",
       "      <th>e1</th>\n",
       "      <th>property</th>\n",
       "      <th>e2</th>\n",
       "      <th>question</th>\n",
       "      <th>hun_question</th>\n",
       "    </tr>\n",
       "  </thead>\n",
       "  <tbody>\n",
       "    <tr>\n",
       "      <th>0</th>\n",
       "      <td>www.freebase.com/m/01xdf5</td>\n",
       "      <td>www.freebase.com/book/author/works_written</td>\n",
       "      <td>www.freebase.com/m/02qxck5</td>\n",
       "      <td>What book did stephen colbert write?</td>\n",
       "      <td>Milyen könyvet írt Stephen Colbert?</td>\n",
       "    </tr>\n",
       "    <tr>\n",
       "      <th>1</th>\n",
       "      <td>www.freebase.com/m/03m9c9l</td>\n",
       "      <td>www.freebase.com/book/author/works_written</td>\n",
       "      <td>www.freebase.com/m/04wbprh</td>\n",
       "      <td>whats the name of michael mcgarrity's books</td>\n",
       "      <td>mi a neve Michael McCgarrity könyveinek</td>\n",
       "    </tr>\n",
       "    <tr>\n",
       "      <th>2</th>\n",
       "      <td>www.freebase.com/m/041h0</td>\n",
       "      <td>www.freebase.com/book/author/works_written</td>\n",
       "      <td>www.freebase.com/m/04t05ry</td>\n",
       "      <td>what was written by j. r. r. tolkien</td>\n",
       "      <td>amit j írt. r. r. tolkien</td>\n",
       "    </tr>\n",
       "    <tr>\n",
       "      <th>3</th>\n",
       "      <td>www.freebase.com/m/031qmr</td>\n",
       "      <td>www.freebase.com/book/author/works_written</td>\n",
       "      <td>www.freebase.com/m/04w95tk</td>\n",
       "      <td>what was one of pete hamill's works</td>\n",
       "      <td>mi volt Pete Hamill egyik műve</td>\n",
       "    </tr>\n",
       "    <tr>\n",
       "      <th>4</th>\n",
       "      <td>www.freebase.com/m/01st1f</td>\n",
       "      <td>www.freebase.com/book/author/works_written</td>\n",
       "      <td>www.freebase.com/m/05qcvw1</td>\n",
       "      <td>What book did andre norton write?</td>\n",
       "      <td>Milyen könyvet írt andre norton?</td>\n",
       "    </tr>\n",
       "  </tbody>\n",
       "</table>\n",
       "</div>"
      ],
      "text/plain": [
       "                           e1                                    property  \\\n",
       "0   www.freebase.com/m/01xdf5  www.freebase.com/book/author/works_written   \n",
       "1  www.freebase.com/m/03m9c9l  www.freebase.com/book/author/works_written   \n",
       "2    www.freebase.com/m/041h0  www.freebase.com/book/author/works_written   \n",
       "3   www.freebase.com/m/031qmr  www.freebase.com/book/author/works_written   \n",
       "4   www.freebase.com/m/01st1f  www.freebase.com/book/author/works_written   \n",
       "\n",
       "                           e2                                     question  \\\n",
       "0  www.freebase.com/m/02qxck5         What book did stephen colbert write?   \n",
       "1  www.freebase.com/m/04wbprh  whats the name of michael mcgarrity's books   \n",
       "2  www.freebase.com/m/04t05ry         what was written by j. r. r. tolkien   \n",
       "3  www.freebase.com/m/04w95tk         what was one of pete hamill's works    \n",
       "4  www.freebase.com/m/05qcvw1            What book did andre norton write?   \n",
       "\n",
       "                              hun_question  \n",
       "0      Milyen könyvet írt Stephen Colbert?  \n",
       "1  mi a neve Michael McCgarrity könyveinek  \n",
       "2                amit j írt. r. r. tolkien  \n",
       "3           mi volt Pete Hamill egyik műve  \n",
       "4         Milyen könyvet írt andre norton?  "
      ]
     },
     "execution_count": 40,
     "metadata": {},
     "output_type": "execute_result"
    }
   ],
   "source": [
    "questions = pd.read_json('data/freebase_samp_questions.json')\n",
    "questions.head()"
   ]
  },
  {
   "cell_type": "code",
   "execution_count": 43,
   "metadata": {},
   "outputs": [],
   "source": [
    "X = questions.hun_question.tolist()\n",
    "y = np.array(questions.property)"
   ]
  },
  {
   "cell_type": "code",
   "execution_count": 61,
   "metadata": {},
   "outputs": [
    {
     "data": {
      "text/plain": [
       "array(['www.freebase.com/book/author/works_written',\n",
       "       'www.freebase.com/cvg/computer_videogame/publisher',\n",
       "       'www.freebase.com/military/military_person/participated_in_conflicts',\n",
       "       'www.freebase.com/music/group_member/instruments_played',\n",
       "       'www.freebase.com/music/release/label',\n",
       "       'www.freebase.com/people/deceased_person/cause_of_death',\n",
       "       'www.freebase.com/people/deceased_person/place_of_burial',\n",
       "       'www.freebase.com/people/deceased_person/place_of_death',\n",
       "       'www.freebase.com/people/person/children',\n",
       "       'www.freebase.com/people/person/ethnicity',\n",
       "       'www.freebase.com/people/person/gender',\n",
       "       'www.freebase.com/people/person/nationality',\n",
       "       'www.freebase.com/people/person/place_of_birth',\n",
       "       'www.freebase.com/people/person/profession',\n",
       "       'www.freebase.com/people/person/religion',\n",
       "       'www.freebase.com/royalty/monarch/royal_line',\n",
       "       'www.freebase.com/sports/sports_team/sport',\n",
       "       'www.freebase.com/transportation/bridge/bridge_type',\n",
       "       'www.freebase.com/tv/tv_series_episode/season'], dtype=object)"
      ]
     },
     "execution_count": 61,
     "metadata": {},
     "output_type": "execute_result"
    }
   ],
   "source": [
    "questions.property.unique()"
   ]
  },
  {
   "cell_type": "code",
   "execution_count": 45,
   "metadata": {},
   "outputs": [],
   "source": [
    "X_trf = vect.fit_transform(X).toarray()\n",
    "y_trf = le.fit_transform(y)"
   ]
  },
  {
   "cell_type": "code",
   "execution_count": 47,
   "metadata": {},
   "outputs": [],
   "source": [
    "logreg = LogisticRegression()"
   ]
  },
  {
   "cell_type": "code",
   "execution_count": 48,
   "metadata": {},
   "outputs": [
    {
     "data": {
      "text/plain": [
       "LogisticRegression()"
      ]
     },
     "execution_count": 48,
     "metadata": {},
     "output_type": "execute_result"
    }
   ],
   "source": [
    "logreg.fit(X_trf, y_trf)"
   ]
  },
  {
   "cell_type": "code",
   "execution_count": 69,
   "metadata": {},
   "outputs": [
    {
     "data": {
      "text/plain": [
       "array(['www.freebase.com/people/deceased_person/cause_of_death'],\n",
       "      dtype=object)"
      ]
     },
     "execution_count": 69,
     "metadata": {},
     "output_type": "execute_result"
    }
   ],
   "source": [
    "vec = vect.transform(['Miben halt meg József Attila?'])\n",
    "\n",
    "le.inverse_transform(logreg.predict(vec))"
   ]
  },
  {
   "cell_type": "markdown",
   "metadata": {},
   "source": [
    "# Single-hop QA"
   ]
  },
  {
   "cell_type": "code",
   "execution_count": 74,
   "metadata": {},
   "outputs": [],
   "source": [
    "import spacy\n",
    "from spaczz.matcher import FuzzyMatcher\n",
    "\n",
    "import pickle"
   ]
  },
  {
   "cell_type": "code",
   "execution_count": 70,
   "metadata": {},
   "outputs": [
    {
     "data": {
      "text/html": [
       "<div>\n",
       "<style scoped>\n",
       "    .dataframe tbody tr th:only-of-type {\n",
       "        vertical-align: middle;\n",
       "    }\n",
       "\n",
       "    .dataframe tbody tr th {\n",
       "        vertical-align: top;\n",
       "    }\n",
       "\n",
       "    .dataframe thead th {\n",
       "        text-align: right;\n",
       "    }\n",
       "</style>\n",
       "<table border=\"1\" class=\"dataframe\">\n",
       "  <thead>\n",
       "    <tr style=\"text-align: right;\">\n",
       "      <th></th>\n",
       "      <th>source</th>\n",
       "      <th>edge</th>\n",
       "      <th>destination</th>\n",
       "    </tr>\n",
       "  </thead>\n",
       "  <tbody>\n",
       "    <tr>\n",
       "      <th>0</th>\n",
       "      <td>{'name': 'Bencze József', 'wiki_url': '/wiki/B...</td>\n",
       "      <td>{'wikidata_id': 'P31', 'name': 'osztály, amely...</td>\n",
       "      <td>{'wikidata_id': 'Q5', 'name': 'ember', 'descri...</td>\n",
       "    </tr>\n",
       "    <tr>\n",
       "      <th>1</th>\n",
       "      <td>{'name': 'Bencze József', 'wiki_url': '/wiki/B...</td>\n",
       "      <td>{'wikidata_id': 'P21', 'name': 'nem', 'descrip...</td>\n",
       "      <td>{'wikidata_id': 'Q6581097', 'name': 'férfi', '...</td>\n",
       "    </tr>\n",
       "    <tr>\n",
       "      <th>2</th>\n",
       "      <td>{'name': 'Bencze József', 'wiki_url': '/wiki/B...</td>\n",
       "      <td>{'wikidata_id': 'P735', 'name': 'utónév', 'des...</td>\n",
       "      <td>{'wikidata_id': 'Q17498051', 'name': 'József',...</td>\n",
       "    </tr>\n",
       "    <tr>\n",
       "      <th>3</th>\n",
       "      <td>{'name': 'Bencze József', 'wiki_url': '/wiki/B...</td>\n",
       "      <td>{'wikidata_id': 'P570', 'name': 'halálozási id...</td>\n",
       "      <td>{'time': '+1988-02-02T00:00:00Z', 'timezone': ...</td>\n",
       "    </tr>\n",
       "    <tr>\n",
       "      <th>4</th>\n",
       "      <td>{'name': 'Bencze József', 'wiki_url': '/wiki/B...</td>\n",
       "      <td>{'wikidata_id': 'P106', 'name': 'foglalkozás',...</td>\n",
       "      <td>{'wikidata_id': 'Q49757', 'name': 'költő', 'de...</td>\n",
       "    </tr>\n",
       "  </tbody>\n",
       "</table>\n",
       "</div>"
      ],
      "text/plain": [
       "                                              source  \\\n",
       "0  {'name': 'Bencze József', 'wiki_url': '/wiki/B...   \n",
       "1  {'name': 'Bencze József', 'wiki_url': '/wiki/B...   \n",
       "2  {'name': 'Bencze József', 'wiki_url': '/wiki/B...   \n",
       "3  {'name': 'Bencze József', 'wiki_url': '/wiki/B...   \n",
       "4  {'name': 'Bencze József', 'wiki_url': '/wiki/B...   \n",
       "\n",
       "                                                edge  \\\n",
       "0  {'wikidata_id': 'P31', 'name': 'osztály, amely...   \n",
       "1  {'wikidata_id': 'P21', 'name': 'nem', 'descrip...   \n",
       "2  {'wikidata_id': 'P735', 'name': 'utónév', 'des...   \n",
       "3  {'wikidata_id': 'P570', 'name': 'halálozási id...   \n",
       "4  {'wikidata_id': 'P106', 'name': 'foglalkozás',...   \n",
       "\n",
       "                                         destination  \n",
       "0  {'wikidata_id': 'Q5', 'name': 'ember', 'descri...  \n",
       "1  {'wikidata_id': 'Q6581097', 'name': 'férfi', '...  \n",
       "2  {'wikidata_id': 'Q17498051', 'name': 'József',...  \n",
       "3  {'time': '+1988-02-02T00:00:00Z', 'timezone': ...  \n",
       "4  {'wikidata_id': 'Q49757', 'name': 'költő', 'de...  "
      ]
     },
     "execution_count": 70,
     "metadata": {},
     "output_type": "execute_result"
    }
   ],
   "source": [
    "triplets = pd.read_json('data/poet_triplets.json')\n",
    "triplets.head()"
   ]
  },
  {
   "cell_type": "code",
   "execution_count": 78,
   "metadata": {},
   "outputs": [],
   "source": [
    "with open('data/freebase_mapping.p', 'rb') as f:\n",
    "    freebase_mapping = pickle.load(f)\n",
    "    \n",
    "freebase_mapping_rev = {v: k for k, v in freebase_mapping.items()}nationality"
   ]
  },
  {
   "cell_type": "code",
   "execution_count": 92,
   "metadata": {},
   "outputs": [],
   "source": [
    "def filter_kg(nodes, edge):\n",
    "    entity_triplets = triplets[triplets.source.apply(lambda d: d['wikidata_id'] in nodes)]\n",
    "    edge_triplets = entity_triplets[entity_triplets.edge.apply(lambda d: d['wikidata_id'] == edge)]\n",
    "    \n",
    "    res = []\n",
    "    if len(edge_triplets):\n",
    "        for d in edge_triplets.destination.tolist():\n",
    "            if 'name' in d:\n",
    "                res.append(d['name'])\n",
    "            else:\n",
    "                res.append(d)\n",
    "    \n",
    "    return res"
   ]
  },
  {
   "cell_type": "code",
   "execution_count": 102,
   "metadata": {},
   "outputs": [],
   "source": [
    "nlp = spacy.blank(\"hu\")\n",
    "source_matcher = FuzzyMatcher(nlp.vocab)\n",
    "\n",
    "sources = []\n",
    "\n",
    "for d in triplets.source.tolist():\n",
    "    tup = (d['wikidata_id'], d['name'])\n",
    "    if tup not in sources:\n",
    "        sources.append(tup)\n",
    "\n",
    "\n",
    "for _id, name in sources:\n",
    "    source_matcher.add(_id, [nlp(name)])\n",
    "\n",
    "\n",
    "def ask_single_hop(text):\n",
    "    doc = nlp(text)\n",
    "    matches = source_matcher(doc)\n",
    "    \n",
    "    vec = vect.transform([text])\n",
    "    freebase_pred = le.inverse_transform(logreg.predict(vec))[0]\n",
    "\n",
    "    source_matches = []\n",
    "    edge_m = freebase_mapping_rev[freebase_pred]\n",
    "\n",
    "    for match_id, start, end, ratio in matches:\n",
    "        source_matches.append((ratio, match_id))\n",
    "\n",
    "    source_matches = sorted(source_matches, reverse=True)\n",
    "        \n",
    "    if source_matches:\n",
    "        source_m = [x[1] for x in source_matches if x[0] >= 80]\n",
    "\n",
    "        return filter_kg(source_m, edge_m)\n",
    "    else:\n",
    "        return []"
   ]
  },
  {
   "cell_type": "code",
   "execution_count": 103,
   "metadata": {},
   "outputs": [
    {
     "data": {
      "text/plain": [
       "['']"
      ]
     },
     "execution_count": 103,
     "metadata": {},
     "output_type": "execute_result"
    }
   ],
   "source": [
    "ask_single_hop('Miben halt meg József Attila?')"
   ]
  },
  {
   "cell_type": "code",
   "execution_count": 104,
   "metadata": {},
   "outputs": [
    {
     "data": {
      "text/plain": [
       "['Balatonszárszó']"
      ]
     },
     "execution_count": 104,
     "metadata": {},
     "output_type": "execute_result"
    }
   ],
   "source": [
    "ask_single_hop('Hol halt meg József Attila?')"
   ]
  },
  {
   "cell_type": "code",
   "execution_count": 111,
   "metadata": {},
   "outputs": [
    {
     "data": {
      "text/plain": [
       "['Magyarország', 'Románia']"
      ]
     },
     "execution_count": 111,
     "metadata": {},
     "output_type": "execute_result"
    }
   ],
   "source": [
    "ask_single_hop('Mi volt József Attila nemzetisége?')"
   ]
  },
  {
   "cell_type": "code",
   "execution_count": 112,
   "metadata": {},
   "outputs": [
    {
     "data": {
      "text/plain": [
       "['Magyarország']"
      ]
     },
     "execution_count": 112,
     "metadata": {},
     "output_type": "execute_result"
    }
   ],
   "source": [
    "ask_single_hop('Milyen nemzetiségű József Attila?')"
   ]
  },
  {
   "cell_type": "code",
   "execution_count": 113,
   "metadata": {},
   "outputs": [
    {
     "data": {
      "text/plain": [
       "['Magyarország']"
      ]
     },
     "execution_count": 113,
     "metadata": {},
     "output_type": "execute_result"
    }
   ],
   "source": [
    "ask_single_hop('Honnan szárzamik József Attila?')"
   ]
  },
  {
   "cell_type": "code",
   "execution_count": 106,
   "metadata": {},
   "outputs": [
    {
     "data": {
      "text/plain": [
       "['költő', 'műfordító', 'színész', 'író']"
      ]
     },
     "execution_count": 106,
     "metadata": {},
     "output_type": "execute_result"
    }
   ],
   "source": [
    "ask_single_hop('Mi Petőfi Sándor foglalkozása?')"
   ]
  },
  {
   "cell_type": "code",
   "execution_count": 108,
   "metadata": {},
   "outputs": [
    {
     "data": {
      "text/plain": [
       "['csatában elesett']"
      ]
     },
     "execution_count": 108,
     "metadata": {},
     "output_type": "execute_result"
    }
   ],
   "source": [
    "ask_single_hop('Miben halt meg Petőfi Sándor?')"
   ]
  },
  {
   "cell_type": "code",
   "execution_count": 109,
   "metadata": {},
   "outputs": [
    {
     "data": {
      "text/plain": [
       "['Fehéregyháza']"
      ]
     },
     "execution_count": 109,
     "metadata": {},
     "output_type": "execute_result"
    }
   ],
   "source": [
    "ask_single_hop('Hol halt meg Petőfi Sándor?')"
   ]
  },
  {
   "cell_type": "code",
   "execution_count": 118,
   "metadata": {},
   "outputs": [
    {
     "data": {
      "text/plain": [
       "[]"
      ]
     },
     "execution_count": 118,
     "metadata": {},
     "output_type": "execute_result"
    }
   ],
   "source": [
    "ask_single_hop('Milyen felekezethez tartozott Petőfi?')"
   ]
  },
  {
   "cell_type": "code",
   "execution_count": 119,
   "metadata": {},
   "outputs": [
    {
     "data": {
      "text/plain": [
       "['evangélikus kereszténység']"
      ]
     },
     "execution_count": 119,
     "metadata": {},
     "output_type": "execute_result"
    }
   ],
   "source": [
    "ask_single_hop('Milyen felekezethez tartozott Petőfi Sándor?')"
   ]
  },
  {
   "cell_type": "code",
   "execution_count": 120,
   "metadata": {},
   "outputs": [
    {
     "data": {
      "text/plain": [
       "['evangélikus kereszténység']"
      ]
     },
     "execution_count": 120,
     "metadata": {},
     "output_type": "execute_result"
    }
   ],
   "source": [
    "ask_single_hop('Mi volt Petőfi Sándor vallása?')"
   ]
  },
  {
   "cell_type": "code",
   "execution_count": 121,
   "metadata": {},
   "outputs": [
    {
     "data": {
      "text/plain": [
       "['férfi', 'férfi', 'férfi']"
      ]
     },
     "execution_count": 121,
     "metadata": {},
     "output_type": "execute_result"
    }
   ],
   "source": [
    "ask_single_hop('Mi Kosztolányi Dezső neme?')"
   ]
  },
  {
   "cell_type": "code",
   "execution_count": 122,
   "metadata": {},
   "outputs": [
    {
     "data": {
      "text/plain": [
       "['férfi', 'férfi', 'férfi']"
      ]
     },
     "execution_count": 122,
     "metadata": {},
     "output_type": "execute_result"
    }
   ],
   "source": [
    "ask_single_hop('Kosztolányi Dezső férfi volt?')"
   ]
  },
  {
   "cell_type": "code",
   "execution_count": null,
   "metadata": {},
   "outputs": [],
   "source": []
  }
 ],
 "metadata": {
  "kernelspec": {
   "display_name": "Python 3",
   "language": "python",
   "name": "python3"
  },
  "language_info": {
   "codemirror_mode": {
    "name": "ipython",
    "version": 3
   },
   "file_extension": ".py",
   "mimetype": "text/x-python",
   "name": "python",
   "nbconvert_exporter": "python",
   "pygments_lexer": "ipython3",
   "version": "3.8.2"
  }
 },
 "nbformat": 4,
 "nbformat_minor": 4
}
