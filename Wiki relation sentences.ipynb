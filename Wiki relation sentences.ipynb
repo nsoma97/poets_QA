{
 "cells": [
  {
   "cell_type": "code",
   "execution_count": 48,
   "metadata": {},
   "outputs": [
    {
     "name": "stdout",
     "output_type": "stream",
     "text": [
      "Defaulting to user installation because normal site-packages is not writeable\n",
      "Collecting wikipedia\n",
      "  Downloading wikipedia-1.4.0.tar.gz (27 kB)\n",
      "Requirement already satisfied: beautifulsoup4 in /home/soma/.local/lib/python3.8/site-packages (from wikipedia) (4.9.3)\n",
      "Requirement already satisfied: requests<3.0.0,>=2.0.0 in /home/soma/.local/lib/python3.8/site-packages (from wikipedia) (2.24.0)\n",
      "Requirement already satisfied: urllib3!=1.25.0,!=1.25.1,<1.26,>=1.21.1 in /usr/lib/python3/dist-packages (from requests<3.0.0,>=2.0.0->wikipedia) (1.25.8)\n",
      "Requirement already satisfied: idna<3,>=2.5 in /usr/local/lib/python3.8/dist-packages (from requests<3.0.0,>=2.0.0->wikipedia) (2.9)\n",
      "Requirement already satisfied: chardet<4,>=3.0.2 in /usr/lib/python3/dist-packages (from requests<3.0.0,>=2.0.0->wikipedia) (3.0.4)\n",
      "Requirement already satisfied: certifi>=2017.4.17 in /usr/lib/python3/dist-packages (from requests<3.0.0,>=2.0.0->wikipedia) (2019.11.28)\n",
      "Requirement already satisfied: soupsieve>1.2 in /home/soma/.local/lib/python3.8/site-packages (from beautifulsoup4->wikipedia) (2.0.1)\n",
      "Building wheels for collected packages: wikipedia\n",
      "  Building wheel for wikipedia (setup.py) ... \u001b[?25ldone\n",
      "\u001b[?25h  Created wheel for wikipedia: filename=wikipedia-1.4.0-py3-none-any.whl size=11685 sha256=7084df376b9901859258a7e7052cd7bbd9ec14d6a63e667239ee405314931911\n",
      "  Stored in directory: /home/soma/.cache/pip/wheels/07/93/05/72c05349177dca2e0ba31a33ba4f7907606f7ddef303517c6a\n",
      "Successfully built wikipedia\n",
      "Installing collected packages: wikipedia\n",
      "Successfully installed wikipedia-1.4.0\n"
     ]
    }
   ],
   "source": [
    "!pip install wikipedia"
   ]
  },
  {
   "cell_type": "code",
   "execution_count": 45,
   "metadata": {},
   "outputs": [],
   "source": [
    "import pandas as pd\n",
    "from wikidata.client import Client\n",
    "import wikipedia\n",
    "\n",
    "import requests\n",
    "from requests import utils\n",
    "from bs4 import BeautifulSoup\n",
    "\n",
    "client = Client()"
   ]
  },
  {
   "cell_type": "code",
   "execution_count": 3,
   "metadata": {},
   "outputs": [
    {
     "data": {
      "text/html": [
       "<div>\n",
       "<style scoped>\n",
       "    .dataframe tbody tr th:only-of-type {\n",
       "        vertical-align: middle;\n",
       "    }\n",
       "\n",
       "    .dataframe tbody tr th {\n",
       "        vertical-align: top;\n",
       "    }\n",
       "\n",
       "    .dataframe thead th {\n",
       "        text-align: right;\n",
       "    }\n",
       "</style>\n",
       "<table border=\"1\" class=\"dataframe\">\n",
       "  <thead>\n",
       "    <tr style=\"text-align: right;\">\n",
       "      <th></th>\n",
       "      <th>source</th>\n",
       "      <th>edge</th>\n",
       "      <th>destination</th>\n",
       "    </tr>\n",
       "  </thead>\n",
       "  <tbody>\n",
       "    <tr>\n",
       "      <th>0</th>\n",
       "      <td>{'name': 'Bencze József', 'wiki_url': '/wiki/B...</td>\n",
       "      <td>{'wikidata_id': 'P31', 'name': 'osztály, amely...</td>\n",
       "      <td>{'wikidata_id': 'Q5', 'name': 'ember', 'descri...</td>\n",
       "    </tr>\n",
       "    <tr>\n",
       "      <th>1</th>\n",
       "      <td>{'name': 'Bencze József', 'wiki_url': '/wiki/B...</td>\n",
       "      <td>{'wikidata_id': 'P21', 'name': 'nem', 'descrip...</td>\n",
       "      <td>{'wikidata_id': 'Q6581097', 'name': 'férfi', '...</td>\n",
       "    </tr>\n",
       "    <tr>\n",
       "      <th>2</th>\n",
       "      <td>{'name': 'Bencze József', 'wiki_url': '/wiki/B...</td>\n",
       "      <td>{'wikidata_id': 'P735', 'name': 'utónév', 'des...</td>\n",
       "      <td>{'wikidata_id': 'Q17498051', 'name': 'József',...</td>\n",
       "    </tr>\n",
       "    <tr>\n",
       "      <th>3</th>\n",
       "      <td>{'name': 'Bencze József', 'wiki_url': '/wiki/B...</td>\n",
       "      <td>{'wikidata_id': 'P570', 'name': 'halálozási id...</td>\n",
       "      <td>{'time': '+1988-02-02T00:00:00Z', 'timezone': ...</td>\n",
       "    </tr>\n",
       "    <tr>\n",
       "      <th>4</th>\n",
       "      <td>{'name': 'Bencze József', 'wiki_url': '/wiki/B...</td>\n",
       "      <td>{'wikidata_id': 'P106', 'name': 'foglalkozás',...</td>\n",
       "      <td>{'wikidata_id': 'Q49757', 'name': 'költő', 'de...</td>\n",
       "    </tr>\n",
       "  </tbody>\n",
       "</table>\n",
       "</div>"
      ],
      "text/plain": [
       "                                              source  \\\n",
       "0  {'name': 'Bencze József', 'wiki_url': '/wiki/B...   \n",
       "1  {'name': 'Bencze József', 'wiki_url': '/wiki/B...   \n",
       "2  {'name': 'Bencze József', 'wiki_url': '/wiki/B...   \n",
       "3  {'name': 'Bencze József', 'wiki_url': '/wiki/B...   \n",
       "4  {'name': 'Bencze József', 'wiki_url': '/wiki/B...   \n",
       "\n",
       "                                                edge  \\\n",
       "0  {'wikidata_id': 'P31', 'name': 'osztály, amely...   \n",
       "1  {'wikidata_id': 'P21', 'name': 'nem', 'descrip...   \n",
       "2  {'wikidata_id': 'P735', 'name': 'utónév', 'des...   \n",
       "3  {'wikidata_id': 'P570', 'name': 'halálozási id...   \n",
       "4  {'wikidata_id': 'P106', 'name': 'foglalkozás',...   \n",
       "\n",
       "                                         destination  \n",
       "0  {'wikidata_id': 'Q5', 'name': 'ember', 'descri...  \n",
       "1  {'wikidata_id': 'Q6581097', 'name': 'férfi', '...  \n",
       "2  {'wikidata_id': 'Q17498051', 'name': 'József',...  \n",
       "3  {'time': '+1988-02-02T00:00:00Z', 'timezone': ...  \n",
       "4  {'wikidata_id': 'Q49757', 'name': 'költő', 'de...  "
      ]
     },
     "execution_count": 3,
     "metadata": {},
     "output_type": "execute_result"
    }
   ],
   "source": [
    "triplets = pd.read_json('data/poet_triplets.json')\n",
    "triplets.head()"
   ]
  },
  {
   "cell_type": "code",
   "execution_count": 38,
   "metadata": {},
   "outputs": [
    {
     "data": {
      "text/plain": [
       "array(['/wiki/Bencze_J%C3%B3zsef_(k%C3%B6lt%C5%91)',\n",
       "       '/wiki/Erg_%C3%81goston', '/wiki/Szokolay_Zolt%C3%A1n', ...,\n",
       "       '/wiki/Bal%C3%A1zs_F._Attila', '/wiki/Babik_J%C3%B3zsef',\n",
       "       '/wiki/Grecs%C3%B3_Kriszti%C3%A1n'], dtype=object)"
      ]
     },
     "execution_count": 38,
     "metadata": {},
     "output_type": "execute_result"
    }
   ],
   "source": [
    "triplets.source.apply(lambda d: d['wiki_url']).unique()"
   ]
  },
  {
   "cell_type": "code",
   "execution_count": 44,
   "metadata": {},
   "outputs": [],
   "source": [
    "res = requests.get('https://hu.wikipedia.org/wiki/Bencze_J%C3%B3zsef_(k%C3%B6lt%C5%91)')"
   ]
  },
  {
   "cell_type": "code",
   "execution_count": 46,
   "metadata": {},
   "outputs": [],
   "source": [
    "soup = BeautifulSoup(res.text)"
   ]
  },
  {
   "cell_type": "code",
   "execution_count": null,
   "metadata": {},
   "outputs": [],
   "source": []
  },
  {
   "cell_type": "code",
   "execution_count": 34,
   "metadata": {},
   "outputs": [],
   "source": [
    "def get_wikipedia_url_from_wikidata_id(wikidata_id, lang='en', debug=False):\n",
    "    \n",
    "\n",
    "    url = (\n",
    "        'https://www.wikidata.org/w/api.php'\n",
    "        '?action=wbgetentities'\n",
    "        '&props=sitelinks/urls'\n",
    "        f'&ids={wikidata_id}'\n",
    "        '&format=json')\n",
    "    json_response = requests.get(url).json()\n",
    "    if debug: print(wikidata_id, url, json_response) \n",
    "\n",
    "    entities = json_response.get('entities')    \n",
    "    if entities:\n",
    "        entity = entities.get(wikidata_id)\n",
    "        if entity:\n",
    "            sitelinks = entity.get('sitelinks')\n",
    "            if sitelinks:\n",
    "                if lang:\n",
    "                    # filter only the specified language\n",
    "                    sitelink = sitelinks.get(f'{lang}wiki')\n",
    "                    if sitelink:\n",
    "                        wiki_url = sitelink.get('url')\n",
    "                        if wiki_url:\n",
    "                            return requests.utils.unquote(wiki_url)\n",
    "                else:\n",
    "                    # return all of the urls\n",
    "                    wiki_urls = {}\n",
    "                    for key, sitelink in sitelinks.items():\n",
    "                        wiki_url = sitelink.get('url')\n",
    "                        if wiki_url:\n",
    "                            wiki_urls[key] = requests.utils.unquote(wiki_url)\n",
    "                    return wiki_urls\n",
    "    return None   "
   ]
  },
  {
   "cell_type": "code",
   "execution_count": 31,
   "metadata": {},
   "outputs": [
    {
     "data": {
      "text/plain": [
       "'https://hu.wikipedia.org/wiki/A_helység_kalapácsa'"
      ]
     },
     "execution_count": 31,
     "metadata": {},
     "output_type": "execute_result"
    }
   ],
   "source": [
    "get_wikipedia_url_from_wikidata_id('Q466479', lang='hu')"
   ]
  },
  {
   "cell_type": "markdown",
   "metadata": {},
   "source": [
    "# TODO\n",
    "- get poet page contents\n",
    "- extract sentences with destination entity match (use aliases), mask destination entity in sentence\n",
    "- create sentence <--> relation database\n",
    "- train relation classifier"
   ]
  },
  {
   "cell_type": "code",
   "execution_count": null,
   "metadata": {},
   "outputs": [],
   "source": []
  }
 ],
 "metadata": {
  "kernelspec": {
   "display_name": "Python 3",
   "language": "python",
   "name": "python3"
  },
  "language_info": {
   "codemirror_mode": {
    "name": "ipython",
    "version": 3
   },
   "file_extension": ".py",
   "mimetype": "text/x-python",
   "name": "python",
   "nbconvert_exporter": "python",
   "pygments_lexer": "ipython3",
   "version": "3.8.2"
  }
 },
 "nbformat": 4,
 "nbformat_minor": 4
}
